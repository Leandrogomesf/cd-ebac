{
 "cells": [
  {
   "cell_type": "markdown",
   "id": "2d48c7c5-a3fa-4664-97f1-c171c6ba4397",
   "metadata": {},
   "source": [
    "### Fórmula de Bhaskara"
   ]
  },
  {
   "cell_type": "markdown",
   "id": "ed81f6fe-80e4-4010-a7e6-ba78b56645f1",
   "metadata": {},
   "source": [
    "A solução para uma função de segundo grau depende das suas raízes (valores de x). Como já vimos, os coeficientes precisam ser números reais e o angular diferente de zero. Sendo assim, temos a seguinte fórmula de Bhaskara:"
   ]
  },
  {
   "cell_type": "markdown",
   "id": "bff79281-6fa5-48ca-bc42-2fe50ee04ffc",
   "metadata": {},
   "source": [
    "### $$x = \\frac{-b \\pm \\sqrt{b^2 - 4.a.c}}{2.a}$$"
   ]
  },
  {
   "cell_type": "markdown",
   "id": "e58e5c9e-134e-4601-b07b-e57b0578a2e8",
   "metadata": {
    "tags": []
   },
   "source": [
    "###### <center> *Fórmula de Bhaskara* <center>\n",
    "    "
   ]
  },
  {
   "cell_type": "markdown",
   "id": "7a0ba083-5838-4f0d-a796-fcbd3f8e5f60",
   "metadata": {},
   "source": [
    "Para melhor compreensão, o seu cálculo é divdio em duas partes: discriminante da equação e operações para determinar as raízes."
   ]
  },
  {
   "cell_type": "markdown",
   "id": "b832bf3a-d585-493f-a3b8-0d3a779ee6c7",
   "metadata": {},
   "source": [
    "#### Discriminante"
   ]
  },
  {
   "cell_type": "markdown",
   "id": "4fc8d61f-ec49-4d82-bfa2-525fd26a19bc",
   "metadata": {},
   "source": [
    "A figura dentra da raiz na fórmula de Bhaskara é nomeada de discriminante. Seu símbolo é a letra grega delta e apresenta a determinada fórmula:"
   ]
  },
  {
   "cell_type": "markdown",
   "id": "a9355d84-be29-4942-b85c-eba163b3174e",
   "metadata": {},
   "source": [
    "### $$\\Delta = b^2-4.a.c$$"
   ]
  },
  {
   "cell_type": "markdown",
   "id": "7874971d-33cb-4f0f-81e1-ada8910b38ea",
   "metadata": {},
   "source": [
    "###### <center> Fórmula discriminante. <center>"
   ]
  },
  {
   "cell_type": "markdown",
   "id": "221735a2-2221-4fba-b8fe-64e0ce41f821",
   "metadata": {},
   "source": [
    "- Se o delta for maior que zero, a equação terá dois valores reais e distintos.\n",
    "- Se o delta for igual a zero, a equação terá somente um valor real ou dois resultados iguais.\n",
    "- Se o delta for menor que zero, a equação não possuirá valores reais."
   ]
  },
  {
   "cell_type": "markdown",
   "id": "dd6674d3-4dee-4ba3-ba6f-e4224200cc9f",
   "metadata": {},
   "source": [
    "Portanto, é fundamental o valor de delta para definir as raízes de uma função do segundo grau. Substituindo o discriminante e os coeficientes, a fórmula de Bhaskara ficará dessa forma:"
   ]
  },
  {
   "cell_type": "markdown",
   "id": "b2e71e83-9014-4a3f-a51d-62319f259f7c",
   "metadata": {
    "tags": []
   },
   "source": [
    "### $$ x = \\frac {-b \\pm \\sqrt{\\Delta}}{2.a}$$"
   ]
  }
 ],
 "metadata": {
  "kernelspec": {
   "display_name": "Python 3 (ipykernel)",
   "language": "python",
   "name": "python3"
  },
  "language_info": {
   "codemirror_mode": {
    "name": "ipython",
    "version": 3
   },
   "file_extension": ".py",
   "mimetype": "text/x-python",
   "name": "python",
   "nbconvert_exporter": "python",
   "pygments_lexer": "ipython3",
   "version": "3.11.4"
  }
 },
 "nbformat": 4,
 "nbformat_minor": 5
}
