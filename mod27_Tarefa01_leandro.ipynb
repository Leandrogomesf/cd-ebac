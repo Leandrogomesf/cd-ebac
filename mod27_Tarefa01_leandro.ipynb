{
 "cells": [
  {
   "cell_type": "markdown",
   "metadata": {},
   "source": [
    "![Cabec%CC%A7alho_notebook.png](cabecalho_notebook.png)"
   ]
  },
  {
   "cell_type": "markdown",
   "metadata": {},
   "source": [
    "# PCA - Tarefa 01: *HAR* com PCA\n",
    "\n",
    "Vamos trabalhar com a base da demonstração feita em aula, mas vamos explorar um pouco melhor como é o desempenho da árvore variando o número de componentes principais."
   ]
  },
  {
   "cell_type": "code",
   "execution_count": 11,
   "metadata": {
    "tags": []
   },
   "outputs": [],
   "source": [
    "import pandas as pd\n",
    "import numpy as np\n",
    "\n",
    "from sklearn.tree import DecisionTreeClassifier\n",
    "\n",
    "from sklearn.decomposition import PCA\n",
    "from sklearn.metrics import accuracy_score\n",
    "from sklearn.model_selection import cross_val_score\n",
    "from sklearn.model_selection import GridSearchCV\n",
    "\n",
    "filename_features = './Dados/UCI HAR Dataset/features.txt'\n",
    "filename_labels = \"./Dados/UCI HAR Dataset/activity_labels.txt\"\n",
    "\n",
    "filename_subtrain = \"./Dados/UCI HAR Dataset/train/subject_train.txt\"\n",
    "filename_xtrain = \"./Dados/UCI HAR Dataset/train/X_train.txt\"\n",
    "filename_ytrain = \"./Dados/UCI HAR Dataset/train/y_train.txt\"\n",
    "\n",
    "filename_subtest = \"./Dados/UCI HAR Dataset/test/subject_test.txt\"\n",
    "ffilename_xtest = \"./Dados/UCI HAR Dataset/test/X_test.txt\"\n",
    "filename_ytest = \"./Dados/UCI HAR Dataset/test/y_test.txt\"\n",
    "\n",
    "features = pd.read_csv(filename_features, header=None, names=['nome_var'], sep=\"#\").squeeze()\n",
    "labels = pd.read_csv(filename_labels, delim_whitespace=True, header=None, names=['cod_label', 'label'])\n",
    "\n",
    "subject_train = pd.read_csv(filename_subtrain, header=None, names=['subject_id']).squeeze()\n",
    "X_train = pd.read_csv(filename_xtrain, delim_whitespace=True, header=None, names=features.tolist())\n",
    "y_train = pd.read_csv(filename_ytrain, header=None, names=['cod_label'])\n",
    "\n",
    "subject_test = pd.read_csv(filename_subtest, header=None, names=['subject_id']).squeeze()\n",
    "X_test = pd.read_csv(ffilename_xtest, delim_whitespace=True, header=None, names=features.tolist())\n",
    "y_test = pd.read_csv(filename_ytest, header=None, names=['cod_label'])\n",
    "\n",
    "# alterei alguns nomes e métodos para funcionar melhor.\n",
    "# o parâmetro squeeze parece não existir mais dentro do método ```pd.read_csv```portanto, coloquei-o  no encadeamento para rodar."
   ]
  },
  {
   "cell_type": "code",
   "execution_count": 89,
   "metadata": {
    "tags": []
   },
   "outputs": [
    {
     "data": {
      "text/plain": [
       "(7352, 561)"
      ]
     },
     "execution_count": 89,
     "metadata": {},
     "output_type": "execute_result"
    }
   ],
   "source": [
    "X_train.shape # 561 variáveis no original"
   ]
  },
  {
   "cell_type": "markdown",
   "metadata": {},
   "source": [
    "## Árvore de decisão\n",
    "\n",
    "Rode uma árvore de decisão com todas as variáveis, utilizando o ```ccp_alpha=0.001```. Avalie a acurácia nas bases de treinamento e teste. Avalie o tempo de processamento."
   ]
  },
  {
   "cell_type": "code",
   "execution_count": 40,
   "metadata": {
    "tags": []
   },
   "outputs": [
    {
     "name": "stdout",
     "output_type": "stream",
     "text": [
      "Acurácia da melhor árvore na base de treino:    97.6\n",
      "Acurácia da melhor árvore na base de teste:     88.0\n",
      "CPU times: total: 8.66 s\n",
      "Wall time: 8.73 s\n"
     ]
    }
   ],
   "source": [
    "%%time\n",
    "# criando árvore com os parâmetros solicitados de alpha = o.oo1 e fitando com a base de treino\n",
    "tree = DecisionTreeClassifier(random_state=1234, ccp_alpha=0.001).fit(X_train, y_train)\n",
    "\n",
    "# visualizando a acurácia\n",
    "train_score = tree.score(X_train, y_train)\n",
    "test_score = tree.score(X_test, y_test)\n",
    "\n",
    "print(f'Acurácia da melhor árvore na base de treino:    {train_score*100:.1f}')\n",
    "print(f'Acurácia da melhor árvore na base de teste:     {test_score *100:.1f}')"
   ]
  },
  {
   "cell_type": "markdown",
   "metadata": {},
   "source": [
    "> O tempo de processamento foi curto se comparado a outras bases de dados, somente 8.66 s.\n",
    "\n",
    "> A acurácia está alta para ambos treino e teste."
   ]
  },
  {
   "cell_type": "markdown",
   "metadata": {},
   "source": [
    "## Árvore com PCA\n",
    "\n",
    "Faça uma análise de componemtes principais das variáveis originais. Utilize apenas uma componente. Faça uma árvore de decisão com esta componente como variável explicativa.\n",
    "\n",
    "- Avalie a acurácia nas bases de treinamento e teste\n",
    "- Avalie o tempo de processamento"
   ]
  },
  {
   "cell_type": "code",
   "execution_count": 38,
   "metadata": {
    "tags": []
   },
   "outputs": [
    {
     "name": "stdout",
     "output_type": "stream",
     "text": [
      "(7352, 1)\n",
      "CPU times: total: 500 ms\n",
      "Wall time: 144 ms\n"
     ]
    }
   ],
   "source": [
    "%%time\n",
    "\n",
    "# PCA com 1 componente\n",
    "prcomp = PCA(n_components=1).fit(X_train)\n",
    "\n",
    "pc_treino = prcomp.transform(X_train)\n",
    "pc_teste  = prcomp.transform(X_test)\n",
    "\n",
    "print(pc_treino.shape)"
   ]
  },
  {
   "cell_type": "code",
   "execution_count": 36,
   "metadata": {
    "tags": []
   },
   "outputs": [
    {
     "data": {
      "text/html": [
       "<div>\n",
       "<style scoped>\n",
       "    .dataframe tbody tr th:only-of-type {\n",
       "        vertical-align: middle;\n",
       "    }\n",
       "\n",
       "    .dataframe tbody tr th {\n",
       "        vertical-align: top;\n",
       "    }\n",
       "\n",
       "    .dataframe thead th {\n",
       "        text-align: right;\n",
       "    }\n",
       "</style>\n",
       "<table border=\"1\" class=\"dataframe\">\n",
       "  <thead>\n",
       "    <tr style=\"text-align: right;\">\n",
       "      <th></th>\n",
       "      <th>cp1</th>\n",
       "    </tr>\n",
       "  </thead>\n",
       "  <tbody>\n",
       "    <tr>\n",
       "      <th>0</th>\n",
       "      <td>-5.520280</td>\n",
       "    </tr>\n",
       "    <tr>\n",
       "      <th>1</th>\n",
       "      <td>-5.535350</td>\n",
       "    </tr>\n",
       "    <tr>\n",
       "      <th>2</th>\n",
       "      <td>-5.474988</td>\n",
       "    </tr>\n",
       "    <tr>\n",
       "      <th>3</th>\n",
       "      <td>-5.677232</td>\n",
       "    </tr>\n",
       "    <tr>\n",
       "      <th>4</th>\n",
       "      <td>-5.748749</td>\n",
       "    </tr>\n",
       "  </tbody>\n",
       "</table>\n",
       "</div>"
      ],
      "text/plain": [
       "        cp1\n",
       "0 -5.520280\n",
       "1 -5.535350\n",
       "2 -5.474988\n",
       "3 -5.677232\n",
       "4 -5.748749"
      ]
     },
     "execution_count": 36,
     "metadata": {},
     "output_type": "execute_result"
    }
   ],
   "source": [
    "# definindo a quantidade de componentes que necessitam de nomes de colunas\n",
    "n=1\n",
    "\n",
    "# criando o nome das colunas com um loop\n",
    "colunas = ['cp'+str(x+1) for x in list(range(n))]\n",
    "\n",
    "# aplicando o nome nas colunas e criando a DF com apenas o componente escolhido \n",
    "pc_train = pd.DataFrame(pc_treino[:,:n], columns = colunas)\n",
    "pc_test  = pd.DataFrame( pc_teste[:,:n], columns = colunas)\n",
    "\n",
    "\n",
    "pc_train.head()"
   ]
  },
  {
   "cell_type": "code",
   "execution_count": 37,
   "metadata": {
    "tags": []
   },
   "outputs": [],
   "source": [
    "# criando nova árvore classificatória\n",
    "# Usei o mesmo ccp_alpha para criar esta árvore classificada.\n",
    "# Fit na árvore com o pc_train que vem com a DF que sofreu o PCA como variável explicativa\n",
    "\n",
    "clf = DecisionTreeClassifier(random_state=1234, ccp_alpha=0.001).fit(pc_train, y_train)"
   ]
  },
  {
   "cell_type": "code",
   "execution_count": 43,
   "metadata": {
    "tags": []
   },
   "outputs": [
    {
     "name": "stdout",
     "output_type": "stream",
     "text": [
      "Acurácia da melhor árvore na base de treino:    97.6\n",
      "Acurácia da melhor árvore na base de treino com PCA:    50.0\n",
      "Acurácia da melhor árvore na base de teste:     88.0\n",
      "Acurácia da melhor árvore na base de teste com PCA:     45.7\n"
     ]
    }
   ],
   "source": [
    "# Avaliando a nova acurácia\n",
    "\n",
    "train_score_pca = clf.score(pc_train, y_train)\n",
    "test_score_pca = clf.score(pc_test, y_test)\n",
    "\n",
    "print(f'Acurácia da melhor árvore na base de treino:    {train_score*100:.1f}')\n",
    "print(f'Acurácia da melhor árvore na base de treino com PCA:    {train_score_pca*100:.1f}')\n",
    "print(f'Acurácia da melhor árvore na base de teste:     {test_score *100:.1f}')\n",
    "print(f'Acurácia da melhor árvore na base de teste com PCA:     {test_score_pca *100:.1f}')"
   ]
  },
  {
   "cell_type": "markdown",
   "metadata": {},
   "source": [
    "> O tempo de processamento caiu bastante, deixando o processo muito mais rápido.\n",
    "\n",
    "> No entanto, com o componente único, a acurácia diminuiu em ambas bases."
   ]
  },
  {
   "cell_type": "markdown",
   "metadata": {},
   "source": [
    "## Testando o número de componentes\n",
    "\n",
    "Com base no código acima, teste a árvore de classificação com pelo menos as seguintes possibilidades de quantidades de componentes: ```[1, 2, 5, 10, 50]```. Avalie para cada uma delas:\n",
    "\n",
    "- Acurácia nas bases de treino e teste\n",
    "- Tempo de processamento\n"
   ]
  },
  {
   "cell_type": "code",
   "execution_count": 88,
   "metadata": {
    "tags": []
   },
   "outputs": [
    {
     "name": "stdout",
     "output_type": "stream",
     "text": [
      "Acurácia base de treino, componentes = 1:    50.0\n",
      "Acurácia base de teste, componentes = 1:     45.7\n",
      "--\n",
      "Acurácia base de treino, componentes = 2:    61.3\n",
      "Acurácia base de teste, componentes = 2:     58.5\n",
      "--\n",
      "Acurácia base de treino, componentes = 5:    84.6\n",
      "Acurácia base de teste, componentes = 5:     78.9\n",
      "--\n",
      "Acurácia base de treino, componentes = 10:    89.3\n",
      "Acurácia base de teste, componentes = 10:     82.3\n",
      "--\n",
      "Acurácia base de treino, componentes = 50:    92.1\n",
      "Acurácia base de teste, componentes = 50:     82.3\n",
      "--\n",
      "Acurácia original na base de treino:    97.6\n",
      "Acurácia original na base de teste:     88.0\n",
      "CPU times: total: 7.83 s\n",
      "Wall time: 2.3 s\n"
     ]
    }
   ],
   "source": [
    "%%time\n",
    "\n",
    "# grid search com a lista de componentes desejada\n",
    "\n",
    "cmpts = [1, 2, 5, 10, 50]\n",
    "\n",
    "for cmpt in cmpts:\n",
    "    prcomp = PCA(n_components=cmpt).fit(X_train) \n",
    "    pc_treino = prcomp.transform(X_train)\n",
    "    pc_teste  = prcomp.transform(X_test)\n",
    "\n",
    "    # criando o nome das colunas com um loop\n",
    "    n = int(cmpt)\n",
    "    colunas = ['cp'+str(x+1) for x in list(range(n))]\n",
    "\n",
    "    # aplicando o nome nas colunas e criando a DF com apenas o componente escolhido \n",
    "    pc_train = pd.DataFrame(pc_treino[:,:n], columns = colunas)\n",
    "    pc_test  = pd.DataFrame( pc_teste[:,:n], columns = colunas)\n",
    "    \n",
    "    #criando e fitando a árvore na base pc com a quantidade de componentes desejada\n",
    "    # mantendo o mesmo alpha e mesmo randon_state\n",
    "    clf = DecisionTreeClassifier(random_state=1234, ccp_alpha=0.001).fit(pc_train, y_train)\n",
    "\n",
    "    # obtendo a acurácia de cada uma das árvores com seus respectivos componentes\n",
    "    train_score_pca = clf.score(pc_train, y_train)\n",
    "    test_score_pca = clf.score(pc_test, y_test)\n",
    "\n",
    "    print(f'Acurácia base de treino, componentes = {cmpt}:    {train_score_pca*100:.1f}')\n",
    "    print(f'Acurácia base de teste, componentes = {cmpt}:     {test_score_pca *100:.1f}')\n",
    "    print(f'--')\n",
    "    \n",
    "print(f'561 componentes')\n",
    "print(f'Acurácia original na base de treino:    {train_score*100:.1f}')\n",
    "print(f'Acurácia original na base de teste:     {test_score *100:.1f}')\n",
    "    "
   ]
  },
  {
   "cell_type": "markdown",
   "metadata": {},
   "source": [
    "## Conclua\n",
    "\n",
    "- O que aconteceu com a acurácia?\n",
    "- O que aconteceu com o tempo de processamento?"
   ]
  },
  {
   "cell_type": "markdown",
   "metadata": {},
   "source": [
    "> Todas as acurácias são inferiores a da base original (que possui 561 componentes).\n",
    "\n",
    "> EM relação ao grid search. A acurácia, em ambas as bases, aumentou na medida em que os componentes aumentaram. no Entanto, entre 10 ou 50 componentes não há variação na base de teste. Ambos pontuaram 82.3.\n",
    "\n",
    "> O tempo de processamento foi reduzido. COntudo, como a estratégia adotada foi de grid search, fica difícil avaliar o tempo para cada possibilidade da lista de componentes."
   ]
  }
 ],
 "metadata": {
  "kernelspec": {
   "display_name": "Python 3 (ipykernel)",
   "language": "python",
   "name": "python3"
  },
  "language_info": {
   "codemirror_mode": {
    "name": "ipython",
    "version": 3
   },
   "file_extension": ".py",
   "mimetype": "text/x-python",
   "name": "python",
   "nbconvert_exporter": "python",
   "pygments_lexer": "ipython3",
   "version": "3.11.5"
  },
  "toc": {
   "base_numbering": 1,
   "nav_menu": {},
   "number_sections": true,
   "sideBar": true,
   "skip_h1_title": true,
   "title_cell": "Índice",
   "title_sidebar": "Conteúdo",
   "toc_cell": false,
   "toc_position": {},
   "toc_section_display": true,
   "toc_window_display": false
  },
  "varInspector": {
   "cols": {
    "lenName": 16,
    "lenType": 16,
    "lenVar": 40
   },
   "kernels_config": {
    "python": {
     "delete_cmd_postfix": "",
     "delete_cmd_prefix": "del ",
     "library": "var_list.py",
     "varRefreshCmd": "print(var_dic_list())"
    },
    "r": {
     "delete_cmd_postfix": ") ",
     "delete_cmd_prefix": "rm(",
     "library": "var_list.r",
     "varRefreshCmd": "cat(var_dic_list()) "
    }
   },
   "types_to_exclude": [
    "module",
    "function",
    "builtin_function_or_method",
    "instance",
    "_Feature"
   ],
   "window_display": false
  }
 },
 "nbformat": 4,
 "nbformat_minor": 4
}
