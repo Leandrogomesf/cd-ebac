{
 "cells": [
  {
   "cell_type": "markdown",
   "metadata": {},
   "source": [
    "# Livro para consulta:\n",
    "- https://jakevdp.github.io/PythonDataScienceHandbook/03.08-aggregation-and-grouping.html\n",
    "- https://jakevdp.github.io/PythonDataScienceHandbook/03.09-pivot-tables.html\n",
    "    "
   ]
  },
  {
   "cell_type": "markdown",
   "metadata": {},
   "source": [
    "# 1. Importando bibliotecas <a name=\"import\"></a>\n",
    "\n",
    "<div style=\"text-align: right\"\n",
    "     \n",
    "[Voltar ao índice](#Contents)"
   ]
  },
  {
   "cell_type": "code",
   "execution_count": 1,
   "metadata": {
    "ExecuteTime": {
     "end_time": "2021-06-06T21:12:37.298706Z",
     "start_time": "2021-06-06T21:12:36.656481Z"
    }
   },
   "outputs": [],
   "source": [
    "import numpy as np\n",
    "import pandas as pd\n",
    "import seaborn as sns\n",
    "import matplotlib.pyplot as plt\n",
    "\n",
    "%matplotlib inline"
   ]
  },
  {
   "cell_type": "code",
   "execution_count": 2,
   "metadata": {},
   "outputs": [],
   "source": [
    "from itertools import cycle, islice"
   ]
  },
  {
   "cell_type": "markdown",
   "metadata": {},
   "source": [
    "# 2. Carregando o dataframe SINASC <a name=\"read\"></a>\n",
    "<div style=\"text-align: right\"\n",
    "     \n",
    "[Voltar ao índice](#Contents)"
   ]
  },
  {
   "cell_type": "code",
   "execution_count": 3,
   "metadata": {
    "ExecuteTime": {
     "end_time": "2021-06-06T21:12:37.762376Z",
     "start_time": "2021-06-06T21:12:37.728383Z"
    },
    "scrolled": true
   },
   "outputs": [
    {
     "data": {
      "text/html": [
       "<div>\n",
       "<style scoped>\n",
       "    .dataframe tbody tr th:only-of-type {\n",
       "        vertical-align: middle;\n",
       "    }\n",
       "\n",
       "    .dataframe tbody tr th {\n",
       "        vertical-align: top;\n",
       "    }\n",
       "\n",
       "    .dataframe thead th {\n",
       "        text-align: right;\n",
       "    }\n",
       "</style>\n",
       "<table border=\"1\" class=\"dataframe\">\n",
       "  <thead>\n",
       "    <tr style=\"text-align: right;\">\n",
       "      <th></th>\n",
       "      <th>ORIGEM</th>\n",
       "      <th>CODESTAB</th>\n",
       "      <th>CODMUNNASC</th>\n",
       "      <th>LOCNASC</th>\n",
       "      <th>IDADEMAE</th>\n",
       "      <th>ESTCIVMAE</th>\n",
       "      <th>ESCMAE</th>\n",
       "      <th>CODOCUPMAE</th>\n",
       "      <th>QTDFILVIVO</th>\n",
       "      <th>QTDFILMORT</th>\n",
       "      <th>...</th>\n",
       "      <th>KOTELCHUCK</th>\n",
       "      <th>CONTADOR</th>\n",
       "      <th>munResStatus</th>\n",
       "      <th>munResTipo</th>\n",
       "      <th>munResNome</th>\n",
       "      <th>munResUf</th>\n",
       "      <th>munResLat</th>\n",
       "      <th>munResLon</th>\n",
       "      <th>munResAlt</th>\n",
       "      <th>munResArea</th>\n",
       "    </tr>\n",
       "  </thead>\n",
       "  <tbody>\n",
       "    <tr>\n",
       "      <th>0</th>\n",
       "      <td>1</td>\n",
       "      <td>2679477.0</td>\n",
       "      <td>110001</td>\n",
       "      <td>1</td>\n",
       "      <td>19</td>\n",
       "      <td>5.0</td>\n",
       "      <td>8 a 11 anos</td>\n",
       "      <td>NaN</td>\n",
       "      <td>0.0</td>\n",
       "      <td>0.0</td>\n",
       "      <td>...</td>\n",
       "      <td>5</td>\n",
       "      <td>1</td>\n",
       "      <td>ATIVO</td>\n",
       "      <td>MUNIC</td>\n",
       "      <td>Alta Floresta D'Oeste</td>\n",
       "      <td>Rondônia</td>\n",
       "      <td>-11.93554</td>\n",
       "      <td>-61.99982</td>\n",
       "      <td>338.0</td>\n",
       "      <td>7067.025</td>\n",
       "    </tr>\n",
       "    <tr>\n",
       "      <th>1</th>\n",
       "      <td>1</td>\n",
       "      <td>2679477.0</td>\n",
       "      <td>110001</td>\n",
       "      <td>1</td>\n",
       "      <td>29</td>\n",
       "      <td>2.0</td>\n",
       "      <td>8 a 11 anos</td>\n",
       "      <td>999992.0</td>\n",
       "      <td>1.0</td>\n",
       "      <td>0.0</td>\n",
       "      <td>...</td>\n",
       "      <td>5</td>\n",
       "      <td>2</td>\n",
       "      <td>ATIVO</td>\n",
       "      <td>MUNIC</td>\n",
       "      <td>Alta Floresta D'Oeste</td>\n",
       "      <td>Rondônia</td>\n",
       "      <td>-11.93554</td>\n",
       "      <td>-61.99982</td>\n",
       "      <td>338.0</td>\n",
       "      <td>7067.025</td>\n",
       "    </tr>\n",
       "    <tr>\n",
       "      <th>2</th>\n",
       "      <td>1</td>\n",
       "      <td>2679477.0</td>\n",
       "      <td>110001</td>\n",
       "      <td>1</td>\n",
       "      <td>37</td>\n",
       "      <td>9.0</td>\n",
       "      <td>8 a 11 anos</td>\n",
       "      <td>513205.0</td>\n",
       "      <td>2.0</td>\n",
       "      <td>0.0</td>\n",
       "      <td>...</td>\n",
       "      <td>5</td>\n",
       "      <td>3</td>\n",
       "      <td>ATIVO</td>\n",
       "      <td>MUNIC</td>\n",
       "      <td>Alta Floresta D'Oeste</td>\n",
       "      <td>Rondônia</td>\n",
       "      <td>-11.93554</td>\n",
       "      <td>-61.99982</td>\n",
       "      <td>338.0</td>\n",
       "      <td>7067.025</td>\n",
       "    </tr>\n",
       "    <tr>\n",
       "      <th>3</th>\n",
       "      <td>1</td>\n",
       "      <td>2516500.0</td>\n",
       "      <td>110001</td>\n",
       "      <td>1</td>\n",
       "      <td>30</td>\n",
       "      <td>5.0</td>\n",
       "      <td>12 anos ou mais</td>\n",
       "      <td>231205.0</td>\n",
       "      <td>0.0</td>\n",
       "      <td>0.0</td>\n",
       "      <td>...</td>\n",
       "      <td>4</td>\n",
       "      <td>4</td>\n",
       "      <td>ATIVO</td>\n",
       "      <td>MUNIC</td>\n",
       "      <td>Alto Alegre dos Parecis</td>\n",
       "      <td>Rondônia</td>\n",
       "      <td>-12.13178</td>\n",
       "      <td>-61.85308</td>\n",
       "      <td>397.0</td>\n",
       "      <td>3958.273</td>\n",
       "    </tr>\n",
       "    <tr>\n",
       "      <th>4</th>\n",
       "      <td>1</td>\n",
       "      <td>2516500.0</td>\n",
       "      <td>110001</td>\n",
       "      <td>1</td>\n",
       "      <td>30</td>\n",
       "      <td>2.0</td>\n",
       "      <td>8 a 11 anos</td>\n",
       "      <td>999992.0</td>\n",
       "      <td>1.0</td>\n",
       "      <td>0.0</td>\n",
       "      <td>...</td>\n",
       "      <td>5</td>\n",
       "      <td>5</td>\n",
       "      <td>ATIVO</td>\n",
       "      <td>MUNIC</td>\n",
       "      <td>Alta Floresta D'Oeste</td>\n",
       "      <td>Rondônia</td>\n",
       "      <td>-11.93554</td>\n",
       "      <td>-61.99982</td>\n",
       "      <td>338.0</td>\n",
       "      <td>7067.025</td>\n",
       "    </tr>\n",
       "  </tbody>\n",
       "</table>\n",
       "<p>5 rows × 69 columns</p>\n",
       "</div>"
      ],
      "text/plain": [
       "   ORIGEM   CODESTAB  CODMUNNASC  LOCNASC  IDADEMAE  ESTCIVMAE  \\\n",
       "0       1  2679477.0      110001        1        19        5.0   \n",
       "1       1  2679477.0      110001        1        29        2.0   \n",
       "2       1  2679477.0      110001        1        37        9.0   \n",
       "3       1  2516500.0      110001        1        30        5.0   \n",
       "4       1  2516500.0      110001        1        30        2.0   \n",
       "\n",
       "            ESCMAE  CODOCUPMAE  QTDFILVIVO  QTDFILMORT  ...  KOTELCHUCK  \\\n",
       "0      8 a 11 anos         NaN         0.0         0.0  ...           5   \n",
       "1      8 a 11 anos    999992.0         1.0         0.0  ...           5   \n",
       "2      8 a 11 anos    513205.0         2.0         0.0  ...           5   \n",
       "3  12 anos ou mais    231205.0         0.0         0.0  ...           4   \n",
       "4      8 a 11 anos    999992.0         1.0         0.0  ...           5   \n",
       "\n",
       "  CONTADOR munResStatus munResTipo               munResNome  munResUf  \\\n",
       "0        1        ATIVO      MUNIC    Alta Floresta D'Oeste  Rondônia   \n",
       "1        2        ATIVO      MUNIC    Alta Floresta D'Oeste  Rondônia   \n",
       "2        3        ATIVO      MUNIC    Alta Floresta D'Oeste  Rondônia   \n",
       "3        4        ATIVO      MUNIC  Alto Alegre dos Parecis  Rondônia   \n",
       "4        5        ATIVO      MUNIC    Alta Floresta D'Oeste  Rondônia   \n",
       "\n",
       "   munResLat munResLon  munResAlt  munResArea  \n",
       "0  -11.93554 -61.99982      338.0    7067.025  \n",
       "1  -11.93554 -61.99982      338.0    7067.025  \n",
       "2  -11.93554 -61.99982      338.0    7067.025  \n",
       "3  -12.13178 -61.85308      397.0    3958.273  \n",
       "4  -11.93554 -61.99982      338.0    7067.025  \n",
       "\n",
       "[5 rows x 69 columns]"
      ]
     },
     "execution_count": 3,
     "metadata": {},
     "output_type": "execute_result"
    }
   ],
   "source": [
    "sinasc_raw = pd.read_csv('SINASC_RO_2019.csv')\n",
    "sinasc_raw.head()"
   ]
  },
  {
   "cell_type": "code",
   "execution_count": 4,
   "metadata": {},
   "outputs": [
    {
     "name": "stdout",
     "output_type": "stream",
     "text": [
      "<class 'pandas.core.frame.DataFrame'>\n",
      "RangeIndex: 27028 entries, 0 to 27027\n",
      "Data columns (total 69 columns):\n",
      " #   Column        Non-Null Count  Dtype  \n",
      "---  ------        --------------  -----  \n",
      " 0   ORIGEM        27028 non-null  int64  \n",
      " 1   CODESTAB      26913 non-null  float64\n",
      " 2   CODMUNNASC    27028 non-null  int64  \n",
      " 3   LOCNASC       27028 non-null  int64  \n",
      " 4   IDADEMAE      27028 non-null  int64  \n",
      " 5   ESTCIVMAE     26711 non-null  float64\n",
      " 6   ESCMAE        26716 non-null  object \n",
      " 7   CODOCUPMAE    24121 non-null  float64\n",
      " 8   QTDFILVIVO    25455 non-null  float64\n",
      " 9   QTDFILMORT    24930 non-null  float64\n",
      " 10  CODMUNRES     27028 non-null  int64  \n",
      " 11  GESTACAO      25796 non-null  object \n",
      " 12  GRAVIDEZ      26949 non-null  object \n",
      " 13  PARTO         26979 non-null  object \n",
      " 14  CONSULTAS     27028 non-null  int64  \n",
      " 15  DTNASC        27028 non-null  object \n",
      " 16  HORANASC      27007 non-null  float64\n",
      " 17  SEXO          27024 non-null  object \n",
      " 18  APGAR1        26932 non-null  float64\n",
      " 19  APGAR5        26925 non-null  float64\n",
      " 20  RACACOR       26381 non-null  object \n",
      " 21  PESO          27028 non-null  int64  \n",
      " 22  IDANOMAL      26437 non-null  float64\n",
      " 23  DTCADASTRO    27028 non-null  object \n",
      " 24  CODANOMAL     214 non-null    object \n",
      " 25  NUMEROLOTE    27028 non-null  int64  \n",
      " 26  VERSAOSIST    27028 non-null  object \n",
      " 27  DTRECEBIM     27028 non-null  object \n",
      " 28  DIFDATA       27028 non-null  int64  \n",
      " 29  DTRECORIGA    0 non-null      float64\n",
      " 30  NATURALMAE    26730 non-null  float64\n",
      " 31  CODMUNNATU    26730 non-null  float64\n",
      " 32  CODUFNATU     26730 non-null  float64\n",
      " 33  ESCMAE2010    26779 non-null  float64\n",
      " 34  SERIESCMAE    14318 non-null  float64\n",
      " 35  DTNASCMAE     26988 non-null  float64\n",
      " 36  RACACORMAE    26367 non-null  float64\n",
      " 37  QTDGESTANT    25816 non-null  float64\n",
      " 38  QTDPARTNOR    25149 non-null  float64\n",
      " 39  QTDPARTCES    25237 non-null  float64\n",
      " 40  IDADEPAI      7607 non-null   float64\n",
      " 41  DTULTMENST    16956 non-null  float64\n",
      " 42  SEMAGESTAC    25790 non-null  float64\n",
      " 43  TPMETESTIM    25790 non-null  float64\n",
      " 44  CONSPRENAT    26098 non-null  float64\n",
      " 45  MESPRENAT     24161 non-null  float64\n",
      " 46  TPAPRESENT    26763 non-null  float64\n",
      " 47  STTRABPART    26081 non-null  float64\n",
      " 48  STCESPARTO    26281 non-null  float64\n",
      " 49  TPNASCASSI    26967 non-null  float64\n",
      " 50  TPFUNCRESP    26961 non-null  float64\n",
      " 51  TPDOCRESP     27014 non-null  float64\n",
      " 52  DTDECLARAC    26976 non-null  float64\n",
      " 53  ESCMAEAGR1    26779 non-null  float64\n",
      " 54  STDNEPIDEM    27028 non-null  int64  \n",
      " 55  STDNNOVA      27028 non-null  int64  \n",
      " 56  CODPAISRES    27028 non-null  int64  \n",
      " 57  TPROBSON      27028 non-null  int64  \n",
      " 58  PARIDADE      27028 non-null  int64  \n",
      " 59  KOTELCHUCK    27028 non-null  int64  \n",
      " 60  CONTADOR      27028 non-null  int64  \n",
      " 61  munResStatus  27028 non-null  object \n",
      " 62  munResTipo    27028 non-null  object \n",
      " 63  munResNome    27028 non-null  object \n",
      " 64  munResUf      27028 non-null  object \n",
      " 65  munResLat     27027 non-null  float64\n",
      " 66  munResLon     27027 non-null  float64\n",
      " 67  munResAlt     27027 non-null  float64\n",
      " 68  munResArea    27027 non-null  float64\n",
      "dtypes: float64(38), int64(16), object(15)\n",
      "memory usage: 14.2+ MB\n"
     ]
    }
   ],
   "source": [
    "sinasc_raw.info()"
   ]
  },
  {
   "cell_type": "code",
   "execution_count": null,
   "metadata": {},
   "outputs": [],
   "source": []
  },
  {
   "cell_type": "code",
   "execution_count": 19,
   "metadata": {},
   "outputs": [
    {
     "data": {
      "text/html": [
       "<div>\n",
       "<style scoped>\n",
       "    .dataframe tbody tr th:only-of-type {\n",
       "        vertical-align: middle;\n",
       "    }\n",
       "\n",
       "    .dataframe tbody tr th {\n",
       "        vertical-align: top;\n",
       "    }\n",
       "\n",
       "    .dataframe thead th {\n",
       "        text-align: right;\n",
       "    }\n",
       "</style>\n",
       "<table border=\"1\" class=\"dataframe\">\n",
       "  <thead>\n",
       "    <tr style=\"text-align: right;\">\n",
       "      <th></th>\n",
       "      <th>ORIGEM</th>\n",
       "      <th>CODESTAB</th>\n",
       "      <th>CODMUNNASC</th>\n",
       "      <th>LOCNASC</th>\n",
       "      <th>IDADEMAE</th>\n",
       "      <th>ESTCIVMAE</th>\n",
       "      <th>CODOCUPMAE</th>\n",
       "      <th>QTDFILVIVO</th>\n",
       "      <th>QTDFILMORT</th>\n",
       "      <th>CODMUNRES</th>\n",
       "      <th>...</th>\n",
       "      <th>STDNNOVA</th>\n",
       "      <th>CODPAISRES</th>\n",
       "      <th>TPROBSON</th>\n",
       "      <th>PARIDADE</th>\n",
       "      <th>KOTELCHUCK</th>\n",
       "      <th>CONTADOR</th>\n",
       "      <th>munResLat</th>\n",
       "      <th>munResLon</th>\n",
       "      <th>munResAlt</th>\n",
       "      <th>munResArea</th>\n",
       "    </tr>\n",
       "  </thead>\n",
       "  <tbody>\n",
       "    <tr>\n",
       "      <th>0</th>\n",
       "      <td>1</td>\n",
       "      <td>2679477.0</td>\n",
       "      <td>110001</td>\n",
       "      <td>1</td>\n",
       "      <td>19</td>\n",
       "      <td>5.0</td>\n",
       "      <td>NaN</td>\n",
       "      <td>0.0</td>\n",
       "      <td>0.0</td>\n",
       "      <td>110001</td>\n",
       "      <td>...</td>\n",
       "      <td>1</td>\n",
       "      <td>1</td>\n",
       "      <td>1</td>\n",
       "      <td>0</td>\n",
       "      <td>5</td>\n",
       "      <td>1</td>\n",
       "      <td>-11.93554</td>\n",
       "      <td>-61.99982</td>\n",
       "      <td>338.0</td>\n",
       "      <td>7067.025</td>\n",
       "    </tr>\n",
       "    <tr>\n",
       "      <th>1</th>\n",
       "      <td>1</td>\n",
       "      <td>2679477.0</td>\n",
       "      <td>110001</td>\n",
       "      <td>1</td>\n",
       "      <td>29</td>\n",
       "      <td>2.0</td>\n",
       "      <td>999992.0</td>\n",
       "      <td>1.0</td>\n",
       "      <td>0.0</td>\n",
       "      <td>110001</td>\n",
       "      <td>...</td>\n",
       "      <td>1</td>\n",
       "      <td>1</td>\n",
       "      <td>5</td>\n",
       "      <td>1</td>\n",
       "      <td>5</td>\n",
       "      <td>2</td>\n",
       "      <td>-11.93554</td>\n",
       "      <td>-61.99982</td>\n",
       "      <td>338.0</td>\n",
       "      <td>7067.025</td>\n",
       "    </tr>\n",
       "    <tr>\n",
       "      <th>2</th>\n",
       "      <td>1</td>\n",
       "      <td>2679477.0</td>\n",
       "      <td>110001</td>\n",
       "      <td>1</td>\n",
       "      <td>37</td>\n",
       "      <td>9.0</td>\n",
       "      <td>513205.0</td>\n",
       "      <td>2.0</td>\n",
       "      <td>0.0</td>\n",
       "      <td>110001</td>\n",
       "      <td>...</td>\n",
       "      <td>1</td>\n",
       "      <td>1</td>\n",
       "      <td>7</td>\n",
       "      <td>1</td>\n",
       "      <td>5</td>\n",
       "      <td>3</td>\n",
       "      <td>-11.93554</td>\n",
       "      <td>-61.99982</td>\n",
       "      <td>338.0</td>\n",
       "      <td>7067.025</td>\n",
       "    </tr>\n",
       "    <tr>\n",
       "      <th>3</th>\n",
       "      <td>1</td>\n",
       "      <td>2516500.0</td>\n",
       "      <td>110001</td>\n",
       "      <td>1</td>\n",
       "      <td>30</td>\n",
       "      <td>5.0</td>\n",
       "      <td>231205.0</td>\n",
       "      <td>0.0</td>\n",
       "      <td>0.0</td>\n",
       "      <td>110037</td>\n",
       "      <td>...</td>\n",
       "      <td>1</td>\n",
       "      <td>1</td>\n",
       "      <td>2</td>\n",
       "      <td>0</td>\n",
       "      <td>4</td>\n",
       "      <td>4</td>\n",
       "      <td>-12.13178</td>\n",
       "      <td>-61.85308</td>\n",
       "      <td>397.0</td>\n",
       "      <td>3958.273</td>\n",
       "    </tr>\n",
       "    <tr>\n",
       "      <th>4</th>\n",
       "      <td>1</td>\n",
       "      <td>2516500.0</td>\n",
       "      <td>110001</td>\n",
       "      <td>1</td>\n",
       "      <td>30</td>\n",
       "      <td>2.0</td>\n",
       "      <td>999992.0</td>\n",
       "      <td>1.0</td>\n",
       "      <td>0.0</td>\n",
       "      <td>110001</td>\n",
       "      <td>...</td>\n",
       "      <td>1</td>\n",
       "      <td>1</td>\n",
       "      <td>5</td>\n",
       "      <td>1</td>\n",
       "      <td>5</td>\n",
       "      <td>5</td>\n",
       "      <td>-11.93554</td>\n",
       "      <td>-61.99982</td>\n",
       "      <td>338.0</td>\n",
       "      <td>7067.025</td>\n",
       "    </tr>\n",
       "  </tbody>\n",
       "</table>\n",
       "<p>5 rows × 54 columns</p>\n",
       "</div>"
      ],
      "text/plain": [
       "   ORIGEM   CODESTAB  CODMUNNASC  LOCNASC  IDADEMAE  ESTCIVMAE  CODOCUPMAE  \\\n",
       "0       1  2679477.0      110001        1        19        5.0         NaN   \n",
       "1       1  2679477.0      110001        1        29        2.0    999992.0   \n",
       "2       1  2679477.0      110001        1        37        9.0    513205.0   \n",
       "3       1  2516500.0      110001        1        30        5.0    231205.0   \n",
       "4       1  2516500.0      110001        1        30        2.0    999992.0   \n",
       "\n",
       "   QTDFILVIVO  QTDFILMORT  CODMUNRES  ...  STDNNOVA  CODPAISRES  TPROBSON  \\\n",
       "0         0.0         0.0     110001  ...         1           1         1   \n",
       "1         1.0         0.0     110001  ...         1           1         5   \n",
       "2         2.0         0.0     110001  ...         1           1         7   \n",
       "3         0.0         0.0     110037  ...         1           1         2   \n",
       "4         1.0         0.0     110001  ...         1           1         5   \n",
       "\n",
       "   PARIDADE  KOTELCHUCK  CONTADOR  munResLat  munResLon  munResAlt  munResArea  \n",
       "0         0           5         1  -11.93554  -61.99982      338.0    7067.025  \n",
       "1         1           5         2  -11.93554  -61.99982      338.0    7067.025  \n",
       "2         1           5         3  -11.93554  -61.99982      338.0    7067.025  \n",
       "3         0           4         4  -12.13178  -61.85308      397.0    3958.273  \n",
       "4         1           5         5  -11.93554  -61.99982      338.0    7067.025  \n",
       "\n",
       "[5 rows x 54 columns]"
      ]
     },
     "execution_count": 19,
     "metadata": {},
     "output_type": "execute_result"
    }
   ],
   "source": [
    "sinasc_raw.select_dtypes(exclude=['object']).head() #identificarcomo são algumas variáveis numéricas que podem ser usadas"
   ]
  },
  {
   "cell_type": "markdown",
   "metadata": {},
   "source": [
    "# Tarefa 2"
   ]
  },
  {
   "cell_type": "markdown",
   "metadata": {},
   "source": [
    "### 1. Crie 2 faixas de Latitude do município (munResLat) sendo uma acima e outra abaixo de -10.5 e aplique o groupby usando essas faixas como chave e realize operações de soma, media, minimo, maximo, mediana, desvio padrao, variancia pra pelo menos 2 variáveis numéricas ainda não utilizadas"
   ]
  },
  {
   "cell_type": "code",
   "execution_count": 98,
   "metadata": {},
   "outputs": [],
   "source": [
    "sinasc1 = sinasc_raw[['munResLat','QTDFILVIVO','QTDFILMORT']].copy() # 'QTDFILVIVO','QTDFILMORT' foram selecionadas"
   ]
  },
  {
   "cell_type": "code",
   "execution_count": 99,
   "metadata": {},
   "outputs": [
    {
     "data": {
      "text/plain": [
       "count    27027.000000\n",
       "mean       -10.377988\n",
       "std          1.372942\n",
       "min        -13.499760\n",
       "25%        -11.433870\n",
       "50%        -10.435950\n",
       "75%         -8.768890\n",
       "max         -8.768890\n",
       "Name: munResLat, dtype: float64"
      ]
     },
     "execution_count": 99,
     "metadata": {},
     "output_type": "execute_result"
    }
   ],
   "source": [
    "sinasc1['munResLat'].describe() #identificando os limites dos cortes"
   ]
  },
  {
   "cell_type": "code",
   "execution_count": 100,
   "metadata": {},
   "outputs": [],
   "source": [
    "latcut = pd.cut(sinasc1['munResLat'], [-14, -10.5, 0]) # os valores precisam estar em ordem crescente"
   ]
  },
  {
   "cell_type": "code",
   "execution_count": 101,
   "metadata": {},
   "outputs": [
    {
     "data": {
      "text/html": [
       "<div>\n",
       "<style scoped>\n",
       "    .dataframe tbody tr th:only-of-type {\n",
       "        vertical-align: middle;\n",
       "    }\n",
       "\n",
       "    .dataframe tbody tr th {\n",
       "        vertical-align: top;\n",
       "    }\n",
       "\n",
       "    .dataframe thead tr th {\n",
       "        text-align: left;\n",
       "    }\n",
       "\n",
       "    .dataframe thead tr:last-of-type th {\n",
       "        text-align: right;\n",
       "    }\n",
       "</style>\n",
       "<table border=\"1\" class=\"dataframe\">\n",
       "  <thead>\n",
       "    <tr>\n",
       "      <th></th>\n",
       "      <th colspan=\"7\" halign=\"left\">QTDFILVIVO</th>\n",
       "      <th colspan=\"7\" halign=\"left\">QTDFILMORT</th>\n",
       "    </tr>\n",
       "    <tr>\n",
       "      <th></th>\n",
       "      <th>sum</th>\n",
       "      <th>median</th>\n",
       "      <th>mean</th>\n",
       "      <th>max</th>\n",
       "      <th>min</th>\n",
       "      <th>std</th>\n",
       "      <th>var</th>\n",
       "      <th>sum</th>\n",
       "      <th>median</th>\n",
       "      <th>mean</th>\n",
       "      <th>max</th>\n",
       "      <th>min</th>\n",
       "      <th>std</th>\n",
       "      <th>var</th>\n",
       "    </tr>\n",
       "    <tr>\n",
       "      <th>munResLat</th>\n",
       "      <th></th>\n",
       "      <th></th>\n",
       "      <th></th>\n",
       "      <th></th>\n",
       "      <th></th>\n",
       "      <th></th>\n",
       "      <th></th>\n",
       "      <th></th>\n",
       "      <th></th>\n",
       "      <th></th>\n",
       "      <th></th>\n",
       "      <th></th>\n",
       "      <th></th>\n",
       "      <th></th>\n",
       "    </tr>\n",
       "  </thead>\n",
       "  <tbody>\n",
       "    <tr>\n",
       "      <th>(-14.0, -10.5]</th>\n",
       "      <td>12600.0</td>\n",
       "      <td>1.0</td>\n",
       "      <td>0.980011</td>\n",
       "      <td>30.0</td>\n",
       "      <td>0.0</td>\n",
       "      <td>1.138300</td>\n",
       "      <td>1.295727</td>\n",
       "      <td>3105.0</td>\n",
       "      <td>0.0</td>\n",
       "      <td>0.242521</td>\n",
       "      <td>28.0</td>\n",
       "      <td>0.0</td>\n",
       "      <td>0.599430</td>\n",
       "      <td>0.359317</td>\n",
       "    </tr>\n",
       "    <tr>\n",
       "      <th>(-10.5, 0.0]</th>\n",
       "      <td>14226.0</td>\n",
       "      <td>1.0</td>\n",
       "      <td>1.129317</td>\n",
       "      <td>12.0</td>\n",
       "      <td>0.0</td>\n",
       "      <td>1.198613</td>\n",
       "      <td>1.436674</td>\n",
       "      <td>3538.0</td>\n",
       "      <td>0.0</td>\n",
       "      <td>0.291770</td>\n",
       "      <td>9.0</td>\n",
       "      <td>0.0</td>\n",
       "      <td>0.627856</td>\n",
       "      <td>0.394204</td>\n",
       "    </tr>\n",
       "  </tbody>\n",
       "</table>\n",
       "</div>"
      ],
      "text/plain": [
       "               QTDFILVIVO                                                  \\\n",
       "                      sum median      mean   max  min       std       var   \n",
       "munResLat                                                                   \n",
       "(-14.0, -10.5]    12600.0    1.0  0.980011  30.0  0.0  1.138300  1.295727   \n",
       "(-10.5, 0.0]      14226.0    1.0  1.129317  12.0  0.0  1.198613  1.436674   \n",
       "\n",
       "               QTDFILMORT                                                  \n",
       "                      sum median      mean   max  min       std       var  \n",
       "munResLat                                                                  \n",
       "(-14.0, -10.5]     3105.0    0.0  0.242521  28.0  0.0  0.599430  0.359317  \n",
       "(-10.5, 0.0]       3538.0    0.0  0.291770   9.0  0.0  0.627856  0.394204  "
      ]
     },
     "execution_count": 101,
     "metadata": {},
     "output_type": "execute_result"
    }
   ],
   "source": [
    "sinasc1.groupby(latcut)[['QTDFILVIVO','QTDFILMORT']].agg(['sum','median','mean',max,min,'std','var'])"
   ]
  },
  {
   "cell_type": "markdown",
   "metadata": {},
   "source": [
    "### 2. Crie 2 faixas da área dos municípios (munResArea) sendo uma acima e outra abaixo de 3000 e aplique o groupby usando essas faixas como chave e realize operações de soma, media, minimo, maximo, mediana, desvio padrao, variancia pra pelo menos 2 variáveis numéricas ainda não utilizadas\n"
   ]
  },
  {
   "cell_type": "code",
   "execution_count": 33,
   "metadata": {},
   "outputs": [],
   "source": [
    "sinasc2 = sinasc_raw[['munResArea','LOCNASC','ESTCIVMAE']].copy() # 'LOCNASC','ESTCIVMAE' foram selecionadas"
   ]
  },
  {
   "cell_type": "code",
   "execution_count": 34,
   "metadata": {},
   "outputs": [
    {
     "data": {
      "text/plain": [
       "count    27027.000000\n",
       "mean     14702.799767\n",
       "std      13706.177751\n",
       "min        459.978000\n",
       "25%       3792.998000\n",
       "50%       6896.648000\n",
       "75%      34096.394000\n",
       "max      34096.394000\n",
       "Name: munResArea, dtype: float64"
      ]
     },
     "execution_count": 34,
     "metadata": {},
     "output_type": "execute_result"
    }
   ],
   "source": [
    "sinasc2['munResArea'].describe() #identificando os limites dos cortes da variável independente"
   ]
  },
  {
   "cell_type": "code",
   "execution_count": 36,
   "metadata": {},
   "outputs": [],
   "source": [
    "areacut = pd.cut(sinasc2['munResArea'], [400,3000,3500])"
   ]
  },
  {
   "cell_type": "code",
   "execution_count": 44,
   "metadata": {},
   "outputs": [
    {
     "data": {
      "text/html": [
       "<div>\n",
       "<style scoped>\n",
       "    .dataframe tbody tr th:only-of-type {\n",
       "        vertical-align: middle;\n",
       "    }\n",
       "\n",
       "    .dataframe tbody tr th {\n",
       "        vertical-align: top;\n",
       "    }\n",
       "\n",
       "    .dataframe thead tr th {\n",
       "        text-align: left;\n",
       "    }\n",
       "\n",
       "    .dataframe thead tr:last-of-type th {\n",
       "        text-align: right;\n",
       "    }\n",
       "</style>\n",
       "<table border=\"1\" class=\"dataframe\">\n",
       "  <thead>\n",
       "    <tr>\n",
       "      <th></th>\n",
       "      <th colspan=\"7\" halign=\"left\">LOCNASC</th>\n",
       "      <th colspan=\"7\" halign=\"left\">ESTCIVMAE</th>\n",
       "    </tr>\n",
       "    <tr>\n",
       "      <th></th>\n",
       "      <th>sum</th>\n",
       "      <th>median</th>\n",
       "      <th>mean</th>\n",
       "      <th>max</th>\n",
       "      <th>min</th>\n",
       "      <th>std</th>\n",
       "      <th>var</th>\n",
       "      <th>sum</th>\n",
       "      <th>median</th>\n",
       "      <th>mean</th>\n",
       "      <th>max</th>\n",
       "      <th>min</th>\n",
       "      <th>std</th>\n",
       "      <th>var</th>\n",
       "    </tr>\n",
       "    <tr>\n",
       "      <th>munResArea</th>\n",
       "      <th></th>\n",
       "      <th></th>\n",
       "      <th></th>\n",
       "      <th></th>\n",
       "      <th></th>\n",
       "      <th></th>\n",
       "      <th></th>\n",
       "      <th></th>\n",
       "      <th></th>\n",
       "      <th></th>\n",
       "      <th></th>\n",
       "      <th></th>\n",
       "      <th></th>\n",
       "      <th></th>\n",
       "    </tr>\n",
       "  </thead>\n",
       "  <tbody>\n",
       "    <tr>\n",
       "      <th>(400, 3000]</th>\n",
       "      <td>5258</td>\n",
       "      <td>1.0</td>\n",
       "      <td>1.007473</td>\n",
       "      <td>4</td>\n",
       "      <td>1</td>\n",
       "      <td>0.125899</td>\n",
       "      <td>0.015851</td>\n",
       "      <td>13340.0</td>\n",
       "      <td>2.0</td>\n",
       "      <td>2.578774</td>\n",
       "      <td>9.0</td>\n",
       "      <td>1.0</td>\n",
       "      <td>1.582431</td>\n",
       "      <td>2.504089</td>\n",
       "    </tr>\n",
       "    <tr>\n",
       "      <th>(3000, 3500]</th>\n",
       "      <td>1192</td>\n",
       "      <td>1.0</td>\n",
       "      <td>1.015332</td>\n",
       "      <td>4</td>\n",
       "      <td>1</td>\n",
       "      <td>0.201706</td>\n",
       "      <td>0.040685</td>\n",
       "      <td>2994.0</td>\n",
       "      <td>2.0</td>\n",
       "      <td>2.583261</td>\n",
       "      <td>9.0</td>\n",
       "      <td>1.0</td>\n",
       "      <td>1.657587</td>\n",
       "      <td>2.747595</td>\n",
       "    </tr>\n",
       "  </tbody>\n",
       "</table>\n",
       "</div>"
      ],
      "text/plain": [
       "             LOCNASC                                              ESTCIVMAE  \\\n",
       "                 sum median      mean max min       std       var       sum   \n",
       "munResArea                                                                    \n",
       "(400, 3000]     5258    1.0  1.007473   4   1  0.125899  0.015851   13340.0   \n",
       "(3000, 3500]    1192    1.0  1.015332   4   1  0.201706  0.040685    2994.0   \n",
       "\n",
       "                                                             \n",
       "             median      mean  max  min       std       var  \n",
       "munResArea                                                   \n",
       "(400, 3000]     2.0  2.578774  9.0  1.0  1.582431  2.504089  \n",
       "(3000, 3500]    2.0  2.583261  9.0  1.0  1.657587  2.747595  "
      ]
     },
     "execution_count": 44,
     "metadata": {},
     "output_type": "execute_result"
    }
   ],
   "source": [
    "sinasc2.groupby(areacut)[['LOCNASC','ESTCIVMAE']].agg(['sum','median','mean',max,min,'std','var'])"
   ]
  },
  {
   "cell_type": "markdown",
   "metadata": {},
   "source": [
    "### 3. Determine faixas na variável munResAlt e aplique o groupby usando essas faixas como chave e realize operações de soma, media, minimo, maximo, mediana, desvio padrao, variancia pra pelo menos 2 variáveis numéricas ainda não utilizadas"
   ]
  },
  {
   "cell_type": "code",
   "execution_count": 48,
   "metadata": {},
   "outputs": [],
   "source": [
    "sinasc3 = sinasc_raw[['munResAlt','NATURALMAE','DTNASCMAE']].copy()"
   ]
  },
  {
   "cell_type": "code",
   "execution_count": 49,
   "metadata": {},
   "outputs": [
    {
     "data": {
      "text/plain": [
       "count    27027.000000\n",
       "mean       179.111999\n",
       "std        123.138365\n",
       "min         85.000000\n",
       "25%         87.000000\n",
       "50%        153.000000\n",
       "75%        191.000000\n",
       "max        595.000000\n",
       "Name: munResAlt, dtype: float64"
      ]
     },
     "execution_count": 49,
     "metadata": {},
     "output_type": "execute_result"
    }
   ],
   "source": [
    "sinasc3['munResAlt'].describe()"
   ]
  },
  {
   "cell_type": "code",
   "execution_count": 50,
   "metadata": {},
   "outputs": [],
   "source": [
    "altcut = pd.qcut(sinasc3['munResAlt'], 4) #fatiando as categorias a partir dos quartis"
   ]
  },
  {
   "cell_type": "code",
   "execution_count": 53,
   "metadata": {},
   "outputs": [
    {
     "data": {
      "text/html": [
       "<div>\n",
       "<style scoped>\n",
       "    .dataframe tbody tr th:only-of-type {\n",
       "        vertical-align: middle;\n",
       "    }\n",
       "\n",
       "    .dataframe tbody tr th {\n",
       "        vertical-align: top;\n",
       "    }\n",
       "\n",
       "    .dataframe thead tr th {\n",
       "        text-align: left;\n",
       "    }\n",
       "\n",
       "    .dataframe thead tr:last-of-type th {\n",
       "        text-align: right;\n",
       "    }\n",
       "</style>\n",
       "<table border=\"1\" class=\"dataframe\">\n",
       "  <thead>\n",
       "    <tr>\n",
       "      <th></th>\n",
       "      <th colspan=\"7\" halign=\"left\">NATURALMAE</th>\n",
       "      <th colspan=\"7\" halign=\"left\">DTNASCMAE</th>\n",
       "    </tr>\n",
       "    <tr>\n",
       "      <th></th>\n",
       "      <th>sum</th>\n",
       "      <th>median</th>\n",
       "      <th>mean</th>\n",
       "      <th>max</th>\n",
       "      <th>min</th>\n",
       "      <th>std</th>\n",
       "      <th>var</th>\n",
       "      <th>sum</th>\n",
       "      <th>median</th>\n",
       "      <th>mean</th>\n",
       "      <th>max</th>\n",
       "      <th>min</th>\n",
       "      <th>std</th>\n",
       "      <th>var</th>\n",
       "    </tr>\n",
       "    <tr>\n",
       "      <th>munResAlt</th>\n",
       "      <th></th>\n",
       "      <th></th>\n",
       "      <th></th>\n",
       "      <th></th>\n",
       "      <th></th>\n",
       "      <th></th>\n",
       "      <th></th>\n",
       "      <th></th>\n",
       "      <th></th>\n",
       "      <th></th>\n",
       "      <th></th>\n",
       "      <th></th>\n",
       "      <th></th>\n",
       "      <th></th>\n",
       "    </tr>\n",
       "  </thead>\n",
       "  <tbody>\n",
       "    <tr>\n",
       "      <th>(84.999, 87.0]</th>\n",
       "      <td>7033343.0</td>\n",
       "      <td>811.0</td>\n",
       "      <td>813.667631</td>\n",
       "      <td>853.0</td>\n",
       "      <td>811.0</td>\n",
       "      <td>7.638877</td>\n",
       "      <td>58.352436</td>\n",
       "      <td>1.373227e+11</td>\n",
       "      <td>16011997.0</td>\n",
       "      <td>1.567789e+07</td>\n",
       "      <td>31121999.0</td>\n",
       "      <td>1011982.0</td>\n",
       "      <td>8.778520e+06</td>\n",
       "      <td>7.706241e+13</td>\n",
       "    </tr>\n",
       "    <tr>\n",
       "      <th>(87.0, 153.0]</th>\n",
       "      <td>3880157.0</td>\n",
       "      <td>811.0</td>\n",
       "      <td>814.645602</td>\n",
       "      <td>853.0</td>\n",
       "      <td>811.0</td>\n",
       "      <td>9.590675</td>\n",
       "      <td>91.981053</td>\n",
       "      <td>7.638103e+10</td>\n",
       "      <td>16031985.5</td>\n",
       "      <td>1.576166e+07</td>\n",
       "      <td>31122004.0</td>\n",
       "      <td>1011983.0</td>\n",
       "      <td>8.756163e+06</td>\n",
       "      <td>7.667039e+13</td>\n",
       "    </tr>\n",
       "    <tr>\n",
       "      <th>(153.0, 191.0]</th>\n",
       "      <td>5614563.0</td>\n",
       "      <td>811.0</td>\n",
       "      <td>815.004064</td>\n",
       "      <td>853.0</td>\n",
       "      <td>811.0</td>\n",
       "      <td>10.105798</td>\n",
       "      <td>102.127161</td>\n",
       "      <td>1.100975e+11</td>\n",
       "      <td>16051988.0</td>\n",
       "      <td>1.588937e+07</td>\n",
       "      <td>31122003.0</td>\n",
       "      <td>1011979.0</td>\n",
       "      <td>8.788742e+06</td>\n",
       "      <td>7.724199e+13</td>\n",
       "    </tr>\n",
       "    <tr>\n",
       "      <th>(191.0, 595.0]</th>\n",
       "      <td>5254717.0</td>\n",
       "      <td>811.0</td>\n",
       "      <td>816.710755</td>\n",
       "      <td>853.0</td>\n",
       "      <td>811.0</td>\n",
       "      <td>12.057706</td>\n",
       "      <td>145.388266</td>\n",
       "      <td>1.030396e+11</td>\n",
       "      <td>16081985.0</td>\n",
       "      <td>1.596771e+07</td>\n",
       "      <td>31121999.0</td>\n",
       "      <td>1011982.0</td>\n",
       "      <td>8.849051e+06</td>\n",
       "      <td>7.830571e+13</td>\n",
       "    </tr>\n",
       "  </tbody>\n",
       "</table>\n",
       "</div>"
      ],
      "text/plain": [
       "               NATURALMAE                                              \\\n",
       "                      sum median        mean    max    min        std   \n",
       "munResAlt                                                               \n",
       "(84.999, 87.0]  7033343.0  811.0  813.667631  853.0  811.0   7.638877   \n",
       "(87.0, 153.0]   3880157.0  811.0  814.645602  853.0  811.0   9.590675   \n",
       "(153.0, 191.0]  5614563.0  811.0  815.004064  853.0  811.0  10.105798   \n",
       "(191.0, 595.0]  5254717.0  811.0  816.710755  853.0  811.0  12.057706   \n",
       "\n",
       "                               DTNASCMAE                            \\\n",
       "                       var           sum      median          mean   \n",
       "munResAlt                                                            \n",
       "(84.999, 87.0]   58.352436  1.373227e+11  16011997.0  1.567789e+07   \n",
       "(87.0, 153.0]    91.981053  7.638103e+10  16031985.5  1.576166e+07   \n",
       "(153.0, 191.0]  102.127161  1.100975e+11  16051988.0  1.588937e+07   \n",
       "(191.0, 595.0]  145.388266  1.030396e+11  16081985.0  1.596771e+07   \n",
       "\n",
       "                                                                   \n",
       "                       max        min           std           var  \n",
       "munResAlt                                                          \n",
       "(84.999, 87.0]  31121999.0  1011982.0  8.778520e+06  7.706241e+13  \n",
       "(87.0, 153.0]   31122004.0  1011983.0  8.756163e+06  7.667039e+13  \n",
       "(153.0, 191.0]  31122003.0  1011979.0  8.788742e+06  7.724199e+13  \n",
       "(191.0, 595.0]  31121999.0  1011982.0  8.849051e+06  7.830571e+13  "
      ]
     },
     "execution_count": 53,
     "metadata": {},
     "output_type": "execute_result"
    }
   ],
   "source": [
    "sinasc3.groupby(altcut)[['NATURALMAE','DTNASCMAE']].agg(['sum','median','mean',max,min,'std','var'])"
   ]
  },
  {
   "cell_type": "markdown",
   "metadata": {},
   "source": [
    "### 4. Plote no mesmo grafico ao longo do tempo a idade media das mulheres de cada regiao imediatas de rondonia\n",
    "https://pt.wikipedia.org/wiki/Lista_de_regi%C3%B5es_geogr%C3%A1ficas_intermedi%C3%A1rias_e_imediatas_de_Rond%C3%B4nia"
   ]
  },
  {
   "cell_type": "code",
   "execution_count": 63,
   "metadata": {},
   "outputs": [],
   "source": [
    "reg_imediata = {\n",
    "    \"Candeias do Jamari\": \"Porto Velho\",\n",
    "    \"Guajará-Mirim\": \"Porto Velho\",\n",
    "    \"Itapuã do Oeste\": \"Porto Velho\",\n",
    "    \"Nova Mamoré\": \"Porto Velho\",\n",
    "    \"Porto Velho\": \"Porto Velho\",\n",
    "    \"Ariquemes\": \"Ariquemes\",\n",
    "    \"Alto Paraíso\": \"Ariquemes\",\n",
    "    \"Buritis\": \"Ariquemes\",\n",
    "    \"Cacaulândia\": \"Ariquemes\",\n",
    "    \"Campo Novo de Rondônia\": \"Ariquemes\",\n",
    "    \"Cujubim\": \"Ariquemes\",\n",
    "    \"Monte Negro\": \"Ariquemes\",\n",
    "    \"Rio Crespo\": \"Ariquemes\",\n",
    "    \"Jaru\": \"Jaru\",\n",
    "    \"Governador Jorge Teixeira\": \"Jaru\",\n",
    "    \"Machadinho D'Oeste\": \"Jaru\",\n",
    "    \"Theobroma\": \"Jaru\",\n",
    "    \"Vale do Anari\": \"Jaru\",\n",
    "    \"Alvorada D'Oeste\": \"Ji-Paraná\",\n",
    "    \"Costa Marques\": \"Ji-Paraná\",\n",
    "    \"Ji-Paraná\": \"Ji-Paraná\",\n",
    "    \"Mirante da Serra\": \"Ji-Paraná\",\n",
    "    \"Nova União\": \"Ji-Paraná\",\n",
    "    \"Ouro Preto do Oeste\": \"Ji-Paraná\",\n",
    "    \"Presidente Médici\": \"Ji-Paraná\",\n",
    "    \"São Francisco do Guaporé\": \"Ji-Paraná\",\n",
    "    \"São Miguel do Guaporé\": \"Ji-Paraná\",\n",
    "    \"Seringueiras\": \"Ji-Paraná\",\n",
    "    \"Teixeirópolis\": \"Ji-Paraná\",\n",
    "    \"Urupá\": \"Ji-Paraná\",\n",
    "    \"Vale do Paraíso\": \"Ji-Paraná\",\n",
    "    \"Cacoal\": \"Cacoal\",\n",
    "    \"Alta Floresta D'Oeste\": \"Cacoal\",\n",
    "    \"Alto Alegre dos Parecis\": \"Cacoal\",\n",
    "    \"Castanheiras\": \"Cacoal\",\n",
    "    \"Espigão D'Oeste\": \"Cacoal\",\n",
    "    \"Ministro Andreazza\": \"Cacoal\",\n",
    "    \"Nova Brasilândia D'Oeste\": \"Cacoal\",\n",
    "    \"Novo Horizonte do Oeste\": \"Cacoal\",\n",
    "    \"Parecis\": \"Cacoal\",\n",
    "    \"Pimenta Bueno\": \"Cacoal\",\n",
    "    \"Primavera de Rondônia\": \"Cacoal\",\n",
    "    \"Rolim de Moura\": \"Cacoal\",\n",
    "    \"Santa Luzia D'Oeste\": \"Cacoal\",\n",
    "    \"São Felipe D'Oeste\": \"Cacoal\",\n",
    "    \"Vilhena\": \"Vilhena\",\n",
    "    \"Cabixi\": \"Vilhena\",\n",
    "    \"Cerejeiras\": \"Vilhena\",\n",
    "    \"Chupinguaia\": \"Vilhena\",\n",
    "    \"Colorado do Oeste\": \"Vilhena\",\n",
    "    \"Corumbiara\": \"Vilhena\",\n",
    "    \"Pimenteiras do Oeste\": \"Vilhena\"\n",
    "}"
   ]
  },
  {
   "cell_type": "code",
   "execution_count": 60,
   "metadata": {},
   "outputs": [],
   "source": [
    "sinasc4 = sinasc_raw[['munResNome','IDADEMAE','DTNASC']].copy() # definindo as variáveis dependentes e independentes"
   ]
  },
  {
   "cell_type": "code",
   "execution_count": 70,
   "metadata": {},
   "outputs": [
    {
     "data": {
      "text/html": [
       "<div>\n",
       "<style scoped>\n",
       "    .dataframe tbody tr th:only-of-type {\n",
       "        vertical-align: middle;\n",
       "    }\n",
       "\n",
       "    .dataframe tbody tr th {\n",
       "        vertical-align: top;\n",
       "    }\n",
       "\n",
       "    .dataframe thead th {\n",
       "        text-align: right;\n",
       "    }\n",
       "</style>\n",
       "<table border=\"1\" class=\"dataframe\">\n",
       "  <thead>\n",
       "    <tr style=\"text-align: right;\">\n",
       "      <th></th>\n",
       "      <th>munResNome</th>\n",
       "      <th>IDADEMAE</th>\n",
       "      <th>DTNASC</th>\n",
       "    </tr>\n",
       "  </thead>\n",
       "  <tbody>\n",
       "    <tr>\n",
       "      <th>0</th>\n",
       "      <td>Alta Floresta D'Oeste</td>\n",
       "      <td>19</td>\n",
       "      <td>2019-02-19</td>\n",
       "    </tr>\n",
       "    <tr>\n",
       "      <th>1</th>\n",
       "      <td>Alta Floresta D'Oeste</td>\n",
       "      <td>29</td>\n",
       "      <td>2019-02-21</td>\n",
       "    </tr>\n",
       "    <tr>\n",
       "      <th>2</th>\n",
       "      <td>Alta Floresta D'Oeste</td>\n",
       "      <td>37</td>\n",
       "      <td>2019-02-25</td>\n",
       "    </tr>\n",
       "    <tr>\n",
       "      <th>3</th>\n",
       "      <td>Alto Alegre dos Parecis</td>\n",
       "      <td>30</td>\n",
       "      <td>2019-03-20</td>\n",
       "    </tr>\n",
       "    <tr>\n",
       "      <th>4</th>\n",
       "      <td>Alta Floresta D'Oeste</td>\n",
       "      <td>30</td>\n",
       "      <td>2019-03-23</td>\n",
       "    </tr>\n",
       "  </tbody>\n",
       "</table>\n",
       "</div>"
      ],
      "text/plain": [
       "                munResNome  IDADEMAE      DTNASC\n",
       "0    Alta Floresta D'Oeste        19  2019-02-19\n",
       "1    Alta Floresta D'Oeste        29  2019-02-21\n",
       "2    Alta Floresta D'Oeste        37  2019-02-25\n",
       "3  Alto Alegre dos Parecis        30  2019-03-20\n",
       "4    Alta Floresta D'Oeste        30  2019-03-23"
      ]
     },
     "execution_count": 70,
     "metadata": {},
     "output_type": "execute_result"
    }
   ],
   "source": [
    "sinasc4.head()"
   ]
  },
  {
   "cell_type": "code",
   "execution_count": 61,
   "metadata": {},
   "outputs": [
    {
     "data": {
      "text/html": [
       "<div>\n",
       "<style scoped>\n",
       "    .dataframe tbody tr th:only-of-type {\n",
       "        vertical-align: middle;\n",
       "    }\n",
       "\n",
       "    .dataframe tbody tr th {\n",
       "        vertical-align: top;\n",
       "    }\n",
       "\n",
       "    .dataframe thead th {\n",
       "        text-align: right;\n",
       "    }\n",
       "</style>\n",
       "<table border=\"1\" class=\"dataframe\">\n",
       "  <thead>\n",
       "    <tr style=\"text-align: right;\">\n",
       "      <th></th>\n",
       "      <th>IDADEMAE</th>\n",
       "      <th>DTNASC</th>\n",
       "    </tr>\n",
       "    <tr>\n",
       "      <th>munResNome</th>\n",
       "      <th></th>\n",
       "      <th></th>\n",
       "    </tr>\n",
       "  </thead>\n",
       "  <tbody>\n",
       "    <tr>\n",
       "      <th>Alta Floresta D'Oeste</th>\n",
       "      <td>19</td>\n",
       "      <td>2019-02-19</td>\n",
       "    </tr>\n",
       "    <tr>\n",
       "      <th>Alta Floresta D'Oeste</th>\n",
       "      <td>29</td>\n",
       "      <td>2019-02-21</td>\n",
       "    </tr>\n",
       "    <tr>\n",
       "      <th>Alta Floresta D'Oeste</th>\n",
       "      <td>37</td>\n",
       "      <td>2019-02-25</td>\n",
       "    </tr>\n",
       "    <tr>\n",
       "      <th>Alto Alegre dos Parecis</th>\n",
       "      <td>30</td>\n",
       "      <td>2019-03-20</td>\n",
       "    </tr>\n",
       "    <tr>\n",
       "      <th>Alta Floresta D'Oeste</th>\n",
       "      <td>30</td>\n",
       "      <td>2019-03-23</td>\n",
       "    </tr>\n",
       "  </tbody>\n",
       "</table>\n",
       "</div>"
      ],
      "text/plain": [
       "                         IDADEMAE      DTNASC\n",
       "munResNome                                   \n",
       "Alta Floresta D'Oeste          19  2019-02-19\n",
       "Alta Floresta D'Oeste          29  2019-02-21\n",
       "Alta Floresta D'Oeste          37  2019-02-25\n",
       "Alto Alegre dos Parecis        30  2019-03-20\n",
       "Alta Floresta D'Oeste          30  2019-03-23"
      ]
     },
     "execution_count": 61,
     "metadata": {},
     "output_type": "execute_result"
    }
   ],
   "source": [
    "sinasc4 = sinasc4.set_index('munResNome') #setting 'munResNome' como index para permitir a agregação\n",
    "sinasc4.head()"
   ]
  },
  {
   "cell_type": "code",
   "execution_count": 74,
   "metadata": {},
   "outputs": [
    {
     "name": "stderr",
     "output_type": "stream",
     "text": [
      "C:\\Users\\khrik\\AppData\\Local\\Temp\\ipykernel_3852\\2726731129.py:1: DeprecationWarning: In a future version, `df.iloc[:, i] = newvals` will attempt to set the values inplace instead of always setting a new array. To retain the old behavior, use either `df[df.columns[i]] = newvals` or, if columns are non-unique, `df.isetitem(i, newvals)`\n",
      "  sinasc4.loc[:,'DTNASC'] = pd.to_datetime(sinasc4['DTNASC'])\n"
     ]
    }
   ],
   "source": [
    "sinasc4.loc[:,'DTNASC'] = pd.to_datetime(sinasc4['DTNASC'])"
   ]
  },
  {
   "cell_type": "code",
   "execution_count": 77,
   "metadata": {},
   "outputs": [],
   "source": [
    "sinasc4[['ano','mês','dia']] = sinasc4.DTNASC.dt.date.astype(str).str.split('-',expand=True) #separando o datetime em dia, mês e ano"
   ]
  },
  {
   "cell_type": "code",
   "execution_count": 83,
   "metadata": {},
   "outputs": [
    {
     "name": "stdout",
     "output_type": "stream",
     "text": [
      "<class 'pandas.core.frame.DataFrame'>\n",
      "Index: 27028 entries, Alta Floresta D'Oeste to Novo Horizonte do Oeste\n",
      "Data columns (total 5 columns):\n",
      " #   Column    Non-Null Count  Dtype         \n",
      "---  ------    --------------  -----         \n",
      " 0   IDADEMAE  27028 non-null  int64         \n",
      " 1   DTNASC    27028 non-null  datetime64[ns]\n",
      " 2   ano       27028 non-null  object        \n",
      " 3   mês       27028 non-null  object        \n",
      " 4   dia       27028 non-null  object        \n",
      "dtypes: datetime64[ns](1), int64(1), object(3)\n",
      "memory usage: 1.2+ MB\n"
     ]
    }
   ],
   "source": [
    "sinasc4.info()"
   ]
  },
  {
   "cell_type": "code",
   "execution_count": 124,
   "metadata": {},
   "outputs": [
    {
     "data": {
      "text/html": [
       "<div>\n",
       "<style scoped>\n",
       "    .dataframe tbody tr th:only-of-type {\n",
       "        vertical-align: middle;\n",
       "    }\n",
       "\n",
       "    .dataframe tbody tr th {\n",
       "        vertical-align: top;\n",
       "    }\n",
       "\n",
       "    .dataframe thead th {\n",
       "        text-align: right;\n",
       "    }\n",
       "</style>\n",
       "<table border=\"1\" class=\"dataframe\">\n",
       "  <thead>\n",
       "    <tr style=\"text-align: right;\">\n",
       "      <th></th>\n",
       "      <th>IDADEMAE</th>\n",
       "      <th>DTNASC</th>\n",
       "      <th>ano</th>\n",
       "      <th>mês</th>\n",
       "      <th>dia</th>\n",
       "    </tr>\n",
       "    <tr>\n",
       "      <th>munResNome</th>\n",
       "      <th></th>\n",
       "      <th></th>\n",
       "      <th></th>\n",
       "      <th></th>\n",
       "      <th></th>\n",
       "    </tr>\n",
       "  </thead>\n",
       "  <tbody>\n",
       "    <tr>\n",
       "      <th>Alta Floresta D'Oeste</th>\n",
       "      <td>19</td>\n",
       "      <td>2019-02-19</td>\n",
       "      <td>2019</td>\n",
       "      <td>02</td>\n",
       "      <td>19</td>\n",
       "    </tr>\n",
       "    <tr>\n",
       "      <th>Alta Floresta D'Oeste</th>\n",
       "      <td>29</td>\n",
       "      <td>2019-02-21</td>\n",
       "      <td>2019</td>\n",
       "      <td>02</td>\n",
       "      <td>21</td>\n",
       "    </tr>\n",
       "    <tr>\n",
       "      <th>Alta Floresta D'Oeste</th>\n",
       "      <td>37</td>\n",
       "      <td>2019-02-25</td>\n",
       "      <td>2019</td>\n",
       "      <td>02</td>\n",
       "      <td>25</td>\n",
       "    </tr>\n",
       "    <tr>\n",
       "      <th>Alto Alegre dos Parecis</th>\n",
       "      <td>30</td>\n",
       "      <td>2019-03-20</td>\n",
       "      <td>2019</td>\n",
       "      <td>03</td>\n",
       "      <td>20</td>\n",
       "    </tr>\n",
       "    <tr>\n",
       "      <th>Alta Floresta D'Oeste</th>\n",
       "      <td>30</td>\n",
       "      <td>2019-03-23</td>\n",
       "      <td>2019</td>\n",
       "      <td>03</td>\n",
       "      <td>23</td>\n",
       "    </tr>\n",
       "  </tbody>\n",
       "</table>\n",
       "</div>"
      ],
      "text/plain": [
       "                         IDADEMAE     DTNASC   ano mês dia\n",
       "munResNome                                                \n",
       "Alta Floresta D'Oeste          19 2019-02-19  2019  02  19\n",
       "Alta Floresta D'Oeste          29 2019-02-21  2019  02  21\n",
       "Alta Floresta D'Oeste          37 2019-02-25  2019  02  25\n",
       "Alto Alegre dos Parecis        30 2019-03-20  2019  03  20\n",
       "Alta Floresta D'Oeste          30 2019-03-23  2019  03  23"
      ]
     },
     "execution_count": 124,
     "metadata": {},
     "output_type": "execute_result"
    }
   ],
   "source": [
    "sinasc4.head()"
   ]
  },
  {
   "cell_type": "code",
   "execution_count": 84,
   "metadata": {},
   "outputs": [
    {
     "data": {
      "text/plain": [
       "munResNome\n",
       "Alta Floresta D'Oeste        25.991826\n",
       "Alto Alegre dos Parecis      24.844156\n",
       "Alto Paraíso                 24.960177\n",
       "Alvorada D'Oeste             25.770732\n",
       "Ariquemes                    25.607866\n",
       "Buritis                      25.559177\n",
       "Cabixi                       26.037500\n",
       "Cacaulândia                  25.546667\n",
       "Cacoal                       26.890102\n",
       "Campo Novo de Rondônia       24.825301\n",
       "Candeias do Jamari           25.243323\n",
       "Castanheiras                 27.281250\n",
       "Cerejeiras                   27.240506\n",
       "Chupinguaia                  25.333333\n",
       "Colorado do Oeste            27.602804\n",
       "Corumbiara                   24.716535\n",
       "Costa Marques                24.412017\n",
       "Cujubim                      24.482927\n",
       "Espigão D'Oeste              26.093333\n",
       "Governador Jorge Teixeira    24.401786\n",
       "Guajará-Mirim                25.462228\n",
       "Itapuã do Oeste              26.064220\n",
       "Jaru                         25.982974\n",
       "Ji-Paraná                    26.361137\n",
       "Machadinho D'Oeste           25.480000\n",
       "Ministro Andreazza           27.904762\n",
       "Mirante da Serra             26.304878\n",
       "Monte Negro                  25.648241\n",
       "Município ignorado - RO      24.000000\n",
       "Nova Brasilândia D'Oeste     26.222222\n",
       "Nova Mamoré                  25.326389\n",
       "Nova União                   26.894231\n",
       "Novo Horizonte do Oeste      26.938776\n",
       "Ouro Preto do Oeste          26.375594\n",
       "Parecis                      26.454545\n",
       "Pimenta Bueno                25.199675\n",
       "Pimenteiras do Oeste         25.075000\n",
       "Porto Velho                  26.312670\n",
       "Presidente Médici            25.796053\n",
       "Primavera de Rondônia        27.023256\n",
       "Rio Crespo                   26.660000\n",
       "Rolim de Moura               26.600863\n",
       "Santa Luzia D'Oeste          26.121212\n",
       "Seringueiras                 24.910714\n",
       "São Felipe D'Oeste           26.481481\n",
       "São Francisco do Guaporé     25.660066\n",
       "São Miguel do Guaporé        25.926346\n",
       "Teixeirópolis                26.031250\n",
       "Theobroma                    25.536082\n",
       "Urupá                        26.688235\n",
       "Vale do Anari                26.096774\n",
       "Vale do Paraíso              25.679012\n",
       "Vilhena                      26.433962\n",
       "Name: IDADEMAE, dtype: float64"
      ]
     },
     "execution_count": 84,
     "metadata": {},
     "output_type": "execute_result"
    }
   ],
   "source": [
    "sinasc4.groupby('munResNome')['IDADEMAE'].mean() #identificando a média de idade das mães por município"
   ]
  },
  {
   "cell_type": "code",
   "execution_count": null,
   "metadata": {},
   "outputs": [],
   "source": []
  },
  {
   "cell_type": "code",
   "execution_count": 103,
   "metadata": {},
   "outputs": [
    {
     "name": "stderr",
     "output_type": "stream",
     "text": [
      "C:\\Users\\khrik\\AppData\\Local\\Temp\\ipykernel_3852\\1570083630.py:1: FutureWarning: The default value of numeric_only in DataFrameGroupBy.mean is deprecated. In a future version, numeric_only will default to False. Either specify numeric_only or select only columns which should be valid for the function.\n",
      "  result = sinasc4.groupby([reg_imediata,'mês']).mean()\n"
     ]
    }
   ],
   "source": [
    "result = sinasc4.groupby([reg_imediata,'mês']).mean() # escolhi o mês como variável tempo"
   ]
  },
  {
   "cell_type": "code",
   "execution_count": null,
   "metadata": {},
   "outputs": [],
   "source": [
    "my_colors = [(x/10.0, x/20.0, 0.75) for x in range(len(df))]"
   ]
  },
  {
   "cell_type": "code",
   "execution_count": 74,
   "metadata": {},
   "outputs": [
    {
     "ename": "NameError",
     "evalue": "name 'result' is not defined",
     "output_type": "error",
     "traceback": [
      "\u001b[1;31m---------------------------------------------------------------------------\u001b[0m",
      "\u001b[1;31mNameError\u001b[0m                                 Traceback (most recent call last)",
      "Cell \u001b[1;32mIn[74], line 1\u001b[0m\n\u001b[1;32m----> 1\u001b[0m ax \u001b[38;5;241m=\u001b[39m \u001b[43mresult\u001b[49m\u001b[38;5;241m.\u001b[39mplot\u001b[38;5;241m.\u001b[39mbar(figsize\u001b[38;5;241m=\u001b[39m[\u001b[38;5;241m18\u001b[39m,\u001b[38;5;241m6\u001b[39m], color \u001b[38;5;241m=\u001b[39m \u001b[38;5;124m\"\u001b[39m\u001b[38;5;124mc\u001b[39m\u001b[38;5;124m\"\u001b[39m)\n\u001b[0;32m      3\u001b[0m plt\u001b[38;5;241m.\u001b[39mtitle(\u001b[38;5;124m'\u001b[39m\u001b[38;5;124mIdade médias das mãe ao longo dos meses em cada região imediata de Rondônia\u001b[39m\u001b[38;5;124m'\u001b[39m)\n\u001b[0;32m      4\u001b[0m plt\u001b[38;5;241m.\u001b[39mylabel(\u001b[38;5;124m'\u001b[39m\u001b[38;5;124mMédia de idade das mães\u001b[39m\u001b[38;5;124m'\u001b[39m);\n",
      "\u001b[1;31mNameError\u001b[0m: name 'result' is not defined"
     ]
    }
   ],
   "source": [
    "ax = result.plot.bar(figsize=[18,6], color = \"c\")\n",
    "\n",
    "plt.title('Idade médias das mãe ao longo dos meses em cada região imediata de Rondônia')\n",
    "plt.ylabel('Média de idade das mães');\n",
    "plt.xlabel('Regiões Imediatas');\n",
    "\n",
    "ax.set_ylim([24, 28]);\n",
    "ax.set_yticks((24,25,26,27,28));"
   ]
  },
  {
   "cell_type": "code",
   "execution_count": 66,
   "metadata": {},
   "outputs": [
    {
     "name": "stderr",
     "output_type": "stream",
     "text": [
      "C:\\Users\\khrik\\AppData\\Local\\Temp\\ipykernel_13940\\388524209.py:1: FutureWarning: The default value of numeric_only in DataFrameGroupBy.mean is deprecated. In a future version, numeric_only will default to False. Either specify numeric_only or select only columns which should be valid for the function.\n",
      "  result2 = sinasc4.groupby([reg_imediata]).mean()\n"
     ]
    }
   ],
   "source": [
    "result2 = sinasc4.groupby([reg_imediata]).mean()"
   ]
  },
  {
   "cell_type": "code",
   "execution_count": 71,
   "metadata": {},
   "outputs": [
    {
     "data": {
      "image/png": "[encoded data removed]",
      "text/plain": [
       "<Figure size 1200x600 with 1 Axes>"
      ]
     },
     "metadata": {},
     "output_type": "display_data"
    }
   ],
   "source": [
    "ax2 = result2.plot.bar(figsize=[12,6], color = \"maroon\") # plotando a média de idade das mães por região imediata\n",
    "\n",
    "plt.title('Idade médias das mães por região imediata de Rondônia')\n",
    "plt.ylabel('Média de idade das mães');\n",
    "plt.xlabel('Regiões Imediatas');\n",
    "\n",
    "ax2.set_ylim([25, 27]);\n",
    "ax2.set_yticks((25,26,27));"
   ]
  },
  {
   "cell_type": "code",
   "execution_count": 88,
   "metadata": {},
   "outputs": [
    {
     "name": "stderr",
     "output_type": "stream",
     "text": [
      "C:\\Users\\khrik\\AppData\\Local\\Temp\\ipykernel_13940\\748062496.py:1: FutureWarning: The default value of numeric_only in DataFrameGroupBy.median is deprecated. In a future version, numeric_only will default to False. Either specify numeric_only or select only columns which should be valid for the function.\n",
      "  result2 = sinasc4.groupby([reg_imediata]).median()\n"
     ]
    }
   ],
   "source": [
    "result2 = sinasc4.groupby([reg_imediata]).median()"
   ]
  },
  {
   "cell_type": "code",
   "execution_count": 92,
   "metadata": {},
   "outputs": [
    {
     "data": {
      "image/png": "[encoded data removed]",
      "text/plain": [
       "<Figure size 1200x600 with 1 Axes>"
      ]
     },
     "metadata": {},
     "output_type": "display_data"
    }
   ],
   "source": [
    "ax3 = result2.plot.bar(figsize=[12,6], color = \"maroon\") # plotando a média de idade das mães por região imediata\n",
    "\n",
    "plt.title('Idade médias das mães por região imediata de Rondônia')\n",
    "plt.ylabel('Média de idade das mães');\n",
    "plt.xlabel('Regiões Imediatas');\n",
    "\n",
    "ax3.set_ylim([24, 27]);\n",
    "ax3.set_yticks((24,25,26,27));"
   ]
  },
  {
   "cell_type": "markdown",
   "metadata": {},
   "source": [
    "### 5. Utilize a tabela do link abaixo e crie faixas utilizando o mapping e gere agrupamentos utilizando essas faixas como chave\n"
   ]
  },
  {
   "cell_type": "markdown",
   "metadata": {},
   "source": [
    "### 5.1 IDH\n",
    "A - https://pt.wikipedia.org/wiki/Lista_de_munic%C3%ADpios_de_Rond%C3%B4nia_por_IDH-M\n"
   ]
  },
  {
   "cell_type": "code",
   "execution_count": 76,
   "metadata": {},
   "outputs": [],
   "source": [
    "dados_ro = pd.read_csv('dados_extras_ro.csv', sep=';', encoding='latin_1')"
   ]
  },
  {
   "cell_type": "code",
   "execution_count": 27,
   "metadata": {},
   "outputs": [
    {
     "data": {
      "text/html": [
       "<div>\n",
       "<style scoped>\n",
       "    .dataframe tbody tr th:only-of-type {\n",
       "        vertical-align: middle;\n",
       "    }\n",
       "\n",
       "    .dataframe tbody tr th {\n",
       "        vertical-align: top;\n",
       "    }\n",
       "\n",
       "    .dataframe thead th {\n",
       "        text-align: right;\n",
       "    }\n",
       "</style>\n",
       "<table border=\"1\" class=\"dataframe\">\n",
       "  <thead>\n",
       "    <tr style=\"text-align: right;\">\n",
       "      <th></th>\n",
       "      <th>municipio</th>\n",
       "      <th>regiao</th>\n",
       "      <th>idh</th>\n",
       "      <th>ifdm</th>\n",
       "      <th>pib</th>\n",
       "    </tr>\n",
       "  </thead>\n",
       "  <tbody>\n",
       "    <tr>\n",
       "      <th>0</th>\n",
       "      <td>Alta Floresta D'Oeste</td>\n",
       "      <td>Cacoal</td>\n",
       "      <td>0.641</td>\n",
       "      <td>0.6337</td>\n",
       "      <td>496000</td>\n",
       "    </tr>\n",
       "    <tr>\n",
       "      <th>1</th>\n",
       "      <td>Alto Alegre dos Parecis</td>\n",
       "      <td>Cacoal</td>\n",
       "      <td>0.592</td>\n",
       "      <td>0.5046</td>\n",
       "      <td>213410</td>\n",
       "    </tr>\n",
       "    <tr>\n",
       "      <th>2</th>\n",
       "      <td>Alto Paraíso</td>\n",
       "      <td>Ariquemes</td>\n",
       "      <td>0.625</td>\n",
       "      <td>0.5735</td>\n",
       "      <td>358000</td>\n",
       "    </tr>\n",
       "    <tr>\n",
       "      <th>3</th>\n",
       "      <td>Alvorada D'Oeste</td>\n",
       "      <td>Ji-Paraná</td>\n",
       "      <td>0.643</td>\n",
       "      <td>0.5919</td>\n",
       "      <td>204098</td>\n",
       "    </tr>\n",
       "    <tr>\n",
       "      <th>4</th>\n",
       "      <td>Ariquemes</td>\n",
       "      <td>Ariquemes</td>\n",
       "      <td>0.702</td>\n",
       "      <td>0.7746</td>\n",
       "      <td>2579830</td>\n",
       "    </tr>\n",
       "  </tbody>\n",
       "</table>\n",
       "</div>"
      ],
      "text/plain": [
       "                 municipio     regiao    idh    ifdm      pib\n",
       "0    Alta Floresta D'Oeste     Cacoal  0.641  0.6337   496000\n",
       "1  Alto Alegre dos Parecis     Cacoal  0.592  0.5046   213410\n",
       "2             Alto Paraíso  Ariquemes  0.625  0.5735   358000\n",
       "3         Alvorada D'Oeste  Ji-Paraná  0.643  0.5919   204098\n",
       "4                Ariquemes  Ariquemes  0.702  0.7746  2579830"
      ]
     },
     "execution_count": 27,
     "metadata": {},
     "output_type": "execute_result"
    }
   ],
   "source": [
    "dados_ro.head()"
   ]
  },
  {
   "cell_type": "code",
   "execution_count": 54,
   "metadata": {},
   "outputs": [
    {
     "name": "stdout",
     "output_type": "stream",
     "text": [
      "<class 'pandas.core.frame.DataFrame'>\n",
      "RangeIndex: 52 entries, 0 to 51\n",
      "Data columns (total 5 columns):\n",
      " #   Column     Non-Null Count  Dtype  \n",
      "---  ------     --------------  -----  \n",
      " 0   municipio  52 non-null     object \n",
      " 1   regiao     52 non-null     object \n",
      " 2   idh        52 non-null     float64\n",
      " 3   ifdm       52 non-null     float64\n",
      " 4   pib        52 non-null     int64  \n",
      "dtypes: float64(2), int64(1), object(2)\n",
      "memory usage: 2.2+ KB\n"
     ]
    }
   ],
   "source": [
    "dados_ro.info()"
   ]
  },
  {
   "cell_type": "code",
   "execution_count": null,
   "metadata": {},
   "outputs": [],
   "source": [
    "dados_ro = dados_ro.set_index."
   ]
  },
  {
   "cell_type": "code",
   "execution_count": 23,
   "metadata": {},
   "outputs": [],
   "source": [
    "idhcut = pd.cut(dados_ro['idh'], [0.583,0.600,0.699,0.750])"
   ]
  },
  {
   "cell_type": "code",
   "execution_count": 77,
   "metadata": {},
   "outputs": [
    {
     "data": {
      "text/html": [
       "<div>\n",
       "<style scoped>\n",
       "    .dataframe tbody tr th:only-of-type {\n",
       "        vertical-align: middle;\n",
       "    }\n",
       "\n",
       "    .dataframe tbody tr th {\n",
       "        vertical-align: top;\n",
       "    }\n",
       "\n",
       "    .dataframe thead th {\n",
       "        text-align: right;\n",
       "    }\n",
       "</style>\n",
       "<table border=\"1\" class=\"dataframe\">\n",
       "  <thead>\n",
       "    <tr style=\"text-align: right;\">\n",
       "      <th></th>\n",
       "      <th>municipio</th>\n",
       "    </tr>\n",
       "    <tr>\n",
       "      <th>idh</th>\n",
       "      <th></th>\n",
       "    </tr>\n",
       "  </thead>\n",
       "  <tbody>\n",
       "    <tr>\n",
       "      <th>(0.583, 0.6]</th>\n",
       "      <td>Alto Alegre dos ParecisCampo Novo de RondôniaG...</td>\n",
       "    </tr>\n",
       "    <tr>\n",
       "      <th>(0.6, 0.699]</th>\n",
       "      <td>Alta Floresta D'OesteAlto ParaísoAlvorada D'Oe...</td>\n",
       "    </tr>\n",
       "    <tr>\n",
       "      <th>(0.699, 0.75]</th>\n",
       "      <td>AriquemesCacoalJi-ParanáPimenta BuenoPorto Vel...</td>\n",
       "    </tr>\n",
       "  </tbody>\n",
       "</table>\n",
       "</div>"
      ],
      "text/plain": [
       "                                                       municipio\n",
       "idh                                                             \n",
       "(0.583, 0.6]   Alto Alegre dos ParecisCampo Novo de RondôniaG...\n",
       "(0.6, 0.699]   Alta Floresta D'OesteAlto ParaísoAlvorada D'Oe...\n",
       "(0.699, 0.75]  AriquemesCacoalJi-ParanáPimenta BuenoPorto Vel..."
      ]
     },
     "execution_count": 77,
     "metadata": {},
     "output_type": "execute_result"
    }
   ],
   "source": [
    "dados_ro.groupby(idhcut)[['municipio']].sum()"
   ]
  },
  {
   "cell_type": "code",
   "execution_count": 86,
   "metadata": {},
   "outputs": [
    {
     "data": {
      "text/plain": [
       "regiao\n",
       "Ariquemes      0.630500\n",
       "Cacoal         0.655929\n",
       "Jaru           0.610800\n",
       "Ji-Paraná      0.636769\n",
       "Porto Velho    0.648600\n",
       "Vilhena        0.669714\n",
       "Name: idh, dtype: float64"
      ]
     },
     "execution_count": 86,
     "metadata": {},
     "output_type": "execute_result"
    }
   ],
   "source": [
    "dados_ro.groupby('regiao')['idh'].mean()"
   ]
  },
  {
   "cell_type": "markdown",
   "metadata": {},
   "source": [
    "### 5.2 IFDM \n",
    "B - https://pt.wikipedia.org/wiki/Lista_de_munic%C3%ADpios_de_Rond%C3%B4nia_por_IFDM\n"
   ]
  },
  {
   "cell_type": "code",
   "execution_count": 45,
   "metadata": {},
   "outputs": [],
   "source": [
    "ifdmcut = pd.cut(dados_ro['ifdm'],[0.4560,0.5999,0.777])"
   ]
  },
  {
   "cell_type": "code",
   "execution_count": 49,
   "metadata": {},
   "outputs": [
    {
     "data": {
      "text/html": [
       "<div>\n",
       "<style scoped>\n",
       "    .dataframe tbody tr th:only-of-type {\n",
       "        vertical-align: middle;\n",
       "    }\n",
       "\n",
       "    .dataframe tbody tr th {\n",
       "        vertical-align: top;\n",
       "    }\n",
       "\n",
       "    .dataframe thead th {\n",
       "        text-align: right;\n",
       "    }\n",
       "</style>\n",
       "<table border=\"1\" class=\"dataframe\">\n",
       "  <thead>\n",
       "    <tr style=\"text-align: right;\">\n",
       "      <th></th>\n",
       "      <th>municipio</th>\n",
       "    </tr>\n",
       "    <tr>\n",
       "      <th>ifdm</th>\n",
       "      <th></th>\n",
       "    </tr>\n",
       "  </thead>\n",
       "  <tbody>\n",
       "    <tr>\n",
       "      <th>(0.456, 0.6]</th>\n",
       "      <td>Alto Alegre dos ParecisAlto ParaísoAlvorada D'...</td>\n",
       "    </tr>\n",
       "    <tr>\n",
       "      <th>(0.6, 0.777]</th>\n",
       "      <td>Alta Floresta D'OesteAriquemesBuritisCacoalCan...</td>\n",
       "    </tr>\n",
       "  </tbody>\n",
       "</table>\n",
       "</div>"
      ],
      "text/plain": [
       "                                                      municipio\n",
       "ifdm                                                           \n",
       "(0.456, 0.6]  Alto Alegre dos ParecisAlto ParaísoAlvorada D'...\n",
       "(0.6, 0.777]  Alta Floresta D'OesteAriquemesBuritisCacoalCan..."
      ]
     },
     "execution_count": 49,
     "metadata": {},
     "output_type": "execute_result"
    }
   ],
   "source": [
    "dados_ro.groupby(ifdmcut)['municipio'].sum().to_frame()"
   ]
  },
  {
   "cell_type": "code",
   "execution_count": 87,
   "metadata": {},
   "outputs": [
    {
     "data": {
      "text/plain": [
       "regiao\n",
       "Ariquemes      0.602175\n",
       "Cacoal         0.616614\n",
       "Jaru           0.548980\n",
       "Ji-Paraná      0.610092\n",
       "Porto Velho    0.599680\n",
       "Vilhena        0.642686\n",
       "Name: ifdm, dtype: float64"
      ]
     },
     "execution_count": 87,
     "metadata": {},
     "output_type": "execute_result"
    }
   ],
   "source": [
    "dados_ro.groupby('regiao')['ifdm'].mean()"
   ]
  },
  {
   "cell_type": "markdown",
   "metadata": {},
   "source": [
    "### 5.3 PIB\n",
    "C - https://pt.wikipedia.org/wiki/Lista_de_munic%C3%ADpios_de_Rond%C3%B4nia_por_PIB\n"
   ]
  },
  {
   "cell_type": "code",
   "execution_count": 55,
   "metadata": {},
   "outputs": [],
   "source": [
    "pibcut = pd.cut(dados_ro['pib'],[52000,100000,200000,300000,500000,900000,18000000])"
   ]
  },
  {
   "cell_type": "code",
   "execution_count": 73,
   "metadata": {},
   "outputs": [
    {
     "data": {
      "text/html": [
       "<div>\n",
       "<style scoped>\n",
       "    .dataframe tbody tr th:only-of-type {\n",
       "        vertical-align: middle;\n",
       "    }\n",
       "\n",
       "    .dataframe tbody tr th {\n",
       "        vertical-align: top;\n",
       "    }\n",
       "\n",
       "    .dataframe thead th {\n",
       "        text-align: right;\n",
       "    }\n",
       "</style>\n",
       "<table border=\"1\" class=\"dataframe\">\n",
       "  <thead>\n",
       "    <tr style=\"text-align: right;\">\n",
       "      <th></th>\n",
       "      <th>municipio</th>\n",
       "      <th>regiao</th>\n",
       "    </tr>\n",
       "    <tr>\n",
       "      <th>pib</th>\n",
       "      <th></th>\n",
       "      <th></th>\n",
       "    </tr>\n",
       "  </thead>\n",
       "  <tbody>\n",
       "    <tr>\n",
       "      <th>(52000, 100000]</th>\n",
       "      <td>CastanheirasNova UniãoParecisPimenteiras do Oe...</td>\n",
       "      <td>CacoalJi-ParanáCacoalVilhenaCacoalAriquemesCac...</td>\n",
       "    </tr>\n",
       "    <tr>\n",
       "      <th>(100000, 200000]</th>\n",
       "      <td>CabixiCacaulândiaChupinguaiaCorumbiaraCosta Ma...</td>\n",
       "      <td>VilhenaAriquemesVilhenaVilhenaJi-ParanáJaruPor...</td>\n",
       "    </tr>\n",
       "    <tr>\n",
       "      <th>(200000, 300000]</th>\n",
       "      <td>Alto Alegre dos ParecisAlvorada D'OesteCampo N...</td>\n",
       "      <td>CacoalJi-ParanáAriquemesAriquemes</td>\n",
       "    </tr>\n",
       "    <tr>\n",
       "      <th>(300000, 500000]</th>\n",
       "      <td>Alta Floresta D'OesteAlto ParaísoColorado do O...</td>\n",
       "      <td>CacoalAriquemesVilhenaAriquemesCacoalJi-Paraná...</td>\n",
       "    </tr>\n",
       "    <tr>\n",
       "      <th>(500000, 900000]</th>\n",
       "      <td>BuritisCandeias do JamariCerejeirasEspigão D'O...</td>\n",
       "      <td>AriquemesPorto VelhoVilhenaCacoalPorto VelhoJa...</td>\n",
       "    </tr>\n",
       "    <tr>\n",
       "      <th>(900000, 18000000]</th>\n",
       "      <td>AriquemesCacoalJaruJi-ParanáPimenta BuenoPorto...</td>\n",
       "      <td>AriquemesCacoalJaruJi-ParanáCacoalPorto VelhoC...</td>\n",
       "    </tr>\n",
       "  </tbody>\n",
       "</table>\n",
       "</div>"
      ],
      "text/plain": [
       "                                                            municipio  \\\n",
       "pib                                                                     \n",
       "(52000, 100000]     CastanheirasNova UniãoParecisPimenteiras do Oe...   \n",
       "(100000, 200000]    CabixiCacaulândiaChupinguaiaCorumbiaraCosta Ma...   \n",
       "(200000, 300000]    Alto Alegre dos ParecisAlvorada D'OesteCampo N...   \n",
       "(300000, 500000]    Alta Floresta D'OesteAlto ParaísoColorado do O...   \n",
       "(500000, 900000]    BuritisCandeias do JamariCerejeirasEspigão D'O...   \n",
       "(900000, 18000000]  AriquemesCacoalJaruJi-ParanáPimenta BuenoPorto...   \n",
       "\n",
       "                                                               regiao  \n",
       "pib                                                                    \n",
       "(52000, 100000]     CacoalJi-ParanáCacoalVilhenaCacoalAriquemesCac...  \n",
       "(100000, 200000]    VilhenaAriquemesVilhenaVilhenaJi-ParanáJaruPor...  \n",
       "(200000, 300000]                    CacoalJi-ParanáAriquemesAriquemes  \n",
       "(300000, 500000]    CacoalAriquemesVilhenaAriquemesCacoalJi-Paraná...  \n",
       "(500000, 900000]    AriquemesPorto VelhoVilhenaCacoalPorto VelhoJa...  \n",
       "(900000, 18000000]  AriquemesCacoalJaruJi-ParanáCacoalPorto VelhoC...  "
      ]
     },
     "execution_count": 73,
     "metadata": {},
     "output_type": "execute_result"
    }
   ],
   "source": [
    "dados_ro.groupby(pibcut)[['municipio','regiao']].sum()"
   ]
  },
  {
   "cell_type": "code",
   "execution_count": 96,
   "metadata": {},
   "outputs": [
    {
     "data": {
      "text/html": [
       "<div>\n",
       "<style scoped>\n",
       "    .dataframe tbody tr th:only-of-type {\n",
       "        vertical-align: middle;\n",
       "    }\n",
       "\n",
       "    .dataframe tbody tr th {\n",
       "        vertical-align: top;\n",
       "    }\n",
       "\n",
       "    .dataframe thead th {\n",
       "        text-align: right;\n",
       "    }\n",
       "</style>\n",
       "<table border=\"1\" class=\"dataframe\">\n",
       "  <thead>\n",
       "    <tr style=\"text-align: right;\">\n",
       "      <th></th>\n",
       "      <th>pib</th>\n",
       "    </tr>\n",
       "    <tr>\n",
       "      <th>regiao</th>\n",
       "      <th></th>\n",
       "    </tr>\n",
       "  </thead>\n",
       "  <tbody>\n",
       "    <tr>\n",
       "      <th>Ariquemes</th>\n",
       "      <td>4670292</td>\n",
       "    </tr>\n",
       "    <tr>\n",
       "      <th>Cacoal</th>\n",
       "      <td>7109861</td>\n",
       "    </tr>\n",
       "    <tr>\n",
       "      <th>Jaru</th>\n",
       "      <td>2527726</td>\n",
       "    </tr>\n",
       "    <tr>\n",
       "      <th>Ji-Paraná</th>\n",
       "      <td>7177652</td>\n",
       "    </tr>\n",
       "    <tr>\n",
       "      <th>Porto Velho</th>\n",
       "      <td>20011421</td>\n",
       "    </tr>\n",
       "    <tr>\n",
       "      <th>Vilhena</th>\n",
       "      <td>4241511</td>\n",
       "    </tr>\n",
       "    <tr>\n",
       "      <th>Total</th>\n",
       "      <td>45738463</td>\n",
       "    </tr>\n",
       "  </tbody>\n",
       "</table>\n",
       "</div>"
      ],
      "text/plain": [
       "                  pib\n",
       "regiao               \n",
       "Ariquemes     4670292\n",
       "Cacoal        7109861\n",
       "Jaru          2527726\n",
       "Ji-Paraná     7177652\n",
       "Porto Velho  20011421\n",
       "Vilhena       4241511\n",
       "Total        45738463"
      ]
     },
     "execution_count": 96,
     "metadata": {},
     "output_type": "execute_result"
    }
   ],
   "source": [
    "dados_ro.pivot_table(values = 'pib',\n",
    "                     index = 'regiao',\n",
    "                     margins = True,\n",
    "                     margins_name = 'Total',\n",
    "                     aggfunc = 'sum')"
   ]
  },
  {
   "cell_type": "markdown",
   "metadata": {},
   "source": [
    "### Analise as respostas encontradas, tire algum insight delas, conte pra gente algo encontrado nos dados."
   ]
  },
  {
   "cell_type": "markdown",
   "metadata": {},
   "source": [
    "Exemplo:\n",
    "- Ah, descobri que a idade mediana das mulheres que deram a luz no ano de 2019 dos municipios com o PIB mais alto é a maior dentre todas."
   ]
  },
  {
   "cell_type": "markdown",
   "metadata": {},
   "source": [
    "## Insights\n",
    "\n",
    "1- Geralmente, cidades ao entorno da capital, tendem a ter diversos índices mais altos. As cidade vizinhas a Porto Velho não seguem esta tendência no que diz respeito ao PIB. Há uma distribuição relativamente equlibrada do PIB nas regiões imediatas de Rondônia.\n",
    "\n",
    "2- A média de idade das mães na região imediata de Vilhena (26.48) é superior a de todas as demais regiões. Ainda que a região tenha o segundo menor PIB (4.241.511), tem o maior IDH e IFDM, o que pode apontar para uma política de acesso à informação das mães e planejamento da maternidade.\n",
    "\n",
    "3- O oposto é possível de ser observado. Jaru, a região com o menor PIB, IFDM e IDH, possui a segunda menor média de idade. No entanto. Isto não aponta para uma política menos efetiva, pois a idade média de todas as regiões imediatas varia de 24 à 26 anos de idade. Existem casos discrepantes de crianças de 12 anos sendo registradas como mães, o que já é um fato criminoso. No entanto, o caso é único e o que configura é uma idade mínima de 17 anos para as mães.\n",
    "\n",
    "4- O Porto Velho, região imediata com o maior PIB (20.011.421), apresenta um indicador superior à três estados Brasileiros, Amapá, ACre e Roraima.\n"
   ]
  }
 ],
 "metadata": {
  "kernelspec": {
   "display_name": "Python 3 (ipykernel)",
   "language": "python",
   "name": "python3"
  },
  "language_info": {
   "codemirror_mode": {
    "name": "ipython",
    "version": 3
   },
   "file_extension": ".py",
   "mimetype": "text/x-python",
   "name": "python",
   "nbconvert_exporter": "python",
   "pygments_lexer": "ipython3",
   "version": "3.10.9"
  },
  "varInspector": {
   "cols": {
    "lenName": 16,
    "lenType": 16,
    "lenVar": 40
   },
   "kernels_config": {
    "python": {
     "delete_cmd_postfix": "",
     "delete_cmd_prefix": "del ",
     "library": "var_list.py",
     "varRefreshCmd": "print(var_dic_list())"
    },
    "r": {
     "delete_cmd_postfix": ") ",
     "delete_cmd_prefix": "rm(",
     "library": "var_list.r",
     "varRefreshCmd": "cat(var_dic_list()) "
    }
   },
   "types_to_exclude": [
    "module",
    "function",
    "builtin_function_or_method",
    "instance",
    "_Feature"
   ],
   "window_display": false
  }
 },
 "nbformat": 4,
 "nbformat_minor": 4
}
