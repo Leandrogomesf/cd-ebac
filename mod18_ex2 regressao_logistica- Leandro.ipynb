{
 "cells": [
  {
   "cell_type": "markdown",
   "metadata": {},
   "source": [
    "# Regressão Logística I\n",
    "## Tarefa II\n",
    "\n",
    "Vamos trabalhar com a mesma base do exercício anterior, mas vamos aprofundar um pouco mais a nossa regressão."
   ]
  },
  {
   "cell_type": "code",
   "execution_count": 1,
   "metadata": {
    "tags": []
   },
   "outputs": [],
   "source": [
    "import pandas as pd\n",
    "import seaborn as sns\n",
    "import matplotlib.pyplot as plt\n",
    "import numpy as np\n",
    "\n",
    "import statsmodels.formula.api as smf"
   ]
  },
  {
   "cell_type": "code",
   "execution_count": 2,
   "metadata": {
    "tags": []
   },
   "outputs": [
    {
     "data": {
      "text/html": [
       "<div>\n",
       "<style scoped>\n",
       "    .dataframe tbody tr th:only-of-type {\n",
       "        vertical-align: middle;\n",
       "    }\n",
       "\n",
       "    .dataframe tbody tr th {\n",
       "        vertical-align: top;\n",
       "    }\n",
       "\n",
       "    .dataframe thead th {\n",
       "        text-align: right;\n",
       "    }\n",
       "</style>\n",
       "<table border=\"1\" class=\"dataframe\">\n",
       "  <thead>\n",
       "    <tr style=\"text-align: right;\">\n",
       "      <th></th>\n",
       "      <th>age</th>\n",
       "      <th>sex</th>\n",
       "      <th>cp</th>\n",
       "      <th>trestbps</th>\n",
       "      <th>chol</th>\n",
       "      <th>fbs</th>\n",
       "      <th>restecg</th>\n",
       "      <th>thalach</th>\n",
       "      <th>exang</th>\n",
       "      <th>oldpeak</th>\n",
       "      <th>slope</th>\n",
       "      <th>ca</th>\n",
       "      <th>thal</th>\n",
       "      <th>num</th>\n",
       "      <th>flag_doente</th>\n",
       "    </tr>\n",
       "  </thead>\n",
       "  <tbody>\n",
       "    <tr>\n",
       "      <th>0</th>\n",
       "      <td>63.0</td>\n",
       "      <td>1.0</td>\n",
       "      <td>1.0</td>\n",
       "      <td>145.0</td>\n",
       "      <td>233.0</td>\n",
       "      <td>1.0</td>\n",
       "      <td>2.0</td>\n",
       "      <td>150.0</td>\n",
       "      <td>0.0</td>\n",
       "      <td>2.3</td>\n",
       "      <td>3.0</td>\n",
       "      <td>0.0</td>\n",
       "      <td>6.0</td>\n",
       "      <td>0</td>\n",
       "      <td>0</td>\n",
       "    </tr>\n",
       "    <tr>\n",
       "      <th>1</th>\n",
       "      <td>67.0</td>\n",
       "      <td>1.0</td>\n",
       "      <td>4.0</td>\n",
       "      <td>160.0</td>\n",
       "      <td>286.0</td>\n",
       "      <td>0.0</td>\n",
       "      <td>2.0</td>\n",
       "      <td>108.0</td>\n",
       "      <td>1.0</td>\n",
       "      <td>1.5</td>\n",
       "      <td>2.0</td>\n",
       "      <td>3.0</td>\n",
       "      <td>3.0</td>\n",
       "      <td>2</td>\n",
       "      <td>1</td>\n",
       "    </tr>\n",
       "    <tr>\n",
       "      <th>2</th>\n",
       "      <td>67.0</td>\n",
       "      <td>1.0</td>\n",
       "      <td>4.0</td>\n",
       "      <td>120.0</td>\n",
       "      <td>229.0</td>\n",
       "      <td>0.0</td>\n",
       "      <td>2.0</td>\n",
       "      <td>129.0</td>\n",
       "      <td>1.0</td>\n",
       "      <td>2.6</td>\n",
       "      <td>2.0</td>\n",
       "      <td>2.0</td>\n",
       "      <td>7.0</td>\n",
       "      <td>1</td>\n",
       "      <td>1</td>\n",
       "    </tr>\n",
       "    <tr>\n",
       "      <th>3</th>\n",
       "      <td>37.0</td>\n",
       "      <td>1.0</td>\n",
       "      <td>3.0</td>\n",
       "      <td>130.0</td>\n",
       "      <td>250.0</td>\n",
       "      <td>0.0</td>\n",
       "      <td>0.0</td>\n",
       "      <td>187.0</td>\n",
       "      <td>0.0</td>\n",
       "      <td>3.5</td>\n",
       "      <td>3.0</td>\n",
       "      <td>0.0</td>\n",
       "      <td>3.0</td>\n",
       "      <td>0</td>\n",
       "      <td>0</td>\n",
       "    </tr>\n",
       "    <tr>\n",
       "      <th>4</th>\n",
       "      <td>41.0</td>\n",
       "      <td>0.0</td>\n",
       "      <td>2.0</td>\n",
       "      <td>130.0</td>\n",
       "      <td>204.0</td>\n",
       "      <td>0.0</td>\n",
       "      <td>2.0</td>\n",
       "      <td>172.0</td>\n",
       "      <td>0.0</td>\n",
       "      <td>1.4</td>\n",
       "      <td>1.0</td>\n",
       "      <td>0.0</td>\n",
       "      <td>3.0</td>\n",
       "      <td>0</td>\n",
       "      <td>0</td>\n",
       "    </tr>\n",
       "    <tr>\n",
       "      <th>...</th>\n",
       "      <td>...</td>\n",
       "      <td>...</td>\n",
       "      <td>...</td>\n",
       "      <td>...</td>\n",
       "      <td>...</td>\n",
       "      <td>...</td>\n",
       "      <td>...</td>\n",
       "      <td>...</td>\n",
       "      <td>...</td>\n",
       "      <td>...</td>\n",
       "      <td>...</td>\n",
       "      <td>...</td>\n",
       "      <td>...</td>\n",
       "      <td>...</td>\n",
       "      <td>...</td>\n",
       "    </tr>\n",
       "    <tr>\n",
       "      <th>298</th>\n",
       "      <td>45.0</td>\n",
       "      <td>1.0</td>\n",
       "      <td>1.0</td>\n",
       "      <td>110.0</td>\n",
       "      <td>264.0</td>\n",
       "      <td>0.0</td>\n",
       "      <td>0.0</td>\n",
       "      <td>132.0</td>\n",
       "      <td>0.0</td>\n",
       "      <td>1.2</td>\n",
       "      <td>2.0</td>\n",
       "      <td>0.0</td>\n",
       "      <td>7.0</td>\n",
       "      <td>1</td>\n",
       "      <td>1</td>\n",
       "    </tr>\n",
       "    <tr>\n",
       "      <th>299</th>\n",
       "      <td>68.0</td>\n",
       "      <td>1.0</td>\n",
       "      <td>4.0</td>\n",
       "      <td>144.0</td>\n",
       "      <td>193.0</td>\n",
       "      <td>1.0</td>\n",
       "      <td>0.0</td>\n",
       "      <td>141.0</td>\n",
       "      <td>0.0</td>\n",
       "      <td>3.4</td>\n",
       "      <td>2.0</td>\n",
       "      <td>2.0</td>\n",
       "      <td>7.0</td>\n",
       "      <td>2</td>\n",
       "      <td>1</td>\n",
       "    </tr>\n",
       "    <tr>\n",
       "      <th>300</th>\n",
       "      <td>57.0</td>\n",
       "      <td>1.0</td>\n",
       "      <td>4.0</td>\n",
       "      <td>130.0</td>\n",
       "      <td>131.0</td>\n",
       "      <td>0.0</td>\n",
       "      <td>0.0</td>\n",
       "      <td>115.0</td>\n",
       "      <td>1.0</td>\n",
       "      <td>1.2</td>\n",
       "      <td>2.0</td>\n",
       "      <td>1.0</td>\n",
       "      <td>7.0</td>\n",
       "      <td>3</td>\n",
       "      <td>1</td>\n",
       "    </tr>\n",
       "    <tr>\n",
       "      <th>301</th>\n",
       "      <td>57.0</td>\n",
       "      <td>0.0</td>\n",
       "      <td>2.0</td>\n",
       "      <td>130.0</td>\n",
       "      <td>236.0</td>\n",
       "      <td>0.0</td>\n",
       "      <td>2.0</td>\n",
       "      <td>174.0</td>\n",
       "      <td>0.0</td>\n",
       "      <td>0.0</td>\n",
       "      <td>2.0</td>\n",
       "      <td>1.0</td>\n",
       "      <td>3.0</td>\n",
       "      <td>1</td>\n",
       "      <td>1</td>\n",
       "    </tr>\n",
       "    <tr>\n",
       "      <th>302</th>\n",
       "      <td>38.0</td>\n",
       "      <td>1.0</td>\n",
       "      <td>3.0</td>\n",
       "      <td>138.0</td>\n",
       "      <td>175.0</td>\n",
       "      <td>0.0</td>\n",
       "      <td>0.0</td>\n",
       "      <td>173.0</td>\n",
       "      <td>0.0</td>\n",
       "      <td>0.0</td>\n",
       "      <td>1.0</td>\n",
       "      <td>?</td>\n",
       "      <td>3.0</td>\n",
       "      <td>0</td>\n",
       "      <td>0</td>\n",
       "    </tr>\n",
       "  </tbody>\n",
       "</table>\n",
       "<p>303 rows × 15 columns</p>\n",
       "</div>"
      ],
      "text/plain": [
       "      age  sex   cp  trestbps   chol  fbs  restecg  thalach  exang  oldpeak  \\\n",
       "0    63.0  1.0  1.0     145.0  233.0  1.0      2.0    150.0    0.0      2.3   \n",
       "1    67.0  1.0  4.0     160.0  286.0  0.0      2.0    108.0    1.0      1.5   \n",
       "2    67.0  1.0  4.0     120.0  229.0  0.0      2.0    129.0    1.0      2.6   \n",
       "3    37.0  1.0  3.0     130.0  250.0  0.0      0.0    187.0    0.0      3.5   \n",
       "4    41.0  0.0  2.0     130.0  204.0  0.0      2.0    172.0    0.0      1.4   \n",
       "..    ...  ...  ...       ...    ...  ...      ...      ...    ...      ...   \n",
       "298  45.0  1.0  1.0     110.0  264.0  0.0      0.0    132.0    0.0      1.2   \n",
       "299  68.0  1.0  4.0     144.0  193.0  1.0      0.0    141.0    0.0      3.4   \n",
       "300  57.0  1.0  4.0     130.0  131.0  0.0      0.0    115.0    1.0      1.2   \n",
       "301  57.0  0.0  2.0     130.0  236.0  0.0      2.0    174.0    0.0      0.0   \n",
       "302  38.0  1.0  3.0     138.0  175.0  0.0      0.0    173.0    0.0      0.0   \n",
       "\n",
       "     slope   ca thal  num  flag_doente  \n",
       "0      3.0  0.0  6.0    0            0  \n",
       "1      2.0  3.0  3.0    2            1  \n",
       "2      2.0  2.0  7.0    1            1  \n",
       "3      3.0  0.0  3.0    0            0  \n",
       "4      1.0  0.0  3.0    0            0  \n",
       "..     ...  ...  ...  ...          ...  \n",
       "298    2.0  0.0  7.0    1            1  \n",
       "299    2.0  2.0  7.0    2            1  \n",
       "300    2.0  1.0  7.0    3            1  \n",
       "301    2.0  1.0  3.0    1            1  \n",
       "302    1.0    ?  3.0    0            0  \n",
       "\n",
       "[303 rows x 15 columns]"
      ]
     },
     "execution_count": 2,
     "metadata": {},
     "output_type": "execute_result"
    }
   ],
   "source": [
    "# a base de dados já não estava mais disponível no site como antes, então fiz o download e importei a  seguinte\n",
    "url = './processed.cleveland.data'\n",
    "\n",
    "# criando a df com as variáveis escolhias\n",
    "df = pd.read_csv(url, \n",
    "                 names=['age', 'sex', 'cp', 'trestbps', 'chol', 'fbs', 'restecg',\n",
    "                        'thalach', 'exang', 'oldpeak', 'slope', 'ca', 'thal', 'num'])\n",
    "df.head()\n",
    "\n",
    "# criando variável flag de 'num' 0= saudável e 1 = doente\n",
    "\n",
    "df['flag_doente'] = (df['num'] != 0).astype('int64')\n",
    "df"
   ]
  },
  {
   "cell_type": "markdown",
   "metadata": {
    "tags": []
   },
   "source": [
    "A descrição das variáveis está recortada abaixo:\n",
    "- age: idade do paciente em anos\n",
    "- sex: sexo \n",
    "  - 1 = male; \n",
    "  - 0 = female  \n",
    "- cp: tipo de dor no peito\n",
    "  - 1: angina típica\n",
    "  - 2: angina atípica\n",
    "  - 3: dor não-angina\n",
    "  - 4: assintomático\n",
    "- trestbps: pressão sanguínea em repouso (em mm Hg na admissão ao hospital\n",
    "- chol: colesterol sérico em mg/dl\n",
    "- fbs: (açúcar no sangue em jejum > 120 mg/dl) (1 = True; 0 = False)\n",
    "- restecg: resultados eletrocardiográficos em repouso\n",
    "  - 0: normal\n",
    "  - 1: tendo anormalidade da onda ST-T (Inversões de onda T e / ou ST com elevação ou depressão de > 0.05 mV)\n",
    "  - 2: mostrando hipertrofia ventricular esquerda provável ou definitiva pelos critérios de Estes\n",
    "- thalach: frequência cardíaca máxima alcançada\n",
    "- exang: angina induzida por exercício(1 = sim; 0 = não)\n",
    "- oldpeak = Depressão de ST induzida por exercício em relação ao repouso\n",
    "- slope: Depressão de ST induzida por exercício em relação ao repouso\n",
    "  - 1: inclinação ascendente\n",
    "  - 2: estável\n",
    "  - 3: inclinação descendente\n",
    "- ca: número de vasos principais (0-3) coloridos por fluorosopia\n",
    "- thal: \n",
    "  - 3: normal; \n",
    "  - 6 = defeito corrigido; \n",
    "  - 7 = defeito reversível\n",
    "- num: diagnóstico de doença cardíaga (status de doença angiográfica)"
   ]
  },
  {
   "cell_type": "code",
   "execution_count": 3,
   "metadata": {
    "tags": []
   },
   "outputs": [
    {
     "data": {
      "text/html": [
       "<div>\n",
       "<style scoped>\n",
       "    .dataframe tbody tr th:only-of-type {\n",
       "        vertical-align: middle;\n",
       "    }\n",
       "\n",
       "    .dataframe tbody tr th {\n",
       "        vertical-align: top;\n",
       "    }\n",
       "\n",
       "    .dataframe thead th {\n",
       "        text-align: right;\n",
       "    }\n",
       "</style>\n",
       "<table border=\"1\" class=\"dataframe\">\n",
       "  <thead>\n",
       "    <tr style=\"text-align: right;\">\n",
       "      <th></th>\n",
       "      <th>age</th>\n",
       "      <th>sex</th>\n",
       "      <th>cp</th>\n",
       "      <th>trestbps</th>\n",
       "      <th>chol</th>\n",
       "      <th>fbs</th>\n",
       "      <th>restecg</th>\n",
       "      <th>thalach</th>\n",
       "      <th>exang</th>\n",
       "      <th>oldpeak</th>\n",
       "      <th>slope</th>\n",
       "      <th>num</th>\n",
       "      <th>flag_doente</th>\n",
       "    </tr>\n",
       "  </thead>\n",
       "  <tbody>\n",
       "    <tr>\n",
       "      <th>count</th>\n",
       "      <td>303.000000</td>\n",
       "      <td>303.000000</td>\n",
       "      <td>303.000000</td>\n",
       "      <td>303.000000</td>\n",
       "      <td>303.000000</td>\n",
       "      <td>303.000000</td>\n",
       "      <td>303.000000</td>\n",
       "      <td>303.000000</td>\n",
       "      <td>303.000000</td>\n",
       "      <td>303.000000</td>\n",
       "      <td>303.000000</td>\n",
       "      <td>303.000000</td>\n",
       "      <td>303.000000</td>\n",
       "    </tr>\n",
       "    <tr>\n",
       "      <th>mean</th>\n",
       "      <td>54.438944</td>\n",
       "      <td>0.679868</td>\n",
       "      <td>3.158416</td>\n",
       "      <td>131.689769</td>\n",
       "      <td>246.693069</td>\n",
       "      <td>0.148515</td>\n",
       "      <td>0.990099</td>\n",
       "      <td>149.607261</td>\n",
       "      <td>0.326733</td>\n",
       "      <td>1.039604</td>\n",
       "      <td>1.600660</td>\n",
       "      <td>0.937294</td>\n",
       "      <td>0.458746</td>\n",
       "    </tr>\n",
       "    <tr>\n",
       "      <th>std</th>\n",
       "      <td>9.038662</td>\n",
       "      <td>0.467299</td>\n",
       "      <td>0.960126</td>\n",
       "      <td>17.599748</td>\n",
       "      <td>51.776918</td>\n",
       "      <td>0.356198</td>\n",
       "      <td>0.994971</td>\n",
       "      <td>22.875003</td>\n",
       "      <td>0.469794</td>\n",
       "      <td>1.161075</td>\n",
       "      <td>0.616226</td>\n",
       "      <td>1.228536</td>\n",
       "      <td>0.499120</td>\n",
       "    </tr>\n",
       "    <tr>\n",
       "      <th>min</th>\n",
       "      <td>29.000000</td>\n",
       "      <td>0.000000</td>\n",
       "      <td>1.000000</td>\n",
       "      <td>94.000000</td>\n",
       "      <td>126.000000</td>\n",
       "      <td>0.000000</td>\n",
       "      <td>0.000000</td>\n",
       "      <td>71.000000</td>\n",
       "      <td>0.000000</td>\n",
       "      <td>0.000000</td>\n",
       "      <td>1.000000</td>\n",
       "      <td>0.000000</td>\n",
       "      <td>0.000000</td>\n",
       "    </tr>\n",
       "    <tr>\n",
       "      <th>25%</th>\n",
       "      <td>48.000000</td>\n",
       "      <td>0.000000</td>\n",
       "      <td>3.000000</td>\n",
       "      <td>120.000000</td>\n",
       "      <td>211.000000</td>\n",
       "      <td>0.000000</td>\n",
       "      <td>0.000000</td>\n",
       "      <td>133.500000</td>\n",
       "      <td>0.000000</td>\n",
       "      <td>0.000000</td>\n",
       "      <td>1.000000</td>\n",
       "      <td>0.000000</td>\n",
       "      <td>0.000000</td>\n",
       "    </tr>\n",
       "    <tr>\n",
       "      <th>50%</th>\n",
       "      <td>56.000000</td>\n",
       "      <td>1.000000</td>\n",
       "      <td>3.000000</td>\n",
       "      <td>130.000000</td>\n",
       "      <td>241.000000</td>\n",
       "      <td>0.000000</td>\n",
       "      <td>1.000000</td>\n",
       "      <td>153.000000</td>\n",
       "      <td>0.000000</td>\n",
       "      <td>0.800000</td>\n",
       "      <td>2.000000</td>\n",
       "      <td>0.000000</td>\n",
       "      <td>0.000000</td>\n",
       "    </tr>\n",
       "    <tr>\n",
       "      <th>75%</th>\n",
       "      <td>61.000000</td>\n",
       "      <td>1.000000</td>\n",
       "      <td>4.000000</td>\n",
       "      <td>140.000000</td>\n",
       "      <td>275.000000</td>\n",
       "      <td>0.000000</td>\n",
       "      <td>2.000000</td>\n",
       "      <td>166.000000</td>\n",
       "      <td>1.000000</td>\n",
       "      <td>1.600000</td>\n",
       "      <td>2.000000</td>\n",
       "      <td>2.000000</td>\n",
       "      <td>1.000000</td>\n",
       "    </tr>\n",
       "    <tr>\n",
       "      <th>max</th>\n",
       "      <td>77.000000</td>\n",
       "      <td>1.000000</td>\n",
       "      <td>4.000000</td>\n",
       "      <td>200.000000</td>\n",
       "      <td>564.000000</td>\n",
       "      <td>1.000000</td>\n",
       "      <td>2.000000</td>\n",
       "      <td>202.000000</td>\n",
       "      <td>1.000000</td>\n",
       "      <td>6.200000</td>\n",
       "      <td>3.000000</td>\n",
       "      <td>4.000000</td>\n",
       "      <td>1.000000</td>\n",
       "    </tr>\n",
       "  </tbody>\n",
       "</table>\n",
       "</div>"
      ],
      "text/plain": [
       "              age         sex          cp    trestbps        chol         fbs  \\\n",
       "count  303.000000  303.000000  303.000000  303.000000  303.000000  303.000000   \n",
       "mean    54.438944    0.679868    3.158416  131.689769  246.693069    0.148515   \n",
       "std      9.038662    0.467299    0.960126   17.599748   51.776918    0.356198   \n",
       "min     29.000000    0.000000    1.000000   94.000000  126.000000    0.000000   \n",
       "25%     48.000000    0.000000    3.000000  120.000000  211.000000    0.000000   \n",
       "50%     56.000000    1.000000    3.000000  130.000000  241.000000    0.000000   \n",
       "75%     61.000000    1.000000    4.000000  140.000000  275.000000    0.000000   \n",
       "max     77.000000    1.000000    4.000000  200.000000  564.000000    1.000000   \n",
       "\n",
       "          restecg     thalach       exang     oldpeak       slope         num  \\\n",
       "count  303.000000  303.000000  303.000000  303.000000  303.000000  303.000000   \n",
       "mean     0.990099  149.607261    0.326733    1.039604    1.600660    0.937294   \n",
       "std      0.994971   22.875003    0.469794    1.161075    0.616226    1.228536   \n",
       "min      0.000000   71.000000    0.000000    0.000000    1.000000    0.000000   \n",
       "25%      0.000000  133.500000    0.000000    0.000000    1.000000    0.000000   \n",
       "50%      1.000000  153.000000    0.000000    0.800000    2.000000    0.000000   \n",
       "75%      2.000000  166.000000    1.000000    1.600000    2.000000    2.000000   \n",
       "max      2.000000  202.000000    1.000000    6.200000    3.000000    4.000000   \n",
       "\n",
       "       flag_doente  \n",
       "count   303.000000  \n",
       "mean      0.458746  \n",
       "std       0.499120  \n",
       "min       0.000000  \n",
       "25%       0.000000  \n",
       "50%       0.000000  \n",
       "75%       1.000000  \n",
       "max       1.000000  "
      ]
     },
     "execution_count": 3,
     "metadata": {},
     "output_type": "execute_result"
    }
   ],
   "source": [
    "df.describe()"
   ]
  },
  {
   "cell_type": "code",
   "execution_count": 4,
   "metadata": {
    "collapsed": true,
    "jupyter": {
     "outputs_hidden": true
    },
    "tags": []
   },
   "outputs": [
    {
     "data": {
      "text/plain": [
       "age            0\n",
       "sex            0\n",
       "cp             0\n",
       "trestbps       0\n",
       "chol           0\n",
       "fbs            0\n",
       "restecg        0\n",
       "thalach        0\n",
       "exang          0\n",
       "oldpeak        0\n",
       "slope          0\n",
       "ca             0\n",
       "thal           0\n",
       "num            0\n",
       "flag_doente    0\n",
       "dtype: int64"
      ]
     },
     "execution_count": 4,
     "metadata": {},
     "output_type": "execute_result"
    }
   ],
   "source": [
    "# não há dados nulos\n",
    "df.isnull().sum()"
   ]
  },
  {
   "cell_type": "code",
   "execution_count": 5,
   "metadata": {
    "tags": []
   },
   "outputs": [
    {
     "data": {
      "text/plain": [
       "0"
      ]
     },
     "execution_count": 5,
     "metadata": {},
     "output_type": "execute_result"
    }
   ],
   "source": [
    "# não há entradas duplicadas\n",
    "df.duplicated().sum()"
   ]
  },
  {
   "cell_type": "code",
   "execution_count": 6,
   "metadata": {
    "collapsed": true,
    "jupyter": {
     "outputs_hidden": true
    },
    "tags": []
   },
   "outputs": [
    {
     "name": "stdout",
     "output_type": "stream",
     "text": [
      "<class 'pandas.core.frame.DataFrame'>\n",
      "RangeIndex: 303 entries, 0 to 302\n",
      "Data columns (total 15 columns):\n",
      " #   Column       Non-Null Count  Dtype  \n",
      "---  ------       --------------  -----  \n",
      " 0   age          303 non-null    float64\n",
      " 1   sex          303 non-null    float64\n",
      " 2   cp           303 non-null    float64\n",
      " 3   trestbps     303 non-null    float64\n",
      " 4   chol         303 non-null    float64\n",
      " 5   fbs          303 non-null    float64\n",
      " 6   restecg      303 non-null    float64\n",
      " 7   thalach      303 non-null    float64\n",
      " 8   exang        303 non-null    float64\n",
      " 9   oldpeak      303 non-null    float64\n",
      " 10  slope        303 non-null    float64\n",
      " 11  ca           303 non-null    object \n",
      " 12  thal         303 non-null    object \n",
      " 13  num          303 non-null    int64  \n",
      " 14  flag_doente  303 non-null    int64  \n",
      "dtypes: float64(11), int64(2), object(2)\n",
      "memory usage: 35.6+ KB\n"
     ]
    }
   ],
   "source": [
    "df.info()\n",
    "#verificando tipagem dos dados"
   ]
  },
  {
   "cell_type": "markdown",
   "metadata": {},
   "source": [
    "> Variável ``flag_doente``: 0= saudável e 1 = doente"
   ]
  },
  {
   "cell_type": "markdown",
   "metadata": {},
   "source": [
    "### 1. Considere o script que monta a análise bivariada que você fez na tarefa anterior. Transforme esse script em uma função, que deve:\n",
    "- Ter como parâmetros de entrada:\n",
    "    - Um *dataframe* contendo os dados a serem avaliados\n",
    "    - Um *string* contendo o nome da variável resposta\n",
    "    - Um *string* contendo o nome da variável explicativa\n",
    "- E deve retornar um *dataframe* com os dados da bivariada. \n",
    "**Monte** a mesma bivariada pelo menos três variáveis qualitativas do *data-frame*. Qual delas parece discriminar mais o risco?"
   ]
  },
  {
   "cell_type": "markdown",
   "metadata": {},
   "source": [
    "> \"Quando o evento é raro, o risco (ou probabilidade) do evento se aproximam numericamente do odds.\""
   ]
  },
  {
   "cell_type": "code",
   "execution_count": 7,
   "metadata": {
    "tags": []
   },
   "outputs": [],
   "source": [
    "# criando a função que retorna um crosstab para análise bivariada\n",
    "def biv (data, x:str,y:str) -> 'DataFrame':\n",
    "    x = data[x]\n",
    "    y = data[y]\n",
    "    tab = pd.crosstab(x,y, margins = True)\n",
    "    #adição de variáveis com parâmetros\n",
    "    tab['probabilidade'] = tab[1]/tab['All']\n",
    "    tab['chance'] = tab[1]/tab[0]\n",
    "    tab[f'RC_vs_{x.name}_1'] = tab['chance']/tab.loc[1,'chance']\n",
    "    tab['log_chance'] = np.log(tab['chance'])\n",
    "    tab[f'log_RC_vs_{x.name}_1'] = np.log(tab[f'RC_vs_{x.name}_1'])\n",
    "    return tab"
   ]
  },
  {
   "cell_type": "code",
   "execution_count": 8,
   "metadata": {
    "tags": []
   },
   "outputs": [
    {
     "data": {
      "text/plain": [
       "Index(['age', 'sex', 'cp', 'trestbps', 'chol', 'fbs', 'restecg', 'thalach',\n",
       "       'exang', 'oldpeak', 'slope', 'ca', 'thal', 'num', 'flag_doente'],\n",
       "      dtype='object')"
      ]
     },
     "execution_count": 8,
     "metadata": {},
     "output_type": "execute_result"
    }
   ],
   "source": [
    "df.columns # pra coletar o nome das colunas exatamente como escrito"
   ]
  },
  {
   "cell_type": "code",
   "execution_count": 9,
   "metadata": {
    "collapsed": true,
    "jupyter": {
     "outputs_hidden": true
    },
    "tags": []
   },
   "outputs": [
    {
     "data": {
      "text/html": [
       "<div>\n",
       "<style scoped>\n",
       "    .dataframe tbody tr th:only-of-type {\n",
       "        vertical-align: middle;\n",
       "    }\n",
       "\n",
       "    .dataframe tbody tr th {\n",
       "        vertical-align: top;\n",
       "    }\n",
       "\n",
       "    .dataframe thead th {\n",
       "        text-align: right;\n",
       "    }\n",
       "</style>\n",
       "<table border=\"1\" class=\"dataframe\">\n",
       "  <thead>\n",
       "    <tr style=\"text-align: right;\">\n",
       "      <th>flag_doente</th>\n",
       "      <th>0</th>\n",
       "      <th>1</th>\n",
       "      <th>All</th>\n",
       "      <th>probabilidade</th>\n",
       "      <th>chance</th>\n",
       "      <th>RC_vs_slope_1</th>\n",
       "      <th>log_chance</th>\n",
       "      <th>log_RC_vs_slope_1</th>\n",
       "    </tr>\n",
       "    <tr>\n",
       "      <th>slope</th>\n",
       "      <th></th>\n",
       "      <th></th>\n",
       "      <th></th>\n",
       "      <th></th>\n",
       "      <th></th>\n",
       "      <th></th>\n",
       "      <th></th>\n",
       "      <th></th>\n",
       "    </tr>\n",
       "  </thead>\n",
       "  <tbody>\n",
       "    <tr>\n",
       "      <th>1.0</th>\n",
       "      <td>106</td>\n",
       "      <td>36</td>\n",
       "      <td>142</td>\n",
       "      <td>0.253521</td>\n",
       "      <td>0.339623</td>\n",
       "      <td>1.000000</td>\n",
       "      <td>-1.079920</td>\n",
       "      <td>0.000000</td>\n",
       "    </tr>\n",
       "    <tr>\n",
       "      <th>2.0</th>\n",
       "      <td>49</td>\n",
       "      <td>91</td>\n",
       "      <td>140</td>\n",
       "      <td>0.650000</td>\n",
       "      <td>1.857143</td>\n",
       "      <td>5.468254</td>\n",
       "      <td>0.619039</td>\n",
       "      <td>1.698959</td>\n",
       "    </tr>\n",
       "    <tr>\n",
       "      <th>3.0</th>\n",
       "      <td>9</td>\n",
       "      <td>12</td>\n",
       "      <td>21</td>\n",
       "      <td>0.571429</td>\n",
       "      <td>1.333333</td>\n",
       "      <td>3.925926</td>\n",
       "      <td>0.287682</td>\n",
       "      <td>1.367602</td>\n",
       "    </tr>\n",
       "    <tr>\n",
       "      <th>All</th>\n",
       "      <td>164</td>\n",
       "      <td>139</td>\n",
       "      <td>303</td>\n",
       "      <td>0.458746</td>\n",
       "      <td>0.847561</td>\n",
       "      <td>2.495596</td>\n",
       "      <td>-0.165392</td>\n",
       "      <td>0.914528</td>\n",
       "    </tr>\n",
       "  </tbody>\n",
       "</table>\n",
       "</div>"
      ],
      "text/plain": [
       "flag_doente    0    1  All  probabilidade    chance  RC_vs_slope_1  \\\n",
       "slope                                                                \n",
       "1.0          106   36  142       0.253521  0.339623       1.000000   \n",
       "2.0           49   91  140       0.650000  1.857143       5.468254   \n",
       "3.0            9   12   21       0.571429  1.333333       3.925926   \n",
       "All          164  139  303       0.458746  0.847561       2.495596   \n",
       "\n",
       "flag_doente  log_chance  log_RC_vs_slope_1  \n",
       "slope                                       \n",
       "1.0           -1.079920           0.000000  \n",
       "2.0            0.619039           1.698959  \n",
       "3.0            0.287682           1.367602  \n",
       "All           -0.165392           0.914528  "
      ]
     },
     "execution_count": 9,
     "metadata": {},
     "output_type": "execute_result"
    }
   ],
   "source": [
    "# slope: Depressão de ST induzida por exercício em relação ao repouso\n",
    "#   1: inclinação ascendente\n",
    "#   2: estável\n",
    "#   3: inclinação descendente\n",
    "biv(df,'slope','flag_doente')"
   ]
  },
  {
   "cell_type": "code",
   "execution_count": 10,
   "metadata": {
    "tags": []
   },
   "outputs": [
    {
     "data": {
      "text/html": [
       "<div>\n",
       "<style scoped>\n",
       "    .dataframe tbody tr th:only-of-type {\n",
       "        vertical-align: middle;\n",
       "    }\n",
       "\n",
       "    .dataframe tbody tr th {\n",
       "        vertical-align: top;\n",
       "    }\n",
       "\n",
       "    .dataframe thead th {\n",
       "        text-align: right;\n",
       "    }\n",
       "</style>\n",
       "<table border=\"1\" class=\"dataframe\">\n",
       "  <thead>\n",
       "    <tr style=\"text-align: right;\">\n",
       "      <th>flag_doente</th>\n",
       "      <th>0</th>\n",
       "      <th>1</th>\n",
       "      <th>All</th>\n",
       "      <th>probabilidade</th>\n",
       "      <th>chance</th>\n",
       "      <th>RC_vs_cp_1</th>\n",
       "      <th>log_chance</th>\n",
       "      <th>log_RC_vs_cp_1</th>\n",
       "    </tr>\n",
       "    <tr>\n",
       "      <th>cp</th>\n",
       "      <th></th>\n",
       "      <th></th>\n",
       "      <th></th>\n",
       "      <th></th>\n",
       "      <th></th>\n",
       "      <th></th>\n",
       "      <th></th>\n",
       "      <th></th>\n",
       "    </tr>\n",
       "  </thead>\n",
       "  <tbody>\n",
       "    <tr>\n",
       "      <th>1.0</th>\n",
       "      <td>16</td>\n",
       "      <td>7</td>\n",
       "      <td>23</td>\n",
       "      <td>0.304348</td>\n",
       "      <td>0.437500</td>\n",
       "      <td>1.000000</td>\n",
       "      <td>-0.826679</td>\n",
       "      <td>0.000000</td>\n",
       "    </tr>\n",
       "    <tr>\n",
       "      <th>2.0</th>\n",
       "      <td>41</td>\n",
       "      <td>9</td>\n",
       "      <td>50</td>\n",
       "      <td>0.180000</td>\n",
       "      <td>0.219512</td>\n",
       "      <td>0.501742</td>\n",
       "      <td>-1.516347</td>\n",
       "      <td>-0.689669</td>\n",
       "    </tr>\n",
       "    <tr>\n",
       "      <th>3.0</th>\n",
       "      <td>68</td>\n",
       "      <td>18</td>\n",
       "      <td>86</td>\n",
       "      <td>0.209302</td>\n",
       "      <td>0.264706</td>\n",
       "      <td>0.605042</td>\n",
       "      <td>-1.329136</td>\n",
       "      <td>-0.502457</td>\n",
       "    </tr>\n",
       "    <tr>\n",
       "      <th>4.0</th>\n",
       "      <td>39</td>\n",
       "      <td>105</td>\n",
       "      <td>144</td>\n",
       "      <td>0.729167</td>\n",
       "      <td>2.692308</td>\n",
       "      <td>6.153846</td>\n",
       "      <td>0.990399</td>\n",
       "      <td>1.817077</td>\n",
       "    </tr>\n",
       "    <tr>\n",
       "      <th>All</th>\n",
       "      <td>164</td>\n",
       "      <td>139</td>\n",
       "      <td>303</td>\n",
       "      <td>0.458746</td>\n",
       "      <td>0.847561</td>\n",
       "      <td>1.937282</td>\n",
       "      <td>-0.165392</td>\n",
       "      <td>0.661286</td>\n",
       "    </tr>\n",
       "  </tbody>\n",
       "</table>\n",
       "</div>"
      ],
      "text/plain": [
       "flag_doente    0    1  All  probabilidade    chance  RC_vs_cp_1  log_chance  \\\n",
       "cp                                                                            \n",
       "1.0           16    7   23       0.304348  0.437500    1.000000   -0.826679   \n",
       "2.0           41    9   50       0.180000  0.219512    0.501742   -1.516347   \n",
       "3.0           68   18   86       0.209302  0.264706    0.605042   -1.329136   \n",
       "4.0           39  105  144       0.729167  2.692308    6.153846    0.990399   \n",
       "All          164  139  303       0.458746  0.847561    1.937282   -0.165392   \n",
       "\n",
       "flag_doente  log_RC_vs_cp_1  \n",
       "cp                           \n",
       "1.0                0.000000  \n",
       "2.0               -0.689669  \n",
       "3.0               -0.502457  \n",
       "4.0                1.817077  \n",
       "All                0.661286  "
      ]
     },
     "execution_count": 10,
     "metadata": {},
     "output_type": "execute_result"
    }
   ],
   "source": [
    "# cp: tipo de dor no peito\n",
    "#   1: angina típica\n",
    "#   2: angina atípica\n",
    "#   3: dor não-angina\n",
    "#   4: assintomático\n",
    "biv(df,'cp','flag_doente')"
   ]
  },
  {
   "cell_type": "code",
   "execution_count": 11,
   "metadata": {
    "collapsed": true,
    "jupyter": {
     "outputs_hidden": true
    },
    "tags": []
   },
   "outputs": [
    {
     "data": {
      "text/html": [
       "<div>\n",
       "<style scoped>\n",
       "    .dataframe tbody tr th:only-of-type {\n",
       "        vertical-align: middle;\n",
       "    }\n",
       "\n",
       "    .dataframe tbody tr th {\n",
       "        vertical-align: top;\n",
       "    }\n",
       "\n",
       "    .dataframe thead th {\n",
       "        text-align: right;\n",
       "    }\n",
       "</style>\n",
       "<table border=\"1\" class=\"dataframe\">\n",
       "  <thead>\n",
       "    <tr style=\"text-align: right;\">\n",
       "      <th>flag_doente</th>\n",
       "      <th>0</th>\n",
       "      <th>1</th>\n",
       "      <th>All</th>\n",
       "      <th>probabilidade</th>\n",
       "      <th>chance</th>\n",
       "      <th>RC_vs_restecg_1</th>\n",
       "      <th>log_chance</th>\n",
       "      <th>log_RC_vs_restecg_1</th>\n",
       "    </tr>\n",
       "    <tr>\n",
       "      <th>restecg</th>\n",
       "      <th></th>\n",
       "      <th></th>\n",
       "      <th></th>\n",
       "      <th></th>\n",
       "      <th></th>\n",
       "      <th></th>\n",
       "      <th></th>\n",
       "      <th></th>\n",
       "    </tr>\n",
       "  </thead>\n",
       "  <tbody>\n",
       "    <tr>\n",
       "      <th>0.0</th>\n",
       "      <td>95</td>\n",
       "      <td>56</td>\n",
       "      <td>151</td>\n",
       "      <td>0.370861</td>\n",
       "      <td>0.589474</td>\n",
       "      <td>0.196491</td>\n",
       "      <td>-0.528525</td>\n",
       "      <td>-1.627137</td>\n",
       "    </tr>\n",
       "    <tr>\n",
       "      <th>1.0</th>\n",
       "      <td>1</td>\n",
       "      <td>3</td>\n",
       "      <td>4</td>\n",
       "      <td>0.750000</td>\n",
       "      <td>3.000000</td>\n",
       "      <td>1.000000</td>\n",
       "      <td>1.098612</td>\n",
       "      <td>0.000000</td>\n",
       "    </tr>\n",
       "    <tr>\n",
       "      <th>2.0</th>\n",
       "      <td>68</td>\n",
       "      <td>80</td>\n",
       "      <td>148</td>\n",
       "      <td>0.540541</td>\n",
       "      <td>1.176471</td>\n",
       "      <td>0.392157</td>\n",
       "      <td>0.162519</td>\n",
       "      <td>-0.936093</td>\n",
       "    </tr>\n",
       "    <tr>\n",
       "      <th>All</th>\n",
       "      <td>164</td>\n",
       "      <td>139</td>\n",
       "      <td>303</td>\n",
       "      <td>0.458746</td>\n",
       "      <td>0.847561</td>\n",
       "      <td>0.282520</td>\n",
       "      <td>-0.165392</td>\n",
       "      <td>-1.264005</td>\n",
       "    </tr>\n",
       "  </tbody>\n",
       "</table>\n",
       "</div>"
      ],
      "text/plain": [
       "flag_doente    0    1  All  probabilidade    chance  RC_vs_restecg_1  \\\n",
       "restecg                                                                \n",
       "0.0           95   56  151       0.370861  0.589474         0.196491   \n",
       "1.0            1    3    4       0.750000  3.000000         1.000000   \n",
       "2.0           68   80  148       0.540541  1.176471         0.392157   \n",
       "All          164  139  303       0.458746  0.847561         0.282520   \n",
       "\n",
       "flag_doente  log_chance  log_RC_vs_restecg_1  \n",
       "restecg                                       \n",
       "0.0           -0.528525            -1.627137  \n",
       "1.0            1.098612             0.000000  \n",
       "2.0            0.162519            -0.936093  \n",
       "All           -0.165392            -1.264005  "
      ]
     },
     "execution_count": 11,
     "metadata": {},
     "output_type": "execute_result"
    }
   ],
   "source": [
    "# restecg: resultados eletrocardiográficos em repouso\n",
    "#   0: normal\n",
    "#   1: tendo anormalidade da onda ST-T (Inversões de onda T e / ou ST com elevação ou depressão de > 0.05 mV)\n",
    "#   2: mostrando hipertrofia ventricular esquerda provável ou definitiva pelos critérios de Estes\n",
    "biv(df,'restecg','flag_doente')"
   ]
  },
  {
   "cell_type": "markdown",
   "metadata": {},
   "source": [
    "#### Qual delas parece discriminar mais o risco?\n",
    "A variável ``restecg`` parece descriminar um risco melhor "
   ]
  },
  {
   "cell_type": "markdown",
   "metadata": {},
   "source": [
    "### 2. Monte uma função semelhante para categorizar variáveis quantitativas contínuas (com muitas categorias) como ```age```.  \n",
    "    Além dos mesmos parâmetros da função anterior, defina mais um parâmetro como número de categorias que você deseja quebrar. Defina um valor '*default*' de 5 grupos para este parâmetro.  "
   ]
  },
  {
   "cell_type": "code",
   "execution_count": 12,
   "metadata": {
    "tags": []
   },
   "outputs": [],
   "source": [
    "# criando a função para quantitativas contínuas\n",
    "def biv_conti (data, x:str,y:str) -> 'DataFrame':\n",
    "    # criando as categorias com pd.qcut\n",
    "    vdf = data.copy() # copiar a df\n",
    "    vdf[x] = pd.qcut(vdf[x], q = 5)\n",
    "    #definir x e y\n",
    "    index = str(vdf[x].sort_values().unique()[0]) # string que dá o nome da coluna da RC\n",
    "    x = vdf[x]\n",
    "    y = vdf[y]\n",
    "    #criando crosstab\n",
    "    tab = pd.crosstab(x,y, margins = True)\n",
    "    #adição de variáveis com parâmetros\n",
    "    tab['probabilidade'] = tab[1]/tab['All']\n",
    "    tab['chance'] = tab[1]/tab[0]\n",
    "    tab[f'RC_vs_{x.name}_{index}'] = tab['chance']/tab.iloc[0,4]\n",
    "    tab['log_chance'] = np.log(tab['chance'])\n",
    "    tab[f'log_RC_vs_{x.name}_{index}'] = np.log(tab[f'RC_vs_{x.name}_{index}'])\n",
    "    return tab"
   ]
  },
  {
   "cell_type": "code",
   "execution_count": 13,
   "metadata": {
    "tags": []
   },
   "outputs": [
    {
     "data": {
      "text/html": [
       "<div>\n",
       "<style scoped>\n",
       "    .dataframe tbody tr th:only-of-type {\n",
       "        vertical-align: middle;\n",
       "    }\n",
       "\n",
       "    .dataframe tbody tr th {\n",
       "        vertical-align: top;\n",
       "    }\n",
       "\n",
       "    .dataframe thead th {\n",
       "        text-align: right;\n",
       "    }\n",
       "</style>\n",
       "<table border=\"1\" class=\"dataframe\">\n",
       "  <thead>\n",
       "    <tr style=\"text-align: right;\">\n",
       "      <th>flag_doente</th>\n",
       "      <th>0</th>\n",
       "      <th>1</th>\n",
       "      <th>All</th>\n",
       "      <th>probabilidade</th>\n",
       "      <th>chance</th>\n",
       "      <th>RC_vs_age_(28.999, 45.0]</th>\n",
       "      <th>log_chance</th>\n",
       "      <th>log_RC_vs_age_(28.999, 45.0]</th>\n",
       "    </tr>\n",
       "    <tr>\n",
       "      <th>age</th>\n",
       "      <th></th>\n",
       "      <th></th>\n",
       "      <th></th>\n",
       "      <th></th>\n",
       "      <th></th>\n",
       "      <th></th>\n",
       "      <th></th>\n",
       "      <th></th>\n",
       "    </tr>\n",
       "  </thead>\n",
       "  <tbody>\n",
       "    <tr>\n",
       "      <th>(28.999, 45.0]</th>\n",
       "      <td>47</td>\n",
       "      <td>16</td>\n",
       "      <td>63</td>\n",
       "      <td>0.253968</td>\n",
       "      <td>0.340426</td>\n",
       "      <td>1.000000</td>\n",
       "      <td>-1.077559</td>\n",
       "      <td>0.000000</td>\n",
       "    </tr>\n",
       "    <tr>\n",
       "      <th>(45.0, 53.0]</th>\n",
       "      <td>42</td>\n",
       "      <td>22</td>\n",
       "      <td>64</td>\n",
       "      <td>0.343750</td>\n",
       "      <td>0.523810</td>\n",
       "      <td>1.538690</td>\n",
       "      <td>-0.646627</td>\n",
       "      <td>0.430932</td>\n",
       "    </tr>\n",
       "    <tr>\n",
       "      <th>(53.0, 58.0]</th>\n",
       "      <td>32</td>\n",
       "      <td>39</td>\n",
       "      <td>71</td>\n",
       "      <td>0.549296</td>\n",
       "      <td>1.218750</td>\n",
       "      <td>3.580078</td>\n",
       "      <td>0.197826</td>\n",
       "      <td>1.275385</td>\n",
       "    </tr>\n",
       "    <tr>\n",
       "      <th>(58.0, 62.0]</th>\n",
       "      <td>13</td>\n",
       "      <td>32</td>\n",
       "      <td>45</td>\n",
       "      <td>0.711111</td>\n",
       "      <td>2.461538</td>\n",
       "      <td>7.230769</td>\n",
       "      <td>0.900787</td>\n",
       "      <td>1.978345</td>\n",
       "    </tr>\n",
       "    <tr>\n",
       "      <th>(62.0, 77.0]</th>\n",
       "      <td>30</td>\n",
       "      <td>30</td>\n",
       "      <td>60</td>\n",
       "      <td>0.500000</td>\n",
       "      <td>1.000000</td>\n",
       "      <td>2.937500</td>\n",
       "      <td>0.000000</td>\n",
       "      <td>1.077559</td>\n",
       "    </tr>\n",
       "    <tr>\n",
       "      <th>All</th>\n",
       "      <td>164</td>\n",
       "      <td>139</td>\n",
       "      <td>303</td>\n",
       "      <td>0.458746</td>\n",
       "      <td>0.847561</td>\n",
       "      <td>2.489710</td>\n",
       "      <td>-0.165392</td>\n",
       "      <td>0.912166</td>\n",
       "    </tr>\n",
       "  </tbody>\n",
       "</table>\n",
       "</div>"
      ],
      "text/plain": [
       "flag_doente       0    1  All  probabilidade    chance  \\\n",
       "age                                                      \n",
       "(28.999, 45.0]   47   16   63       0.253968  0.340426   \n",
       "(45.0, 53.0]     42   22   64       0.343750  0.523810   \n",
       "(53.0, 58.0]     32   39   71       0.549296  1.218750   \n",
       "(58.0, 62.0]     13   32   45       0.711111  2.461538   \n",
       "(62.0, 77.0]     30   30   60       0.500000  1.000000   \n",
       "All             164  139  303       0.458746  0.847561   \n",
       "\n",
       "flag_doente     RC_vs_age_(28.999, 45.0]  log_chance  \\\n",
       "age                                                    \n",
       "(28.999, 45.0]                  1.000000   -1.077559   \n",
       "(45.0, 53.0]                    1.538690   -0.646627   \n",
       "(53.0, 58.0]                    3.580078    0.197826   \n",
       "(58.0, 62.0]                    7.230769    0.900787   \n",
       "(62.0, 77.0]                    2.937500    0.000000   \n",
       "All                             2.489710   -0.165392   \n",
       "\n",
       "flag_doente     log_RC_vs_age_(28.999, 45.0]  \n",
       "age                                           \n",
       "(28.999, 45.0]                      0.000000  \n",
       "(45.0, 53.0]                        0.430932  \n",
       "(53.0, 58.0]                        1.275385  \n",
       "(58.0, 62.0]                        1.978345  \n",
       "(62.0, 77.0]                        1.077559  \n",
       "All                                 0.912166  "
      ]
     },
     "execution_count": 13,
     "metadata": {},
     "output_type": "execute_result"
    }
   ],
   "source": [
    "biv_conti(df,'age','flag_doente')"
   ]
  },
  {
   "cell_type": "code",
   "execution_count": 53,
   "metadata": {
    "tags": []
   },
   "outputs": [
    {
     "data": {
      "text/html": [
       "<div>\n",
       "<style scoped>\n",
       "    .dataframe tbody tr th:only-of-type {\n",
       "        vertical-align: middle;\n",
       "    }\n",
       "\n",
       "    .dataframe tbody tr th {\n",
       "        vertical-align: top;\n",
       "    }\n",
       "\n",
       "    .dataframe thead th {\n",
       "        text-align: right;\n",
       "    }\n",
       "</style>\n",
       "<table border=\"1\" class=\"dataframe\">\n",
       "  <thead>\n",
       "    <tr style=\"text-align: right;\">\n",
       "      <th>flag_doente</th>\n",
       "      <th>0</th>\n",
       "      <th>1</th>\n",
       "      <th>All</th>\n",
       "      <th>probabilidade</th>\n",
       "      <th>chance</th>\n",
       "      <th>RC_vs_trestbps_(93.999, 120.0]</th>\n",
       "      <th>log_chance</th>\n",
       "      <th>log_RC_vs_trestbps_(93.999, 120.0]</th>\n",
       "    </tr>\n",
       "    <tr>\n",
       "      <th>trestbps</th>\n",
       "      <th></th>\n",
       "      <th></th>\n",
       "      <th></th>\n",
       "      <th></th>\n",
       "      <th></th>\n",
       "      <th></th>\n",
       "      <th></th>\n",
       "      <th></th>\n",
       "    </tr>\n",
       "  </thead>\n",
       "  <tbody>\n",
       "    <tr>\n",
       "      <th>(93.999, 120.0]</th>\n",
       "      <td>60</td>\n",
       "      <td>37</td>\n",
       "      <td>97</td>\n",
       "      <td>0.381443</td>\n",
       "      <td>0.616667</td>\n",
       "      <td>1.000000</td>\n",
       "      <td>-0.483427</td>\n",
       "      <td>0.000000</td>\n",
       "    </tr>\n",
       "    <tr>\n",
       "      <th>(120.0, 126.0]</th>\n",
       "      <td>10</td>\n",
       "      <td>15</td>\n",
       "      <td>25</td>\n",
       "      <td>0.600000</td>\n",
       "      <td>1.500000</td>\n",
       "      <td>2.432432</td>\n",
       "      <td>0.405465</td>\n",
       "      <td>0.888892</td>\n",
       "    </tr>\n",
       "    <tr>\n",
       "      <th>(126.0, 134.0]</th>\n",
       "      <td>35</td>\n",
       "      <td>27</td>\n",
       "      <td>62</td>\n",
       "      <td>0.435484</td>\n",
       "      <td>0.771429</td>\n",
       "      <td>1.250965</td>\n",
       "      <td>-0.259511</td>\n",
       "      <td>0.223915</td>\n",
       "    </tr>\n",
       "    <tr>\n",
       "      <th>(134.0, 144.6]</th>\n",
       "      <td>34</td>\n",
       "      <td>24</td>\n",
       "      <td>58</td>\n",
       "      <td>0.413793</td>\n",
       "      <td>0.705882</td>\n",
       "      <td>1.144674</td>\n",
       "      <td>-0.348307</td>\n",
       "      <td>0.135120</td>\n",
       "    </tr>\n",
       "    <tr>\n",
       "      <th>(144.6, 200.0]</th>\n",
       "      <td>25</td>\n",
       "      <td>36</td>\n",
       "      <td>61</td>\n",
       "      <td>0.590164</td>\n",
       "      <td>1.440000</td>\n",
       "      <td>2.335135</td>\n",
       "      <td>0.364643</td>\n",
       "      <td>0.848070</td>\n",
       "    </tr>\n",
       "    <tr>\n",
       "      <th>All</th>\n",
       "      <td>164</td>\n",
       "      <td>139</td>\n",
       "      <td>303</td>\n",
       "      <td>0.458746</td>\n",
       "      <td>0.847561</td>\n",
       "      <td>1.374423</td>\n",
       "      <td>-0.165392</td>\n",
       "      <td>0.318034</td>\n",
       "    </tr>\n",
       "  </tbody>\n",
       "</table>\n",
       "</div>"
      ],
      "text/plain": [
       "flag_doente        0    1  All  probabilidade    chance  \\\n",
       "trestbps                                                  \n",
       "(93.999, 120.0]   60   37   97       0.381443  0.616667   \n",
       "(120.0, 126.0]    10   15   25       0.600000  1.500000   \n",
       "(126.0, 134.0]    35   27   62       0.435484  0.771429   \n",
       "(134.0, 144.6]    34   24   58       0.413793  0.705882   \n",
       "(144.6, 200.0]    25   36   61       0.590164  1.440000   \n",
       "All              164  139  303       0.458746  0.847561   \n",
       "\n",
       "flag_doente      RC_vs_trestbps_(93.999, 120.0]  log_chance  \\\n",
       "trestbps                                                      \n",
       "(93.999, 120.0]                        1.000000   -0.483427   \n",
       "(120.0, 126.0]                         2.432432    0.405465   \n",
       "(126.0, 134.0]                         1.250965   -0.259511   \n",
       "(134.0, 144.6]                         1.144674   -0.348307   \n",
       "(144.6, 200.0]                         2.335135    0.364643   \n",
       "All                                    1.374423   -0.165392   \n",
       "\n",
       "flag_doente      log_RC_vs_trestbps_(93.999, 120.0]  \n",
       "trestbps                                             \n",
       "(93.999, 120.0]                            0.000000  \n",
       "(120.0, 126.0]                             0.888892  \n",
       "(126.0, 134.0]                             0.223915  \n",
       "(134.0, 144.6]                             0.135120  \n",
       "(144.6, 200.0]                             0.848070  \n",
       "All                                        0.318034  "
      ]
     },
     "execution_count": 53,
     "metadata": {},
     "output_type": "execute_result"
    }
   ],
   "source": [
    "biv_conti(df,'trestbps','flag_doente')"
   ]
  },
  {
   "cell_type": "markdown",
   "metadata": {},
   "source": [
    "#### 3. Construa um modelo de regressão logística com as variáveis qualitativas: ```sex + cp +  trestbps``` e com a variável quantitativa ```age```.\n",
    "\n",
    "**Interprete os parâmetros.**"
   ]
  },
  {
   "cell_type": "code",
   "execution_count": 46,
   "metadata": {},
   "outputs": [
    {
     "name": "stdout",
     "output_type": "stream",
     "text": [
      "Optimization terminated successfully.\n",
      "         Current function value: 0.476154\n",
      "         Iterations 6\n"
     ]
    },
    {
     "data": {
      "text/html": [
       "<table class=\"simpletable\">\n",
       "<caption>Logit Regression Results</caption>\n",
       "<tr>\n",
       "  <th>Dep. Variable:</th>      <td>flag_doente</td>   <th>  No. Observations:  </th>  <td>   303</td>  \n",
       "</tr>\n",
       "<tr>\n",
       "  <th>Model:</th>                 <td>Logit</td>      <th>  Df Residuals:      </th>  <td>   296</td>  \n",
       "</tr>\n",
       "<tr>\n",
       "  <th>Method:</th>                 <td>MLE</td>       <th>  Df Model:          </th>  <td>     6</td>  \n",
       "</tr>\n",
       "<tr>\n",
       "  <th>Date:</th>            <td>Thu, 07 Sep 2023</td> <th>  Pseudo R-squ.:     </th>  <td>0.3097</td>  \n",
       "</tr>\n",
       "<tr>\n",
       "  <th>Time:</th>                <td>15:33:57</td>     <th>  Log-Likelihood:    </th> <td> -144.27</td> \n",
       "</tr>\n",
       "<tr>\n",
       "  <th>converged:</th>             <td>True</td>       <th>  LL-Null:           </th> <td> -208.99</td> \n",
       "</tr>\n",
       "<tr>\n",
       "  <th>Covariance Type:</th>     <td>nonrobust</td>    <th>  LLR p-value:       </th> <td>1.692e-25</td>\n",
       "</tr>\n",
       "</table>\n",
       "<table class=\"simpletable\">\n",
       "<tr>\n",
       "        <td></td>          <th>coef</th>     <th>std err</th>      <th>z</th>      <th>P>|z|</th>  <th>[0.025</th>    <th>0.975]</th>  \n",
       "</tr>\n",
       "<tr>\n",
       "  <th>Intercept</th>    <td>   -8.3407</td> <td>    1.621</td> <td>   -5.145</td> <td> 0.000</td> <td>  -11.518</td> <td>   -5.163</td>\n",
       "</tr>\n",
       "<tr>\n",
       "  <th>C(cp)[T.2.0]</th> <td>   -0.0617</td> <td>    0.636</td> <td>   -0.097</td> <td> 0.923</td> <td>   -1.309</td> <td>    1.186</td>\n",
       "</tr>\n",
       "<tr>\n",
       "  <th>C(cp)[T.3.0]</th> <td>    0.0715</td> <td>    0.573</td> <td>    0.125</td> <td> 0.901</td> <td>   -1.051</td> <td>    1.194</td>\n",
       "</tr>\n",
       "<tr>\n",
       "  <th>C(cp)[T.4.0]</th> <td>    2.4789</td> <td>    0.553</td> <td>    4.485</td> <td> 0.000</td> <td>    1.396</td> <td>    3.562</td>\n",
       "</tr>\n",
       "<tr>\n",
       "  <th>sex</th>          <td>    1.8094</td> <td>    0.353</td> <td>    5.130</td> <td> 0.000</td> <td>    1.118</td> <td>    2.501</td>\n",
       "</tr>\n",
       "<tr>\n",
       "  <th>trestbps</th>     <td>    0.0193</td> <td>    0.009</td> <td>    2.261</td> <td> 0.024</td> <td>    0.003</td> <td>    0.036</td>\n",
       "</tr>\n",
       "<tr>\n",
       "  <th>age</th>          <td>    0.0567</td> <td>    0.018</td> <td>    3.120</td> <td> 0.002</td> <td>    0.021</td> <td>    0.092</td>\n",
       "</tr>\n",
       "</table>"
      ],
      "text/latex": [
       "\\begin{center}\n",
       "\\begin{tabular}{lclc}\n",
       "\\toprule\n",
       "\\textbf{Dep. Variable:}   &   flag\\_doente   & \\textbf{  No. Observations:  } &      303    \\\\\n",
       "\\textbf{Model:}           &      Logit       & \\textbf{  Df Residuals:      } &      296    \\\\\n",
       "\\textbf{Method:}          &       MLE        & \\textbf{  Df Model:          } &        6    \\\\\n",
       "\\textbf{Date:}            & Thu, 07 Sep 2023 & \\textbf{  Pseudo R-squ.:     } &   0.3097    \\\\\n",
       "\\textbf{Time:}            &     15:33:57     & \\textbf{  Log-Likelihood:    } &   -144.27   \\\\\n",
       "\\textbf{converged:}       &       True       & \\textbf{  LL-Null:           } &   -208.99   \\\\\n",
       "\\textbf{Covariance Type:} &    nonrobust     & \\textbf{  LLR p-value:       } & 1.692e-25   \\\\\n",
       "\\bottomrule\n",
       "\\end{tabular}\n",
       "\\begin{tabular}{lcccccc}\n",
       "                      & \\textbf{coef} & \\textbf{std err} & \\textbf{z} & \\textbf{P$> |$z$|$} & \\textbf{[0.025} & \\textbf{0.975]}  \\\\\n",
       "\\midrule\n",
       "\\textbf{Intercept}    &      -8.3407  &        1.621     &    -5.145  &         0.000        &      -11.518    &       -5.163     \\\\\n",
       "\\textbf{C(cp)[T.2.0]} &      -0.0617  &        0.636     &    -0.097  &         0.923        &       -1.309    &        1.186     \\\\\n",
       "\\textbf{C(cp)[T.3.0]} &       0.0715  &        0.573     &     0.125  &         0.901        &       -1.051    &        1.194     \\\\\n",
       "\\textbf{C(cp)[T.4.0]} &       2.4789  &        0.553     &     4.485  &         0.000        &        1.396    &        3.562     \\\\\n",
       "\\textbf{sex}          &       1.8094  &        0.353     &     5.130  &         0.000        &        1.118    &        2.501     \\\\\n",
       "\\textbf{trestbps}     &       0.0193  &        0.009     &     2.261  &         0.024        &        0.003    &        0.036     \\\\\n",
       "\\textbf{age}          &       0.0567  &        0.018     &     3.120  &         0.002        &        0.021    &        0.092     \\\\\n",
       "\\bottomrule\n",
       "\\end{tabular}\n",
       "%\\caption{Logit Regression Results}\n",
       "\\end{center}"
      ],
      "text/plain": [
       "<class 'statsmodels.iolib.summary.Summary'>\n",
       "\"\"\"\n",
       "                           Logit Regression Results                           \n",
       "==============================================================================\n",
       "Dep. Variable:            flag_doente   No. Observations:                  303\n",
       "Model:                          Logit   Df Residuals:                      296\n",
       "Method:                           MLE   Df Model:                            6\n",
       "Date:                Thu, 07 Sep 2023   Pseudo R-squ.:                  0.3097\n",
       "Time:                        15:33:57   Log-Likelihood:                -144.27\n",
       "converged:                       True   LL-Null:                       -208.99\n",
       "Covariance Type:            nonrobust   LLR p-value:                 1.692e-25\n",
       "================================================================================\n",
       "                   coef    std err          z      P>|z|      [0.025      0.975]\n",
       "--------------------------------------------------------------------------------\n",
       "Intercept       -8.3407      1.621     -5.145      0.000     -11.518      -5.163\n",
       "C(cp)[T.2.0]    -0.0617      0.636     -0.097      0.923      -1.309       1.186\n",
       "C(cp)[T.3.0]     0.0715      0.573      0.125      0.901      -1.051       1.194\n",
       "C(cp)[T.4.0]     2.4789      0.553      4.485      0.000       1.396       3.562\n",
       "sex              1.8094      0.353      5.130      0.000       1.118       2.501\n",
       "trestbps         0.0193      0.009      2.261      0.024       0.003       0.036\n",
       "age              0.0567      0.018      3.120      0.002       0.021       0.092\n",
       "================================================================================\n",
       "\"\"\""
      ]
     },
     "execution_count": 46,
     "metadata": {},
     "output_type": "execute_result"
    }
   ],
   "source": [
    "# Transformei a variável cp em dummie dado que ela é categórica com mais de duas classificações\n",
    "reglog = smf.logit(\" flag_doente ~ sex + C(cp) + trestbps + age\"\n",
    "                   , data=df).fit()\n",
    "\n",
    "reglog.summary()"
   ]
  },
  {
   "cell_type": "markdown",
   "metadata": {},
   "source": [
    "- Todas as variáveis parecem ser relevantes para explicar flag_doente dado aos P values inferiores a 5%\n",
    "- Após a categorização da variável ```cp``` os níveis T.2.0 e T.3.0 parecem não fazer tanto sentido nesse conjunto dado ao P value.\n",
    "  - T.2.0 e T.3.0 são dor atípica e dor não angina respectivamente, o que, logicamente não indicaria doença cardio. por isso sua irrelevancia para o modelo.\n",
    "- A dor no peito quando assintomática que é o nível T.4.0 obviamente indicaria uma maior probabilidade de doença imperceptível.\n",
    "- A variável ```sex``` parece indicar que homens tendem a ficar menos doente do coração que mulheres, dado o valor positivo de beta.\n",
    "- ```trestbps``` e ```age``` são variáveis significantes no conjunto de variáveis da atual regressão.\n",
    "- Para ```trestbps``` quanto mais alta a pressão sanguínea maior a chance de doença cardio.\n",
    "- Para ```age``` quanto mais idoso o paciente mior a chance de doença."
   ]
  },
  {
   "cell_type": "code",
   "execution_count": 47,
   "metadata": {
    "collapsed": true,
    "jupyter": {
     "outputs_hidden": true
    },
    "tags": []
   },
   "outputs": [
    {
     "data": {
      "text/html": [
       "<div>\n",
       "<style scoped>\n",
       "    .dataframe tbody tr th:only-of-type {\n",
       "        vertical-align: middle;\n",
       "    }\n",
       "\n",
       "    .dataframe tbody tr th {\n",
       "        vertical-align: top;\n",
       "    }\n",
       "\n",
       "    .dataframe thead th {\n",
       "        text-align: right;\n",
       "    }\n",
       "</style>\n",
       "<table border=\"1\" class=\"dataframe\">\n",
       "  <thead>\n",
       "    <tr style=\"text-align: right;\">\n",
       "      <th></th>\n",
       "      <th>age</th>\n",
       "      <th>sex</th>\n",
       "      <th>cp</th>\n",
       "      <th>trestbps</th>\n",
       "      <th>chol</th>\n",
       "      <th>fbs</th>\n",
       "      <th>restecg</th>\n",
       "      <th>thalach</th>\n",
       "      <th>exang</th>\n",
       "      <th>oldpeak</th>\n",
       "      <th>slope</th>\n",
       "      <th>ca</th>\n",
       "      <th>thal</th>\n",
       "      <th>num</th>\n",
       "      <th>flag_doente</th>\n",
       "    </tr>\n",
       "  </thead>\n",
       "  <tbody>\n",
       "    <tr>\n",
       "      <th>0</th>\n",
       "      <td>63.0</td>\n",
       "      <td>1.0</td>\n",
       "      <td>1.0</td>\n",
       "      <td>145.0</td>\n",
       "      <td>233.0</td>\n",
       "      <td>1.0</td>\n",
       "      <td>2.0</td>\n",
       "      <td>150.0</td>\n",
       "      <td>0.0</td>\n",
       "      <td>2.3</td>\n",
       "      <td>3.0</td>\n",
       "      <td>0.0</td>\n",
       "      <td>6.0</td>\n",
       "      <td>0</td>\n",
       "      <td>0</td>\n",
       "    </tr>\n",
       "    <tr>\n",
       "      <th>1</th>\n",
       "      <td>67.0</td>\n",
       "      <td>1.0</td>\n",
       "      <td>4.0</td>\n",
       "      <td>160.0</td>\n",
       "      <td>286.0</td>\n",
       "      <td>0.0</td>\n",
       "      <td>2.0</td>\n",
       "      <td>108.0</td>\n",
       "      <td>1.0</td>\n",
       "      <td>1.5</td>\n",
       "      <td>2.0</td>\n",
       "      <td>3.0</td>\n",
       "      <td>3.0</td>\n",
       "      <td>2</td>\n",
       "      <td>1</td>\n",
       "    </tr>\n",
       "  </tbody>\n",
       "</table>\n",
       "</div>"
      ],
      "text/plain": [
       "    age  sex   cp  trestbps   chol  fbs  restecg  thalach  exang  oldpeak  \\\n",
       "0  63.0  1.0  1.0     145.0  233.0  1.0      2.0    150.0    0.0      2.3   \n",
       "1  67.0  1.0  4.0     160.0  286.0  0.0      2.0    108.0    1.0      1.5   \n",
       "\n",
       "   slope   ca thal  num  flag_doente  \n",
       "0    3.0  0.0  6.0    0            0  \n",
       "1    2.0  3.0  3.0    2            1  "
      ]
     },
     "execution_count": 47,
     "metadata": {},
     "output_type": "execute_result"
    }
   ],
   "source": [
    "# calculando o eta para 2 pacientes de sexos diferentes só pra treinar mesmo\n",
    "df.head(2)"
   ]
  },
  {
   "cell_type": "code",
   "execution_count": 22,
   "metadata": {
    "collapsed": true,
    "jupyter": {
     "outputs_hidden": true,
     "source_hidden": true
    },
    "tags": []
   },
   "outputs": [
    {
     "data": {
      "text/html": [
       "<div>\n",
       "<style scoped>\n",
       "    .dataframe tbody tr th:only-of-type {\n",
       "        vertical-align: middle;\n",
       "    }\n",
       "\n",
       "    .dataframe tbody tr th {\n",
       "        vertical-align: top;\n",
       "    }\n",
       "\n",
       "    .dataframe thead th {\n",
       "        text-align: right;\n",
       "    }\n",
       "</style>\n",
       "<table border=\"1\" class=\"dataframe\">\n",
       "  <thead>\n",
       "    <tr style=\"text-align: right;\">\n",
       "      <th></th>\n",
       "      <th>age</th>\n",
       "      <th>sex</th>\n",
       "      <th>cp</th>\n",
       "      <th>trestbps</th>\n",
       "      <th>chol</th>\n",
       "      <th>fbs</th>\n",
       "      <th>restecg</th>\n",
       "      <th>thalach</th>\n",
       "      <th>exang</th>\n",
       "      <th>oldpeak</th>\n",
       "      <th>slope</th>\n",
       "      <th>ca</th>\n",
       "      <th>thal</th>\n",
       "      <th>num</th>\n",
       "      <th>flag_doente</th>\n",
       "    </tr>\n",
       "  </thead>\n",
       "  <tbody>\n",
       "    <tr>\n",
       "      <th>4</th>\n",
       "      <td>41.0</td>\n",
       "      <td>0.0</td>\n",
       "      <td>2.0</td>\n",
       "      <td>130.0</td>\n",
       "      <td>204.0</td>\n",
       "      <td>0.0</td>\n",
       "      <td>2.0</td>\n",
       "      <td>172.0</td>\n",
       "      <td>0.0</td>\n",
       "      <td>1.4</td>\n",
       "      <td>1.0</td>\n",
       "      <td>0.0</td>\n",
       "      <td>3.0</td>\n",
       "      <td>0</td>\n",
       "      <td>0</td>\n",
       "    </tr>\n",
       "    <tr>\n",
       "      <th>6</th>\n",
       "      <td>62.0</td>\n",
       "      <td>0.0</td>\n",
       "      <td>4.0</td>\n",
       "      <td>140.0</td>\n",
       "      <td>268.0</td>\n",
       "      <td>0.0</td>\n",
       "      <td>2.0</td>\n",
       "      <td>160.0</td>\n",
       "      <td>0.0</td>\n",
       "      <td>3.6</td>\n",
       "      <td>3.0</td>\n",
       "      <td>2.0</td>\n",
       "      <td>3.0</td>\n",
       "      <td>3</td>\n",
       "      <td>1</td>\n",
       "    </tr>\n",
       "  </tbody>\n",
       "</table>\n",
       "</div>"
      ],
      "text/plain": [
       "    age  sex   cp  trestbps   chol  fbs  restecg  thalach  exang  oldpeak  \\\n",
       "4  41.0  0.0  2.0     130.0  204.0  0.0      2.0    172.0    0.0      1.4   \n",
       "6  62.0  0.0  4.0     140.0  268.0  0.0      2.0    160.0    0.0      3.6   \n",
       "\n",
       "   slope   ca thal  num  flag_doente  \n",
       "4    1.0  0.0  3.0    0            0  \n",
       "6    3.0  2.0  3.0    3            1  "
      ]
     },
     "execution_count": 22,
     "metadata": {},
     "output_type": "execute_result"
    }
   ],
   "source": [
    "df[df['sex'] != 1.0].head(2)"
   ]
  },
  {
   "cell_type": "code",
   "execution_count": 40,
   "metadata": {
    "collapsed": true,
    "jupyter": {
     "outputs_hidden": true,
     "source_hidden": true
    },
    "tags": []
   },
   "outputs": [
    {
     "data": {
      "text/plain": [
       "-1.4047000000000005"
      ]
     },
     "execution_count": 40,
     "metadata": {},
     "output_type": "execute_result"
    }
   ],
   "source": [
    "# eta para primeiro paciente homem\n",
    "eta = (-11.1167) + (1.8021*1) + (1.1403*1) + (0.0214*145.0) + (0.0582*63.0)\n",
    "eta"
   ]
  },
  {
   "cell_type": "code",
   "execution_count": 41,
   "metadata": {
    "collapsed": true,
    "jupyter": {
     "outputs_hidden": true,
     "source_hidden": true
    },
    "tags": []
   },
   "outputs": [
    {
     "data": {
      "text/plain": [
       "0.24544067761248387"
      ]
     },
     "execution_count": 41,
     "metadata": {},
     "output_type": "execute_result"
    }
   ],
   "source": [
    "chance = np.exp(eta)\n",
    "chance"
   ]
  },
  {
   "cell_type": "code",
   "execution_count": 42,
   "metadata": {
    "collapsed": true,
    "jupyter": {
     "outputs_hidden": true,
     "source_hidden": true
    },
    "tags": []
   },
   "outputs": [
    {
     "data": {
      "text/plain": [
       "0.19707135155003522"
      ]
     },
     "execution_count": 42,
     "metadata": {},
     "output_type": "execute_result"
    }
   ],
   "source": [
    "p = 1/(1 + np.exp(-eta))\n",
    "p"
   ]
  },
  {
   "cell_type": "code",
   "execution_count": 43,
   "metadata": {
    "collapsed": true,
    "jupyter": {
     "outputs_hidden": true,
     "source_hidden": true
    },
    "tags": []
   },
   "outputs": [
    {
     "data": {
      "text/plain": [
       "-3.6679"
      ]
     },
     "execution_count": 43,
     "metadata": {},
     "output_type": "execute_result"
    }
   ],
   "source": [
    "# eta para primeira paciente mulher\n",
    "eta = (-11.1167) + (1.8021*0) + (1.1403*2) + (0.0214*130.0) + (0.0582*41)\n",
    "eta"
   ]
  },
  {
   "cell_type": "code",
   "execution_count": 44,
   "metadata": {
    "collapsed": true,
    "jupyter": {
     "outputs_hidden": true,
     "source_hidden": true
    },
    "tags": []
   },
   "outputs": [
    {
     "data": {
      "text/plain": [
       "0.025530026748528865"
      ]
     },
     "execution_count": 44,
     "metadata": {},
     "output_type": "execute_result"
    }
   ],
   "source": [
    "np.exp(eta)"
   ]
  },
  {
   "cell_type": "code",
   "execution_count": 45,
   "metadata": {
    "collapsed": true,
    "jupyter": {
     "outputs_hidden": true,
     "source_hidden": true
    },
    "tags": []
   },
   "outputs": [
    {
     "data": {
      "text/plain": [
       "0.024894470256977767"
      ]
     },
     "execution_count": 45,
     "metadata": {},
     "output_type": "execute_result"
    }
   ],
   "source": [
    "p = 1/(1 + np.exp(-eta))\n",
    "p"
   ]
  },
  {
   "cell_type": "markdown",
   "metadata": {},
   "source": [
    "#### 4. Avalie o seu modelo quanto a **calibragem**:\n",
    "- Calcule a probabilidade de evento predita segundo o seu modelo\n",
    "- Categorize essa probabilidade em G=5 grupos\n",
    "- Calcule a probabilidade de evento predita média por grupo\n",
    "- Calcule a taxa de eventos (média da variável indicadora de eventos) por grupo\n",
    "- Compare graficamente o valor eperado versus observado para a taxa de maus por grupo"
   ]
  },
  {
   "cell_type": "code",
   "execution_count": 54,
   "metadata": {
    "collapsed": true,
    "jupyter": {
     "outputs_hidden": true
    },
    "tags": []
   },
   "outputs": [
    {
     "data": {
      "text/html": [
       "<div>\n",
       "<style scoped>\n",
       "    .dataframe tbody tr th:only-of-type {\n",
       "        vertical-align: middle;\n",
       "    }\n",
       "\n",
       "    .dataframe tbody tr th {\n",
       "        vertical-align: top;\n",
       "    }\n",
       "\n",
       "    .dataframe thead th {\n",
       "        text-align: right;\n",
       "    }\n",
       "</style>\n",
       "<table border=\"1\" class=\"dataframe\">\n",
       "  <thead>\n",
       "    <tr style=\"text-align: right;\">\n",
       "      <th></th>\n",
       "      <th>age</th>\n",
       "      <th>sex</th>\n",
       "      <th>cp</th>\n",
       "      <th>trestbps</th>\n",
       "      <th>chol</th>\n",
       "      <th>fbs</th>\n",
       "      <th>restecg</th>\n",
       "      <th>thalach</th>\n",
       "      <th>exang</th>\n",
       "      <th>oldpeak</th>\n",
       "      <th>slope</th>\n",
       "      <th>ca</th>\n",
       "      <th>thal</th>\n",
       "      <th>num</th>\n",
       "      <th>flag_doente</th>\n",
       "      <th>predito</th>\n",
       "    </tr>\n",
       "  </thead>\n",
       "  <tbody>\n",
       "    <tr>\n",
       "      <th>0</th>\n",
       "      <td>63.0</td>\n",
       "      <td>1.0</td>\n",
       "      <td>1.0</td>\n",
       "      <td>145.0</td>\n",
       "      <td>233.0</td>\n",
       "      <td>1.0</td>\n",
       "      <td>2.0</td>\n",
       "      <td>150.0</td>\n",
       "      <td>0.0</td>\n",
       "      <td>2.3</td>\n",
       "      <td>3.0</td>\n",
       "      <td>0.0</td>\n",
       "      <td>6.0</td>\n",
       "      <td>0</td>\n",
       "      <td>0</td>\n",
       "      <td>0.458229</td>\n",
       "    </tr>\n",
       "    <tr>\n",
       "      <th>1</th>\n",
       "      <td>67.0</td>\n",
       "      <td>1.0</td>\n",
       "      <td>4.0</td>\n",
       "      <td>160.0</td>\n",
       "      <td>286.0</td>\n",
       "      <td>0.0</td>\n",
       "      <td>2.0</td>\n",
       "      <td>108.0</td>\n",
       "      <td>1.0</td>\n",
       "      <td>1.5</td>\n",
       "      <td>2.0</td>\n",
       "      <td>3.0</td>\n",
       "      <td>3.0</td>\n",
       "      <td>2</td>\n",
       "      <td>1</td>\n",
       "      <td>0.944123</td>\n",
       "    </tr>\n",
       "    <tr>\n",
       "      <th>2</th>\n",
       "      <td>67.0</td>\n",
       "      <td>1.0</td>\n",
       "      <td>4.0</td>\n",
       "      <td>120.0</td>\n",
       "      <td>229.0</td>\n",
       "      <td>0.0</td>\n",
       "      <td>2.0</td>\n",
       "      <td>129.0</td>\n",
       "      <td>1.0</td>\n",
       "      <td>2.6</td>\n",
       "      <td>2.0</td>\n",
       "      <td>2.0</td>\n",
       "      <td>7.0</td>\n",
       "      <td>1</td>\n",
       "      <td>1</td>\n",
       "      <td>0.886566</td>\n",
       "    </tr>\n",
       "    <tr>\n",
       "      <th>3</th>\n",
       "      <td>37.0</td>\n",
       "      <td>1.0</td>\n",
       "      <td>3.0</td>\n",
       "      <td>130.0</td>\n",
       "      <td>250.0</td>\n",
       "      <td>0.0</td>\n",
       "      <td>0.0</td>\n",
       "      <td>187.0</td>\n",
       "      <td>0.0</td>\n",
       "      <td>3.5</td>\n",
       "      <td>3.0</td>\n",
       "      <td>0.0</td>\n",
       "      <td>3.0</td>\n",
       "      <td>0</td>\n",
       "      <td>0</td>\n",
       "      <td>0.134929</td>\n",
       "    </tr>\n",
       "    <tr>\n",
       "      <th>4</th>\n",
       "      <td>41.0</td>\n",
       "      <td>0.0</td>\n",
       "      <td>2.0</td>\n",
       "      <td>130.0</td>\n",
       "      <td>204.0</td>\n",
       "      <td>0.0</td>\n",
       "      <td>2.0</td>\n",
       "      <td>172.0</td>\n",
       "      <td>0.0</td>\n",
       "      <td>1.4</td>\n",
       "      <td>1.0</td>\n",
       "      <td>0.0</td>\n",
       "      <td>3.0</td>\n",
       "      <td>0</td>\n",
       "      <td>0</td>\n",
       "      <td>0.027278</td>\n",
       "    </tr>\n",
       "  </tbody>\n",
       "</table>\n",
       "</div>"
      ],
      "text/plain": [
       "    age  sex   cp  trestbps   chol  fbs  restecg  thalach  exang  oldpeak  \\\n",
       "0  63.0  1.0  1.0     145.0  233.0  1.0      2.0    150.0    0.0      2.3   \n",
       "1  67.0  1.0  4.0     160.0  286.0  0.0      2.0    108.0    1.0      1.5   \n",
       "2  67.0  1.0  4.0     120.0  229.0  0.0      2.0    129.0    1.0      2.6   \n",
       "3  37.0  1.0  3.0     130.0  250.0  0.0      0.0    187.0    0.0      3.5   \n",
       "4  41.0  0.0  2.0     130.0  204.0  0.0      2.0    172.0    0.0      1.4   \n",
       "\n",
       "   slope   ca thal  num  flag_doente   predito  \n",
       "0    3.0  0.0  6.0    0            0  0.458229  \n",
       "1    2.0  3.0  3.0    2            1  0.944123  \n",
       "2    2.0  2.0  7.0    1            1  0.886566  \n",
       "3    3.0  0.0  3.0    0            0  0.134929  \n",
       "4    1.0  0.0  3.0    0            0  0.027278  "
      ]
     },
     "execution_count": 54,
     "metadata": {},
     "output_type": "execute_result"
    }
   ],
   "source": [
    "# calculo do valor predito\n",
    "df['predito'] = reglog.predict(df)\n",
    "df.head()"
   ]
  },
  {
   "cell_type": "code",
   "execution_count": 56,
   "metadata": {
    "tags": []
   },
   "outputs": [
    {
     "data": {
      "text/plain": [
       "(0.0131, 0.143]    62\n",
       "(0.143, 0.287]     59\n",
       "(0.287, 0.586]     62\n",
       "(0.586, 0.822]     59\n",
       "(0.822, 0.944]     61\n",
       "Name: predito, dtype: int64"
      ]
     },
     "execution_count": 56,
     "metadata": {},
     "output_type": "execute_result"
    }
   ],
   "source": [
    "# calibragem com 5 grupos\n",
    "cat_pred = pd.qcut(df['predito'], 5, duplicates='drop')\n",
    "cat_pred.value_counts().sort_index()"
   ]
  },
  {
   "cell_type": "code",
   "execution_count": 57,
   "metadata": {
    "tags": []
   },
   "outputs": [
    {
     "data": {
      "text/html": [
       "<div>\n",
       "<style scoped>\n",
       "    .dataframe tbody tr th:only-of-type {\n",
       "        vertical-align: middle;\n",
       "    }\n",
       "\n",
       "    .dataframe tbody tr th {\n",
       "        vertical-align: top;\n",
       "    }\n",
       "\n",
       "    .dataframe thead th {\n",
       "        text-align: right;\n",
       "    }\n",
       "</style>\n",
       "<table border=\"1\" class=\"dataframe\">\n",
       "  <thead>\n",
       "    <tr style=\"text-align: right;\">\n",
       "      <th></th>\n",
       "      <th>contagem</th>\n",
       "    </tr>\n",
       "    <tr>\n",
       "      <th>predito</th>\n",
       "      <th></th>\n",
       "    </tr>\n",
       "  </thead>\n",
       "  <tbody>\n",
       "    <tr>\n",
       "      <th>(0.0131, 0.143]</th>\n",
       "      <td>62</td>\n",
       "    </tr>\n",
       "    <tr>\n",
       "      <th>(0.143, 0.287]</th>\n",
       "      <td>59</td>\n",
       "    </tr>\n",
       "    <tr>\n",
       "      <th>(0.287, 0.586]</th>\n",
       "      <td>62</td>\n",
       "    </tr>\n",
       "    <tr>\n",
       "      <th>(0.586, 0.822]</th>\n",
       "      <td>59</td>\n",
       "    </tr>\n",
       "    <tr>\n",
       "      <th>(0.822, 0.944]</th>\n",
       "      <td>61</td>\n",
       "    </tr>\n",
       "  </tbody>\n",
       "</table>\n",
       "</div>"
      ],
      "text/plain": [
       "                 contagem\n",
       "predito                  \n",
       "(0.0131, 0.143]        62\n",
       "(0.143, 0.287]         59\n",
       "(0.287, 0.586]         62\n",
       "(0.586, 0.822]         59\n",
       "(0.822, 0.944]         61"
      ]
     },
     "execution_count": 57,
     "metadata": {},
     "output_type": "execute_result"
    }
   ],
   "source": [
    "group_reg = df.groupby(cat_pred)\n",
    "qualid = group_reg[['flag_doente']].count().rename(columns = {'flag_doente': 'contagem'})\n",
    "qualid"
   ]
  },
  {
   "cell_type": "code",
   "execution_count": 58,
   "metadata": {
    "tags": []
   },
   "outputs": [
    {
     "data": {
      "text/html": [
       "<div>\n",
       "<style scoped>\n",
       "    .dataframe tbody tr th:only-of-type {\n",
       "        vertical-align: middle;\n",
       "    }\n",
       "\n",
       "    .dataframe tbody tr th {\n",
       "        vertical-align: top;\n",
       "    }\n",
       "\n",
       "    .dataframe thead th {\n",
       "        text-align: right;\n",
       "    }\n",
       "</style>\n",
       "<table border=\"1\" class=\"dataframe\">\n",
       "  <thead>\n",
       "    <tr style=\"text-align: right;\">\n",
       "      <th></th>\n",
       "      <th>contagem</th>\n",
       "      <th>predito</th>\n",
       "    </tr>\n",
       "    <tr>\n",
       "      <th>predito</th>\n",
       "      <th></th>\n",
       "      <th></th>\n",
       "    </tr>\n",
       "  </thead>\n",
       "  <tbody>\n",
       "    <tr>\n",
       "      <th>(0.0131, 0.143]</th>\n",
       "      <td>62</td>\n",
       "      <td>0.072008</td>\n",
       "    </tr>\n",
       "    <tr>\n",
       "      <th>(0.143, 0.287]</th>\n",
       "      <td>59</td>\n",
       "      <td>0.209626</td>\n",
       "    </tr>\n",
       "    <tr>\n",
       "      <th>(0.287, 0.586]</th>\n",
       "      <td>62</td>\n",
       "      <td>0.435175</td>\n",
       "    </tr>\n",
       "    <tr>\n",
       "      <th>(0.586, 0.822]</th>\n",
       "      <td>59</td>\n",
       "      <td>0.708861</td>\n",
       "    </tr>\n",
       "    <tr>\n",
       "      <th>(0.822, 0.944]</th>\n",
       "      <td>61</td>\n",
       "      <td>0.874819</td>\n",
       "    </tr>\n",
       "  </tbody>\n",
       "</table>\n",
       "</div>"
      ],
      "text/plain": [
       "                 contagem   predito\n",
       "predito                            \n",
       "(0.0131, 0.143]        62  0.072008\n",
       "(0.143, 0.287]         59  0.209626\n",
       "(0.287, 0.586]         62  0.435175\n",
       "(0.586, 0.822]         59  0.708861\n",
       "(0.822, 0.944]         61  0.874819"
      ]
     },
     "execution_count": 58,
     "metadata": {},
     "output_type": "execute_result"
    }
   ],
   "source": [
    "# add media do valor predito\n",
    "qualid['predito'] = group_reg['predito'].mean()\n",
    "qualid"
   ]
  },
  {
   "cell_type": "code",
   "execution_count": 65,
   "metadata": {
    "tags": []
   },
   "outputs": [
    {
     "data": {
      "text/html": [
       "<div>\n",
       "<style scoped>\n",
       "    .dataframe tbody tr th:only-of-type {\n",
       "        vertical-align: middle;\n",
       "    }\n",
       "\n",
       "    .dataframe tbody tr th {\n",
       "        vertical-align: top;\n",
       "    }\n",
       "\n",
       "    .dataframe thead th {\n",
       "        text-align: right;\n",
       "    }\n",
       "</style>\n",
       "<table border=\"1\" class=\"dataframe\">\n",
       "  <thead>\n",
       "    <tr style=\"text-align: right;\">\n",
       "      <th></th>\n",
       "      <th>contagem</th>\n",
       "      <th>predito</th>\n",
       "      <th>pct_doente</th>\n",
       "    </tr>\n",
       "    <tr>\n",
       "      <th>predito</th>\n",
       "      <th></th>\n",
       "      <th></th>\n",
       "      <th></th>\n",
       "    </tr>\n",
       "  </thead>\n",
       "  <tbody>\n",
       "    <tr>\n",
       "      <th>(0.0131, 0.143]</th>\n",
       "      <td>62</td>\n",
       "      <td>0.072008</td>\n",
       "      <td>0.080645</td>\n",
       "    </tr>\n",
       "    <tr>\n",
       "      <th>(0.143, 0.287]</th>\n",
       "      <td>59</td>\n",
       "      <td>0.209626</td>\n",
       "      <td>0.152542</td>\n",
       "    </tr>\n",
       "    <tr>\n",
       "      <th>(0.287, 0.586]</th>\n",
       "      <td>62</td>\n",
       "      <td>0.435175</td>\n",
       "      <td>0.483871</td>\n",
       "    </tr>\n",
       "    <tr>\n",
       "      <th>(0.586, 0.822]</th>\n",
       "      <td>59</td>\n",
       "      <td>0.708861</td>\n",
       "      <td>0.762712</td>\n",
       "    </tr>\n",
       "    <tr>\n",
       "      <th>(0.822, 0.944]</th>\n",
       "      <td>61</td>\n",
       "      <td>0.874819</td>\n",
       "      <td>0.819672</td>\n",
       "    </tr>\n",
       "  </tbody>\n",
       "</table>\n",
       "</div>"
      ],
      "text/plain": [
       "                 contagem   predito  pct_doente\n",
       "predito                                        \n",
       "(0.0131, 0.143]        62  0.072008    0.080645\n",
       "(0.143, 0.287]         59  0.209626    0.152542\n",
       "(0.287, 0.586]         62  0.435175    0.483871\n",
       "(0.586, 0.822]         59  0.708861    0.762712\n",
       "(0.822, 0.944]         61  0.874819    0.819672"
      ]
     },
     "execution_count": 65,
     "metadata": {},
     "output_type": "execute_result"
    }
   ],
   "source": [
    "# add porcentagem de doentes observados\n",
    "qualid['pct_doente'] = group_reg['flag_doente'].mean()\n",
    "qualid"
   ]
  },
  {
   "cell_type": "code",
   "execution_count": 67,
   "metadata": {
    "tags": []
   },
   "outputs": [
    {
     "data": {
      "text/plain": [
       "Text(0.5, 0, 'Grupo')"
      ]
     },
     "execution_count": 67,
     "metadata": {},
     "output_type": "execute_result"
    },
    {
     "data": {
      "image/png": "[encoded data removed]",
      "text/plain": [
       "<Figure size 640x480 with 1 Axes>"
      ]
     },
     "metadata": {},
     "output_type": "display_data"
    }
   ],
   "source": [
    "fig = plt.figure()\n",
    "ax = fig.add_subplot(1, 1, 1)\n",
    "\n",
    "ax = qualid['pct_doente'].plot(label='%Observado')\n",
    "ax = qualid['predito'].plot(label='%Predito')\n",
    "\n",
    "ticks = ax.set_xticks([0, 1, 2, 3, 4])\n",
    "labels = ax.set_xticklabels([1, 2, 3, 4, 5])\n",
    "ax.legend(loc=\"lower right\")\n",
    "ax.set_ylabel('Probabilidade de evento')\n",
    "ax.set_xlabel('Grupo')"
   ]
  },
  {
   "cell_type": "markdown",
   "metadata": {},
   "source": [
    "#### 5. Avalie o seu modelo quanto a discriminação calculando acurácia, GINI e KS."
   ]
  },
  {
   "cell_type": "code",
   "execution_count": 70,
   "metadata": {
    "tags": []
   },
   "outputs": [
    {
     "data": {
      "image/png": "[encoded data removed]",
      "text/plain": [
       "<Figure size 640x480 with 1 Axes>"
      ]
     },
     "metadata": {},
     "output_type": "display_data"
    }
   ],
   "source": [
    "# calculo curva roc\n",
    "from sklearn.metrics import roc_curve\n",
    "from sklearn import metrics\n",
    "from scipy.stats import ks_2samp\n",
    "\n",
    "fpr, tpr, thresholds = metrics.roc_curve(df['flag_doente'], df['predito'])\n",
    "\n",
    "plt.figure()\n",
    "lw = 2\n",
    "\n",
    "fpr, tpr, thresholds = metrics.roc_curve(df['flag_doente'], df['predito'])\n",
    "auc_ = metrics.auc(fpr, tpr)\n",
    "plt.plot(fpr, tpr, color='darkorange',\n",
    "         lw=lw, label='ROC curve (area = %0.2f)' % auc_)\n",
    "plt.plot([0, 1], [0, 1], color='navy', lw=lw, linestyle='--')\n",
    "plt.xlim([0.0, 1.0])\n",
    "plt.ylim([0.0, 1.05])\n",
    "plt.xlabel('False Positive Rate')\n",
    "plt.ylabel('True Positive Rate')\n",
    "plt.title('Receiver operating characteristic example')\n",
    "plt.legend(loc=\"lower right\")\n",
    "plt.show()"
   ]
  },
  {
   "cell_type": "code",
   "execution_count": 71,
   "metadata": {
    "tags": []
   },
   "outputs": [
    {
     "data": {
      "text/plain": [
       "Text(0, 0.5, 'Função Distribuição Acumulada')"
      ]
     },
     "execution_count": 71,
     "metadata": {},
     "output_type": "execute_result"
    },
    {
     "data": {
      "image/png": "[encoded data removed]",
      "text/plain": [
       "<Figure size 640x480 with 1 Axes>"
      ]
     },
     "metadata": {},
     "output_type": "display_data"
    }
   ],
   "source": [
    "fig = plt.figure()\n",
    "ax = fig.add_subplot(1, 1, 1)\n",
    "\n",
    "score_pop1 = df.loc[df['flag_doente']==1,'predito']\n",
    "ax.plot(np.sort(score_pop1), np.linspace(0, 1, len(score_pop1), endpoint=False), label='Doente')\n",
    "\n",
    "score_pop2 = df.loc[df['flag_doente']!=1,'predito']\n",
    "ax.plot(np.sort(score_pop2), np.linspace(0, 1, len(score_pop2), endpoint=False), label='Saudável')\n",
    "ax.legend()\n",
    "\n",
    "ax.set_xlabel('P')\n",
    "ax.set_ylabel('Função Distribuição Acumulada')"
   ]
  },
  {
   "cell_type": "code",
   "execution_count": 69,
   "metadata": {},
   "outputs": [
    {
     "name": "stdout",
     "output_type": "stream",
     "text": [
      "Acurácia: 79.54%\n",
      "KS: 59.30% \n",
      "AUC: 85.19% \n",
      "GINI: 70.39%\n"
     ]
    }
   ],
   "source": [
    "acc = metrics.accuracy_score(df['flag_doente'], df['predito']>.5)\n",
    "print('Acurácia: {0:.2f}%'.format(acc*100))\n",
    "\n",
    "#AUC\n",
    "fpr, tpr, thresholds = metrics.roc_curve(df['flag_doente'], df['predito'])\n",
    "auc_ = metrics.auc(fpr, tpr)\n",
    "#Gini\n",
    "gini = 2*auc_ -1\n",
    "#KS\n",
    "ks = ks_2samp(df.loc[df['flag_doente'] == 1, 'predito'], df.loc[df['flag_doente'] != 1, 'predito']).statistic\n",
    "\n",
    "print('KS: {0:.2f}% \\nAUC: {1:.2f}% \\nGINI: {2:.2f}%'\n",
    "      .format(ks*100, auc_*100, gini*100))"
   ]
  },
  {
   "cell_type": "markdown",
   "metadata": {},
   "source": [
    "- O modelo para estar bom. A acurácia está alta.\n",
    "- A curva roc (AUC) aponta para um alto valor que é aocmpanhado de um GINI também elevado.\n",
    "- O KS parece indicar uma boa capacidade de classificação e predição do modelo."
   ]
  },
  {
   "cell_type": "markdown",
   "metadata": {},
   "source": [
    "### 6. tente melhorar o modelo obtido, por exemplo inserindo ou removendo variáveis.  \n",
    "    Avalie as características do seu modelo (calibragem e acurácia)."
   ]
  },
  {
   "cell_type": "code",
   "execution_count": 73,
   "metadata": {
    "tags": []
   },
   "outputs": [
    {
     "data": {
      "text/html": [
       "<div>\n",
       "<style scoped>\n",
       "    .dataframe tbody tr th:only-of-type {\n",
       "        vertical-align: middle;\n",
       "    }\n",
       "\n",
       "    .dataframe tbody tr th {\n",
       "        vertical-align: top;\n",
       "    }\n",
       "\n",
       "    .dataframe thead th {\n",
       "        text-align: right;\n",
       "    }\n",
       "</style>\n",
       "<table border=\"1\" class=\"dataframe\">\n",
       "  <thead>\n",
       "    <tr style=\"text-align: right;\">\n",
       "      <th></th>\n",
       "      <th>age</th>\n",
       "      <th>sex</th>\n",
       "      <th>cp</th>\n",
       "      <th>trestbps</th>\n",
       "      <th>chol</th>\n",
       "      <th>fbs</th>\n",
       "      <th>restecg</th>\n",
       "      <th>thalach</th>\n",
       "      <th>exang</th>\n",
       "      <th>oldpeak</th>\n",
       "      <th>slope</th>\n",
       "      <th>ca</th>\n",
       "      <th>thal</th>\n",
       "      <th>num</th>\n",
       "      <th>flag_doente</th>\n",
       "      <th>predito</th>\n",
       "    </tr>\n",
       "  </thead>\n",
       "  <tbody>\n",
       "    <tr>\n",
       "      <th>0</th>\n",
       "      <td>63.0</td>\n",
       "      <td>1.0</td>\n",
       "      <td>1.0</td>\n",
       "      <td>145.0</td>\n",
       "      <td>233.0</td>\n",
       "      <td>1.0</td>\n",
       "      <td>2.0</td>\n",
       "      <td>150.0</td>\n",
       "      <td>0.0</td>\n",
       "      <td>2.3</td>\n",
       "      <td>3.0</td>\n",
       "      <td>0.0</td>\n",
       "      <td>6.0</td>\n",
       "      <td>0</td>\n",
       "      <td>0</td>\n",
       "      <td>0.458229</td>\n",
       "    </tr>\n",
       "    <tr>\n",
       "      <th>1</th>\n",
       "      <td>67.0</td>\n",
       "      <td>1.0</td>\n",
       "      <td>4.0</td>\n",
       "      <td>160.0</td>\n",
       "      <td>286.0</td>\n",
       "      <td>0.0</td>\n",
       "      <td>2.0</td>\n",
       "      <td>108.0</td>\n",
       "      <td>1.0</td>\n",
       "      <td>1.5</td>\n",
       "      <td>2.0</td>\n",
       "      <td>3.0</td>\n",
       "      <td>3.0</td>\n",
       "      <td>2</td>\n",
       "      <td>1</td>\n",
       "      <td>0.944123</td>\n",
       "    </tr>\n",
       "  </tbody>\n",
       "</table>\n",
       "</div>"
      ],
      "text/plain": [
       "    age  sex   cp  trestbps   chol  fbs  restecg  thalach  exang  oldpeak  \\\n",
       "0  63.0  1.0  1.0     145.0  233.0  1.0      2.0    150.0    0.0      2.3   \n",
       "1  67.0  1.0  4.0     160.0  286.0  0.0      2.0    108.0    1.0      1.5   \n",
       "\n",
       "   slope   ca thal  num  flag_doente   predito  \n",
       "0    3.0  0.0  6.0    0            0  0.458229  \n",
       "1    2.0  3.0  3.0    2            1  0.944123  "
      ]
     },
     "execution_count": 73,
     "metadata": {},
     "output_type": "execute_result"
    }
   ],
   "source": [
    "df.head(2)"
   ]
  },
  {
   "cell_type": "code",
   "execution_count": 77,
   "metadata": {
    "tags": []
   },
   "outputs": [
    {
     "data": {
      "text/plain": [
       "3.0    166\n",
       "7.0    117\n",
       "6.0     18\n",
       "?        2\n",
       "Name: thal, dtype: int64"
      ]
     },
     "execution_count": 77,
     "metadata": {},
     "output_type": "execute_result"
    }
   ],
   "source": [
    "# até então não havia missing values ou duplicadas na tabela.\n",
    "# mas encontrei duas linhas com o valor ? para a variável thal.\n",
    "df.thal.value_counts()"
   ]
  },
  {
   "cell_type": "code",
   "execution_count": 78,
   "metadata": {
    "tags": []
   },
   "outputs": [
    {
     "data": {
      "text/html": [
       "<div>\n",
       "<style scoped>\n",
       "    .dataframe tbody tr th:only-of-type {\n",
       "        vertical-align: middle;\n",
       "    }\n",
       "\n",
       "    .dataframe tbody tr th {\n",
       "        vertical-align: top;\n",
       "    }\n",
       "\n",
       "    .dataframe thead th {\n",
       "        text-align: right;\n",
       "    }\n",
       "</style>\n",
       "<table border=\"1\" class=\"dataframe\">\n",
       "  <thead>\n",
       "    <tr style=\"text-align: right;\">\n",
       "      <th></th>\n",
       "      <th>age</th>\n",
       "      <th>sex</th>\n",
       "      <th>cp</th>\n",
       "      <th>trestbps</th>\n",
       "      <th>chol</th>\n",
       "      <th>fbs</th>\n",
       "      <th>restecg</th>\n",
       "      <th>thalach</th>\n",
       "      <th>exang</th>\n",
       "      <th>oldpeak</th>\n",
       "      <th>slope</th>\n",
       "      <th>ca</th>\n",
       "      <th>thal</th>\n",
       "      <th>num</th>\n",
       "      <th>flag_doente</th>\n",
       "      <th>predito</th>\n",
       "    </tr>\n",
       "  </thead>\n",
       "  <tbody>\n",
       "    <tr>\n",
       "      <th>87</th>\n",
       "      <td>53.0</td>\n",
       "      <td>0.0</td>\n",
       "      <td>3.0</td>\n",
       "      <td>128.0</td>\n",
       "      <td>216.0</td>\n",
       "      <td>0.0</td>\n",
       "      <td>2.0</td>\n",
       "      <td>115.0</td>\n",
       "      <td>0.0</td>\n",
       "      <td>0.0</td>\n",
       "      <td>1.0</td>\n",
       "      <td>0.0</td>\n",
       "      <td>?</td>\n",
       "      <td>0</td>\n",
       "      <td>0</td>\n",
       "      <td>0.057348</td>\n",
       "    </tr>\n",
       "    <tr>\n",
       "      <th>266</th>\n",
       "      <td>52.0</td>\n",
       "      <td>1.0</td>\n",
       "      <td>4.0</td>\n",
       "      <td>128.0</td>\n",
       "      <td>204.0</td>\n",
       "      <td>1.0</td>\n",
       "      <td>0.0</td>\n",
       "      <td>156.0</td>\n",
       "      <td>1.0</td>\n",
       "      <td>1.0</td>\n",
       "      <td>2.0</td>\n",
       "      <td>0.0</td>\n",
       "      <td>?</td>\n",
       "      <td>2</td>\n",
       "      <td>1</td>\n",
       "      <td>0.795848</td>\n",
       "    </tr>\n",
       "  </tbody>\n",
       "</table>\n",
       "</div>"
      ],
      "text/plain": [
       "      age  sex   cp  trestbps   chol  fbs  restecg  thalach  exang  oldpeak  \\\n",
       "87   53.0  0.0  3.0     128.0  216.0  0.0      2.0    115.0    0.0      0.0   \n",
       "266  52.0  1.0  4.0     128.0  204.0  1.0      0.0    156.0    1.0      1.0   \n",
       "\n",
       "     slope   ca thal  num  flag_doente   predito  \n",
       "87     1.0  0.0    ?    0            0  0.057348  \n",
       "266    2.0  0.0    ?    2            1  0.795848  "
      ]
     },
     "execution_count": 78,
     "metadata": {},
     "output_type": "execute_result"
    }
   ],
   "source": [
    "# que estranho. o correto seria investigar a origem do erro. a obs parece consistente e real.\n",
    "df[df['thal'] == '?']"
   ]
  },
  {
   "cell_type": "code",
   "execution_count": 87,
   "metadata": {
    "tags": []
   },
   "outputs": [
    {
     "data": {
      "text/plain": [
       "3.0    166\n",
       "7.0    117\n",
       "6.0     18\n",
       "Name: thal, dtype: int64"
      ]
     },
     "execution_count": 87,
     "metadata": {},
     "output_type": "execute_result"
    }
   ],
   "source": [
    "# removi as linhas on thal == ?\n",
    "df = df[df['thal']!= '?']\n",
    "df['thal'].value_counts()"
   ]
  },
  {
   "cell_type": "code",
   "execution_count": 91,
   "metadata": {},
   "outputs": [
    {
     "name": "stdout",
     "output_type": "stream",
     "text": [
      "Optimization terminated successfully.\n",
      "         Current function value: 0.431234\n",
      "         Iterations 6\n"
     ]
    },
    {
     "data": {
      "text/html": [
       "<table class=\"simpletable\">\n",
       "<caption>Logit Regression Results</caption>\n",
       "<tr>\n",
       "  <th>Dep. Variable:</th>      <td>flag_doente</td>   <th>  No. Observations:  </th>  <td>   301</td>  \n",
       "</tr>\n",
       "<tr>\n",
       "  <th>Model:</th>                 <td>Logit</td>      <th>  Df Residuals:      </th>  <td>   292</td>  \n",
       "</tr>\n",
       "<tr>\n",
       "  <th>Method:</th>                 <td>MLE</td>       <th>  Df Model:          </th>  <td>     8</td>  \n",
       "</tr>\n",
       "<tr>\n",
       "  <th>Date:</th>            <td>Thu, 07 Sep 2023</td> <th>  Pseudo R-squ.:     </th>  <td>0.3747</td>  \n",
       "</tr>\n",
       "<tr>\n",
       "  <th>Time:</th>                <td>18:04:35</td>     <th>  Log-Likelihood:    </th> <td> -129.80</td> \n",
       "</tr>\n",
       "<tr>\n",
       "  <th>converged:</th>             <td>True</td>       <th>  LL-Null:           </th> <td> -207.60</td> \n",
       "</tr>\n",
       "<tr>\n",
       "  <th>Covariance Type:</th>     <td>nonrobust</td>    <th>  LLR p-value:       </th> <td>1.334e-29</td>\n",
       "</tr>\n",
       "</table>\n",
       "<table class=\"simpletable\">\n",
       "<tr>\n",
       "         <td></td>           <th>coef</th>     <th>std err</th>      <th>z</th>      <th>P>|z|</th>  <th>[0.025</th>    <th>0.975]</th>  \n",
       "</tr>\n",
       "<tr>\n",
       "  <th>Intercept</th>      <td>   -7.5522</td> <td>    1.678</td> <td>   -4.501</td> <td> 0.000</td> <td>  -10.841</td> <td>   -4.264</td>\n",
       "</tr>\n",
       "<tr>\n",
       "  <th>C(cp)[T.2.0]</th>   <td>    0.0375</td> <td>    0.665</td> <td>    0.056</td> <td> 0.955</td> <td>   -1.266</td> <td>    1.341</td>\n",
       "</tr>\n",
       "<tr>\n",
       "  <th>C(cp)[T.3.0]</th>   <td>   -0.0129</td> <td>    0.605</td> <td>   -0.021</td> <td> 0.983</td> <td>   -1.199</td> <td>    1.173</td>\n",
       "</tr>\n",
       "<tr>\n",
       "  <th>C(cp)[T.4.0]</th>   <td>    2.1805</td> <td>    0.574</td> <td>    3.800</td> <td> 0.000</td> <td>    1.056</td> <td>    3.305</td>\n",
       "</tr>\n",
       "<tr>\n",
       "  <th>C(thal)[T.6.0]</th> <td>    0.9952</td> <td>    0.631</td> <td>    1.576</td> <td> 0.115</td> <td>   -0.242</td> <td>    2.233</td>\n",
       "</tr>\n",
       "<tr>\n",
       "  <th>C(thal)[T.7.0]</th> <td>    1.7715</td> <td>    0.342</td> <td>    5.174</td> <td> 0.000</td> <td>    1.100</td> <td>    2.443</td>\n",
       "</tr>\n",
       "<tr>\n",
       "  <th>sex</th>            <td>    1.1434</td> <td>    0.390</td> <td>    2.930</td> <td> 0.003</td> <td>    0.379</td> <td>    1.908</td>\n",
       "</tr>\n",
       "<tr>\n",
       "  <th>trestbps</th>       <td>    0.0136</td> <td>    0.009</td> <td>    1.522</td> <td> 0.128</td> <td>   -0.004</td> <td>    0.031</td>\n",
       "</tr>\n",
       "<tr>\n",
       "  <th>age</th>            <td>    0.0533</td> <td>    0.019</td> <td>    2.801</td> <td> 0.005</td> <td>    0.016</td> <td>    0.091</td>\n",
       "</tr>\n",
       "</table>"
      ],
      "text/latex": [
       "\\begin{center}\n",
       "\\begin{tabular}{lclc}\n",
       "\\toprule\n",
       "\\textbf{Dep. Variable:}   &   flag\\_doente   & \\textbf{  No. Observations:  } &      301    \\\\\n",
       "\\textbf{Model:}           &      Logit       & \\textbf{  Df Residuals:      } &      292    \\\\\n",
       "\\textbf{Method:}          &       MLE        & \\textbf{  Df Model:          } &        8    \\\\\n",
       "\\textbf{Date:}            & Thu, 07 Sep 2023 & \\textbf{  Pseudo R-squ.:     } &   0.3747    \\\\\n",
       "\\textbf{Time:}            &     18:04:35     & \\textbf{  Log-Likelihood:    } &   -129.80   \\\\\n",
       "\\textbf{converged:}       &       True       & \\textbf{  LL-Null:           } &   -207.60   \\\\\n",
       "\\textbf{Covariance Type:} &    nonrobust     & \\textbf{  LLR p-value:       } & 1.334e-29   \\\\\n",
       "\\bottomrule\n",
       "\\end{tabular}\n",
       "\\begin{tabular}{lcccccc}\n",
       "                        & \\textbf{coef} & \\textbf{std err} & \\textbf{z} & \\textbf{P$> |$z$|$} & \\textbf{[0.025} & \\textbf{0.975]}  \\\\\n",
       "\\midrule\n",
       "\\textbf{Intercept}      &      -7.5522  &        1.678     &    -4.501  &         0.000        &      -10.841    &       -4.264     \\\\\n",
       "\\textbf{C(cp)[T.2.0]}   &       0.0375  &        0.665     &     0.056  &         0.955        &       -1.266    &        1.341     \\\\\n",
       "\\textbf{C(cp)[T.3.0]}   &      -0.0129  &        0.605     &    -0.021  &         0.983        &       -1.199    &        1.173     \\\\\n",
       "\\textbf{C(cp)[T.4.0]}   &       2.1805  &        0.574     &     3.800  &         0.000        &        1.056    &        3.305     \\\\\n",
       "\\textbf{C(thal)[T.6.0]} &       0.9952  &        0.631     &     1.576  &         0.115        &       -0.242    &        2.233     \\\\\n",
       "\\textbf{C(thal)[T.7.0]} &       1.7715  &        0.342     &     5.174  &         0.000        &        1.100    &        2.443     \\\\\n",
       "\\textbf{sex}            &       1.1434  &        0.390     &     2.930  &         0.003        &        0.379    &        1.908     \\\\\n",
       "\\textbf{trestbps}       &       0.0136  &        0.009     &     1.522  &         0.128        &       -0.004    &        0.031     \\\\\n",
       "\\textbf{age}            &       0.0533  &        0.019     &     2.801  &         0.005        &        0.016    &        0.091     \\\\\n",
       "\\bottomrule\n",
       "\\end{tabular}\n",
       "%\\caption{Logit Regression Results}\n",
       "\\end{center}"
      ],
      "text/plain": [
       "<class 'statsmodels.iolib.summary.Summary'>\n",
       "\"\"\"\n",
       "                           Logit Regression Results                           \n",
       "==============================================================================\n",
       "Dep. Variable:            flag_doente   No. Observations:                  301\n",
       "Model:                          Logit   Df Residuals:                      292\n",
       "Method:                           MLE   Df Model:                            8\n",
       "Date:                Thu, 07 Sep 2023   Pseudo R-squ.:                  0.3747\n",
       "Time:                        18:04:35   Log-Likelihood:                -129.80\n",
       "converged:                       True   LL-Null:                       -207.60\n",
       "Covariance Type:            nonrobust   LLR p-value:                 1.334e-29\n",
       "==================================================================================\n",
       "                     coef    std err          z      P>|z|      [0.025      0.975]\n",
       "----------------------------------------------------------------------------------\n",
       "Intercept         -7.5522      1.678     -4.501      0.000     -10.841      -4.264\n",
       "C(cp)[T.2.0]       0.0375      0.665      0.056      0.955      -1.266       1.341\n",
       "C(cp)[T.3.0]      -0.0129      0.605     -0.021      0.983      -1.199       1.173\n",
       "C(cp)[T.4.0]       2.1805      0.574      3.800      0.000       1.056       3.305\n",
       "C(thal)[T.6.0]     0.9952      0.631      1.576      0.115      -0.242       2.233\n",
       "C(thal)[T.7.0]     1.7715      0.342      5.174      0.000       1.100       2.443\n",
       "sex                1.1434      0.390      2.930      0.003       0.379       1.908\n",
       "trestbps           0.0136      0.009      1.522      0.128      -0.004       0.031\n",
       "age                0.0533      0.019      2.801      0.005       0.016       0.091\n",
       "==================================================================================\n",
       "\"\"\""
      ]
     },
     "execution_count": 91,
     "metadata": {},
     "output_type": "execute_result"
    }
   ],
   "source": [
    "# (\" flag_doente ~ sex + C(cp) + trestbps + age + C(thal) + C(restecg)\"\n",
    "reglog = smf.logit(\" flag_doente ~ sex + C(cp) + trestbps + age + C(thal) \"\n",
    "                   , data=df).fit()\n",
    "\n",
    "reglog.summary()\n",
    "\n",
    "# adicionei C(restecg) mas o p value foi acima de 15%"
   ]
  },
  {
   "cell_type": "code",
   "execution_count": 92,
   "metadata": {
    "tags": []
   },
   "outputs": [
    {
     "name": "stderr",
     "output_type": "stream",
     "text": [
      "C:\\Users\\khrik\\AppData\\Local\\Temp\\ipykernel_672\\721072957.py:4: SettingWithCopyWarning: \n",
      "A value is trying to be set on a copy of a slice from a DataFrame.\n",
      "Try using .loc[row_indexer,col_indexer] = value instead\n",
      "\n",
      "See the caveats in the documentation: https://pandas.pydata.org/pandas-docs/stable/user_guide/indexing.html#returning-a-view-versus-a-copy\n",
      "  df['predito'] = reglog.predict(df)\n"
     ]
    },
    {
     "data": {
      "text/html": [
       "<div>\n",
       "<style scoped>\n",
       "    .dataframe tbody tr th:only-of-type {\n",
       "        vertical-align: middle;\n",
       "    }\n",
       "\n",
       "    .dataframe tbody tr th {\n",
       "        vertical-align: top;\n",
       "    }\n",
       "\n",
       "    .dataframe thead th {\n",
       "        text-align: right;\n",
       "    }\n",
       "</style>\n",
       "<table border=\"1\" class=\"dataframe\">\n",
       "  <thead>\n",
       "    <tr style=\"text-align: right;\">\n",
       "      <th></th>\n",
       "      <th>contagem</th>\n",
       "      <th>predito</th>\n",
       "      <th>pct_doente</th>\n",
       "    </tr>\n",
       "    <tr>\n",
       "      <th>predito</th>\n",
       "      <th></th>\n",
       "      <th></th>\n",
       "      <th></th>\n",
       "    </tr>\n",
       "  </thead>\n",
       "  <tbody>\n",
       "    <tr>\n",
       "      <th>(0.013600000000000001, 0.094]</th>\n",
       "      <td>61</td>\n",
       "      <td>0.054106</td>\n",
       "      <td>0.049180</td>\n",
       "    </tr>\n",
       "    <tr>\n",
       "      <th>(0.094, 0.284]</th>\n",
       "      <td>60</td>\n",
       "      <td>0.164245</td>\n",
       "      <td>0.183333</td>\n",
       "    </tr>\n",
       "    <tr>\n",
       "      <th>(0.284, 0.564]</th>\n",
       "      <td>60</td>\n",
       "      <td>0.430743</td>\n",
       "      <td>0.416667</td>\n",
       "    </tr>\n",
       "    <tr>\n",
       "      <th>(0.564, 0.866]</th>\n",
       "      <td>60</td>\n",
       "      <td>0.736212</td>\n",
       "      <td>0.750000</td>\n",
       "    </tr>\n",
       "    <tr>\n",
       "      <th>(0.866, 0.962]</th>\n",
       "      <td>60</td>\n",
       "      <td>0.913792</td>\n",
       "      <td>0.900000</td>\n",
       "    </tr>\n",
       "  </tbody>\n",
       "</table>\n",
       "</div>"
      ],
      "text/plain": [
       "                               contagem   predito  pct_doente\n",
       "predito                                                      \n",
       "(0.013600000000000001, 0.094]        61  0.054106    0.049180\n",
       "(0.094, 0.284]                       60  0.164245    0.183333\n",
       "(0.284, 0.564]                       60  0.430743    0.416667\n",
       "(0.564, 0.866]                       60  0.736212    0.750000\n",
       "(0.866, 0.962]                       60  0.913792    0.900000"
      ]
     },
     "execution_count": 92,
     "metadata": {},
     "output_type": "execute_result"
    }
   ],
   "source": [
    "#Calibragem\n",
    "\n",
    "# calculo do valor predito\n",
    "df['predito'] = reglog.predict(df)\n",
    "df.head()\n",
    "\n",
    "# calibragem com 5 grupos\n",
    "cat_pred = pd.qcut(df['predito'], 5, duplicates='drop')\n",
    "cat_pred.value_counts().sort_index()\n",
    "\n",
    "group_reg = df.groupby(cat_pred)\n",
    "qualid = group_reg[['flag_doente']].count().rename(columns = {'flag_doente': 'contagem'})\n",
    "qualid\n",
    "\n",
    "# add media do valor predito\n",
    "qualid['predito'] = group_reg['predito'].mean()\n",
    "qualid\n",
    "\n",
    "# add porcentagem de doentes observados\n",
    "qualid['pct_doente'] = group_reg['flag_doente'].mean()\n",
    "qualid"
   ]
  },
  {
   "cell_type": "code",
   "execution_count": 93,
   "metadata": {
    "tags": []
   },
   "outputs": [
    {
     "data": {
      "text/plain": [
       "Text(0.5, 0, 'Grupo')"
      ]
     },
     "execution_count": 93,
     "metadata": {},
     "output_type": "execute_result"
    },
    {
     "data": {
      "image/png": "[encoded data removed]",
      "text/plain": [
       "<Figure size 640x480 with 1 Axes>"
      ]
     },
     "metadata": {},
     "output_type": "display_data"
    }
   ],
   "source": [
    "fig = plt.figure()\n",
    "ax = fig.add_subplot(1, 1, 1)\n",
    "\n",
    "ax = qualid['pct_doente'].plot(label='%Observado')\n",
    "ax = qualid['predito'].plot(label='%Predito')\n",
    "\n",
    "ticks = ax.set_xticks([0, 1, 2, 3, 4])\n",
    "labels = ax.set_xticklabels([1, 2, 3, 4, 5])\n",
    "ax.legend(loc=\"lower right\")\n",
    "ax.set_ylabel('Probabilidade de evento')\n",
    "ax.set_xlabel('Grupo')"
   ]
  },
  {
   "cell_type": "code",
   "execution_count": 94,
   "metadata": {
    "tags": []
   },
   "outputs": [
    {
     "data": {
      "image/png": "[encoded data removed]",
      "text/plain": [
       "<Figure size 640x480 with 1 Axes>"
      ]
     },
     "metadata": {},
     "output_type": "display_data"
    }
   ],
   "source": [
    "# Discriminação\n",
    "\n",
    "from sklearn.metrics import roc_curve\n",
    "from sklearn import metrics\n",
    "from scipy.stats import ks_2samp\n",
    "\n",
    "# calculo curva roc\n",
    "fpr, tpr, thresholds = metrics.roc_curve(df['flag_doente'], df['predito'])\n",
    "\n",
    "plt.figure()\n",
    "lw = 2\n",
    "\n",
    "fpr, tpr, thresholds = metrics.roc_curve(df['flag_doente'], df['predito'])\n",
    "auc_ = metrics.auc(fpr, tpr)\n",
    "plt.plot(fpr, tpr, color='darkorange',\n",
    "         lw=lw, label='ROC curve (area = %0.2f)' % auc_)\n",
    "plt.plot([0, 1], [0, 1], color='navy', lw=lw, linestyle='--')\n",
    "plt.xlim([0.0, 1.0])\n",
    "plt.ylim([0.0, 1.05])\n",
    "plt.xlabel('False Positive Rate')\n",
    "plt.ylabel('True Positive Rate')\n",
    "plt.title('Receiver operating characteristic example')\n",
    "plt.legend(loc=\"lower right\")\n",
    "plt.show()"
   ]
  },
  {
   "cell_type": "code",
   "execution_count": 95,
   "metadata": {
    "tags": []
   },
   "outputs": [
    {
     "data": {
      "text/plain": [
       "Text(0, 0.5, 'Função Distribuição Acumulada')"
      ]
     },
     "execution_count": 95,
     "metadata": {},
     "output_type": "execute_result"
    },
    {
     "data": {
      "image/png": "[encoded data removed]",
      "text/plain": [
       "<Figure size 640x480 with 1 Axes>"
      ]
     },
     "metadata": {},
     "output_type": "display_data"
    }
   ],
   "source": [
    "# curva KS\n",
    "fig = plt.figure()\n",
    "ax = fig.add_subplot(1, 1, 1)\n",
    "\n",
    "score_pop1 = df.loc[df['flag_doente']==1,'predito']\n",
    "ax.plot(np.sort(score_pop1), np.linspace(0, 1, len(score_pop1), endpoint=False), label='Doente')\n",
    "\n",
    "score_pop2 = df.loc[df['flag_doente']!=1,'predito']\n",
    "ax.plot(np.sort(score_pop2), np.linspace(0, 1, len(score_pop2), endpoint=False), label='Saudável')\n",
    "ax.legend()\n",
    "\n",
    "ax.set_xlabel('P')\n",
    "ax.set_ylabel('Função Distribuição Acumulada')"
   ]
  },
  {
   "cell_type": "code",
   "execution_count": 96,
   "metadata": {},
   "outputs": [
    {
     "name": "stdout",
     "output_type": "stream",
     "text": [
      "Acurácia: 80.40%\n",
      "KS: 61.92% \n",
      "AUC: 87.98% \n",
      "GINI: 75.96%\n"
     ]
    }
   ],
   "source": [
    "acc = metrics.accuracy_score(df['flag_doente'], df['predito']>.5)\n",
    "print('Acurácia: {0:.2f}%'.format(acc*100))\n",
    "\n",
    "#AUC\n",
    "fpr, tpr, thresholds = metrics.roc_curve(df['flag_doente'], df['predito'])\n",
    "auc_ = metrics.auc(fpr, tpr)\n",
    "#Gini\n",
    "gini = 2*auc_ -1\n",
    "#KS\n",
    "ks = ks_2samp(df.loc[df['flag_doente'] == 1, 'predito'], df.loc[df['flag_doente'] != 1, 'predito']).statistic\n",
    "\n",
    "print('KS: {0:.2f}% \\nAUC: {1:.2f}% \\nGINI: {2:.2f}%'\n",
    "      .format(ks*100, auc_*100, gini*100))"
   ]
  },
  {
   "cell_type": "markdown",
   "metadata": {},
   "source": [
    "- Esta foi a melhor combinação de variáveis até então: (\" flag_doente ~ sex + C(cp) + trestbps + age + C(thal) \"\n",
    "- Os valores dos parâmetros subiram apesar de algumas classes das variáveis não serem significantes."
   ]
  }
 ],
 "metadata": {
  "kernelspec": {
   "display_name": "Python 3 (ipykernel)",
   "language": "python",
   "name": "python3"
  },
  "language_info": {
   "codemirror_mode": {
    "name": "ipython",
    "version": 3
   },
   "file_extension": ".py",
   "mimetype": "text/x-python",
   "name": "python",
   "nbconvert_exporter": "python",
   "pygments_lexer": "ipython3",
   "version": "3.11.4"
  }
 },
 "nbformat": 4,
 "nbformat_minor": 4
}
